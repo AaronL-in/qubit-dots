{
 "cells": [
  {
   "cell_type": "markdown",
   "metadata": {},
   "source": [
    "# Potential Module Tutorial\n",
    "\n",
    "This tutorial will show you how to use the potential module to load nextnano++ files. It extracts interpolating functions for potentials as well as electric fields. We can use the interpolating objects to predict the potential at a specific location when a certain combination of gate voltages is applied."
   ]
  },
  {
   "cell_type": "markdown",
   "metadata": {},
   "source": [
    "## 1. Load the relevant module\n",
    "\n",
    "The file nextnano_3D takes in a folder of original nextnano++ files, which contains potentials when different gate voltages are applied. It reshapes the original potential files into 3D arrays, and then slices a specific x-y plane of potentials. This 2D slice of potentials is used to construct interpolating functions of potentials and electric fields in this plane.\n",
    "\n",
    "x and y coordinates in the original files are stored in a GridParmeters object."
   ]
  },
  {
   "cell_type": "code",
   "execution_count": 12,
   "metadata": {
    "tags": []
   },
   "outputs": [],
   "source": [
    "import os, sys\n",
    "sys.path.append(os.path.dirname(os.getcwd()))\n",
    "\n",
    "import qudipy.potential.nextnano_3D as nano\n",
    "from qudipy.potential.gridparams import GridParameters"
   ]
  },
  {
   "cell_type": "markdown",
   "metadata": {},
   "source": [
    "## 2. Enter information for interpolation (requires user inputs)\n",
    "\n",
    "We need to specify the name of the folder that contains the nextnano++ files, gate voltages applied, and the z coordinate of the x-y plane."
   ]
  },
  {
   "cell_type": "code",
   "execution_count": 13,
   "metadata": {},
   "outputs": [],
   "source": [
    "# Enter the name of the folder\n",
    "folder = 'nextnanoSims_Small'\n",
    "\n",
    "# Enter voltages of each gate, add/remove lists named as Vx according to the number of gates\n",
    "V1 = [0.1]\n",
    "V2 = [0.2]\n",
    "V3 = [0.2]\n",
    "V4 = [0.2, 0.22, 0.24, 0.25, 0.26]\n",
    "V5 = [0.1]\n",
    "# Put all gate voltages in a list, add/remove Vx to the list accordingly\n",
    "voltages = [V1, V2, V3, V4, V5]\n",
    "\n",
    "# Enter the z coordinate of the x-y plane\n",
    "z = -1"
   ]
  },
  {
   "cell_type": "markdown",
   "metadata": {},
   "source": [
    "## 3. Store x and y coordinates in a GridParameters object"
   ]
  },
  {
   "cell_type": "code",
   "execution_count": 14,
   "metadata": {},
   "outputs": [],
   "source": [
    "# Put all the potential data in a list, where each element is a list of 3 elements: \n",
    "# a list of the gate voltages, a list of potentials, and a tuple of x and y coordinates\n",
    "potentialL = nano.import_folder(folder)\n",
    "coord = potentialL[0][2]\n",
    "x = coord[0]\n",
    "y = coord[1]\n",
    "\n",
    "# Construct a GridParameters object\n",
    "coord_grid = GridParameters(x,y)"
   ]
  },
  {
   "cell_type": "markdown",
   "metadata": {},
   "source": [
    "## 4. Interpolate the potentials as a function of gate voltages and position\n",
    "\n",
    "### 4.1 Obtain the interpolating function"
   ]
  },
  {
   "cell_type": "code",
   "execution_count": 23,
   "metadata": {},
   "outputs": [],
   "source": [
    "potentialL = nano.import_folder(folder)\n",
    "potentialND = nano.group_2D_potential(potentialL, voltages, coord, -1, \"potential\")\n",
    "\n",
    "# interpolating object of the potential\n",
    "potential_interp = nano.interp(potentialND, voltages, coord)"
   ]
  },
  {
   "cell_type": "markdown",
   "metadata": {},
   "source": [
    "### 4.2 Enter gate voltages and x/y coordinates for potential prediction (requires user inputs)\n",
    "\n",
    "We need to specify the position as well as the gate voltages at which we want to make a prediction."
   ]
  },
  {
   "cell_type": "code",
   "execution_count": 24,
   "metadata": {},
   "outputs": [],
   "source": [
    "# Enter voltage of each gate(must be selected from the corresponding list if only one element is in the list)\n",
    "# add/remove lists named as vx according to the number of gates\n",
    "v1 = 0.1\n",
    "v2 = 0.2\n",
    "v3 = 0.2\n",
    "v4 = 0.2\n",
    "v5 = 0.1\n",
    "# Put all gate voltages in a list, add/remove Vx to the list accordingly\n",
    "volt = [v1, v2, v3, v4, v5]\n",
    "\n",
    "# Enter the x coordinate\n",
    "x = 1.0\n",
    "\n",
    "# Enter the y coordinate\n",
    "y = 1.0"
   ]
  },
  {
   "cell_type": "markdown",
   "metadata": {},
   "source": [
    "### 4.3 Predict the potential using the interpolating function"
   ]
  },
  {
   "cell_type": "code",
   "execution_count": 26,
   "metadata": {},
   "outputs": [
    {
     "name": "stdout",
     "output_type": "stream",
     "text": [
      "[2.09005957]\n"
     ]
    }
   ],
   "source": [
    "input_L = []\n",
    "for i in range(len(voltages)):\n",
    "    if len(voltages[i])>1:\n",
    "        input_L.append(volt[i])\n",
    "input_L += [x,y]\n",
    "potential_result = potential_interp(input_L)\n",
    "print(potential_result)"
   ]
  },
  {
   "cell_type": "markdown",
   "metadata": {},
   "source": [
    "## 5. Interpolate the electric fields as a function of gate voltages and position\n",
    "\n",
    "We can also find the electric fields at the position specified above when a specific combination of gate voltages is applied."
   ]
  },
  {
   "cell_type": "code",
   "execution_count": 27,
   "metadata": {},
   "outputs": [
    {
     "name": "stdout",
     "output_type": "stream",
     "text": [
      "[-0.00010375]\n"
     ]
    }
   ],
   "source": [
    "potentialL = nano.import_folder(folder)\n",
    "fieldND = nano.group_2D_potential(potentialL, voltages, coord, -1, \"field\")\n",
    "\n",
    "# interpolating object of the field\n",
    "field_interp = nano.interp(fieldND, voltages, coord)\n",
    "field_result = field_interp(input_L)\n",
    "print(field_result)"
   ]
  },
  {
   "cell_type": "markdown",
   "metadata": {},
   "source": [
    "## 6. Visualize the interpolating objects\n",
    "\n",
    "We can visualize the interpolating objects by ploting the potentials/electric fields predicted along x-axis or y-axis. The horizontal axis of the plot corresponds to the position, while the vertical axis corresponds to potential or field.\n",
    "\n",
    "Suppose the gate voltages applied are the same as above, i.e. [0.1, 0.2, 0.2, 0.2, 0.1].\n",
    "\n",
    "### 6.1 Plotting the interpolating function of the potentials"
   ]
  },
  {
   "cell_type": "code",
   "execution_count": null,
   "metadata": {},
   "outputs": [],
   "source": []
  }
 ],
 "metadata": {
  "kernelspec": {
   "display_name": "Python 3",
   "language": "python",
   "name": "python3"
  },
  "language_info": {
   "codemirror_mode": {
    "name": "ipython",
    "version": 3
   },
   "file_extension": ".py",
   "mimetype": "text/x-python",
   "name": "python",
   "nbconvert_exporter": "python",
   "pygments_lexer": "ipython3",
   "version": "3.7.3"
  }
 },
 "nbformat": 4,
 "nbformat_minor": 2
}
