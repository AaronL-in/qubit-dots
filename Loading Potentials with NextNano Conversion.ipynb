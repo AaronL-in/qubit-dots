{
 "cells": [
  {
   "cell_type": "markdown",
   "metadata": {},
   "source": [
    "# Pre-processing nextnano3D data and loading potentials tutorial\n",
    "\n",
    "This tutorial will show you how to use the potential module to pre-process simulation data from nextnano3D. Specifically take a 3D potnetial lanscape and process the data format to produce 2D slices at a user specified z-coodinate for various control voltages used during the simulation runs. Next the tutorial will show how to the load pre-processed 2D potential files. Finally the tutorial creates a PotentialInterpolator object which allows us to find the potential landscape at arbitrary control voltage values."
   ]
  },
  {
   "cell_type": "markdown",
   "metadata": {},
   "source": [
    "## 1. Load the relevant modules and process the NextNano 3D data\n",
    "\n",
    "First the relavent modules are loaded."
   ]
  },
  {
   "cell_type": "code",
   "execution_count": 1,
   "metadata": {
    "tags": []
   },
   "outputs": [
    {
     "output_type": "stream",
     "name": "stdout",
     "text": [
      "c:\\Users\\zmeri\\Documents\\GitHub\\QuDiPy\\tutorials\n",
      "c:\\Users\\zmeri\\Documents\\GitHub\\QuDiPy\\tutorials\n",
      "c:\\Users\\zmeri\\Documents\\GitHub\\QuDiPy\\qudipy\\potential\\process_nextnano.py\n",
      "c:\\Users\\zmeri\\Documents\\GitHub\\QuDiPy\\qudipy\\potential\\..\n",
      "C:\\Users\\zmeri\\Documents\\GitHub\\QuDiPy\\qudipy\\potential\n",
      "c:\\Users\\zmeri\\Documents\\GitHub\\QuDiPy\\qudipy\\potential\n",
      "c:\\Users\\zmeri\\Documents\\GitHub\\QuDiPy\n",
      "====================================================\n"
     ]
    }
   ],
   "source": [
    "import os, sys\n",
    "sys.path.append(os.path.dirname(os.getcwd()))\n",
    "\n",
    "import qudipy as qd\n",
    "import qudipy.potential as pot\n",
    "\n",
    "import numpy as np\n",
    "import matplotlib.pyplot as plt\n",
    "\n"
   ]
  },
  {
   "source": [
    "# "
   ],
   "cell_type": "markdown",
   "metadata": {}
  },
  {
   "cell_type": "code",
   "execution_count": 2,
   "metadata": {},
   "outputs": [
    {
     "output_type": "stream",
     "name": "stdout",
     "text": [
      "c:\\Users\\zmeri\\Documents\\GitHub\\QuDiPy\\tutorials\n",
      "c:\\Users\\zmeri\\Documents\\GitHub\\QuDiPy/tutorials/QuDiPy tutorial data/Nextnano simulations\n",
      "c:\\Users\\zmeri\\Documents\\GitHub\\QuDiPy/tutorials/QuDiPy tutorial data/Pre-Processed potetnials/Preprocessed_data\n",
      "Importing .coord and .dat data files from \\TEMPLATE_5Gate_Dop_1.358E15_noRGrid_V1_0.100_V2_0.200_V3_0.200_V4_0.200_V5_0.100\\output:\n",
      "Importing .coord and .dat data files from \\TEMPLATE_5Gate_Dop_1.358E15_noRGrid_V1_0.100_V2_0.200_V3_0.200_V4_0.220_V5_0.100\\output:\n",
      "Importing .coord and .dat data files from \\TEMPLATE_5Gate_Dop_1.358E15_noRGrid_V1_0.100_V2_0.200_V3_0.200_V4_0.240_V5_0.100\\output:\n",
      "Importing .coord and .dat data files from \\TEMPLATE_5Gate_Dop_1.358E15_noRGrid_V1_0.100_V2_0.200_V3_0.200_V4_0.250_V5_0.100\\output:\n",
      "Importing .coord and .dat data files from \\TEMPLATE_5Gate_Dop_1.358E15_noRGrid_V1_0.100_V2_0.200_V3_0.200_V4_0.260_V5_0.100\\output:\n"
     ]
    }
   ],
   "source": [
    "# Define the source directory for the nextnano3D simulation data.\n",
    "# input_nextnano = os.path.dirname(os.getcwd()) + '/tutorials/QuDiPy tutorial data/Nextnano simulations'\n",
    "print(os.getcwd())\n",
    "input_nextnano =    os.path.dirname(os.getcwd()) + '/tutorials//QuDiPy tutorial data/Nextnano simulations'\n",
    "output_preprocessed = os.path.dirname(os.getcwd()) + '/tutorials/QuDiPy tutorial data/Pre-processed potentials/Pre-processed_data'\n",
    "# Define a directory location which will contain the pre-processed potential data for a given 2D slice. If this directory doesn't exist currently then it will be created.\n",
    "\n",
    "print(os.path.dirname(os.getcwd()) + '/tutorials/QuDiPy tutorial data/Nextnano simulations')\n",
    "print(os.path.dirname(os.getcwd()) + '/tutorials/QuDiPy tutorial data/Pre-Processed potetnials/Preprocessed_data')\n",
    "\n",
    "'''\n",
    "Note the nextnano file structure:\n",
    "\n",
    "    /simulation_runs\n",
    "        /simulation_run_#_with_ctrl_names/values\n",
    "            /output directory\n",
    "                /data files\n",
    "\n",
    "Data file types to be referenced/imported: .coord, .dat, .fld\n",
    "\n",
    "Index the potetnial list as follows:\n",
    "\n",
    "potential[#] -> returns a list containing [control values, potential data, coordinate data] for the simulation run #.\n",
    "potential[#][0] -> returns the control values\n",
    "potential[#][1] -> returns the potential data\n",
    "potential[#][2] -> returns the coordinate data which is a tuple\n",
    "'''\n",
    "\n",
    "\n",
    "# Import all of the neccessary potential data and meta data for the simulation runs.\n",
    "# Potetnial is a list data type containing nested list.\n",
    "# Each element of the list contains [list of control valuess, list of potential data, 3-tuple of lists for x,y, and z cordinate data].\n",
    "potential = pot.process_nextnano.import_folder(input_nextnano, option=True)"
   ]
  },
  {
   "cell_type": "code",
   "execution_count": 3,
   "metadata": {},
   "outputs": [
    {
     "output_type": "stream",
     "name": "stdout",
     "text": [
      "Converting 3D nextnano simulation data too 2D XY-plane \u001b[1;31;40m potential \u001b[0m data along slice for z = 1.7849641513.\n--------------------\nc:\\Users\\zmeri\\Documents\\GitHub\\QuDiPy\\tutorials\nc:\\Users\\zmeri\\Documents\\GitHub\\QuDiPy\nc:\\Users\\zmeri\\Documents\\GitHub\\QuDiPy/tutorials/QuDiPy tutorial data/Pre-processed potentials/Pre-processed_data_for_slice_1.785e+00\nTrue\n--------------------\nc:\\Users\\zmeri\\Documents\\GitHub\\QuDiPy\\tutorials\nc:\\Users\\zmeri\\Documents\\GitHub\\QuDiPy\nc:\\Users\\zmeri\\Documents\\GitHub\\QuDiPy/tutorials/QuDiPy tutorial data/Pre-processed potentials/Pre-processed_data_for_slice_1.785e+00\nTrue\n--------------------\nc:\\Users\\zmeri\\Documents\\GitHub\\QuDiPy\\tutorials\nc:\\Users\\zmeri\\Documents\\GitHub\\QuDiPy\nc:\\Users\\zmeri\\Documents\\GitHub\\QuDiPy/tutorials/QuDiPy tutorial data/Pre-processed potentials/Pre-processed_data_for_slice_1.785e+00\nTrue\n--------------------\nc:\\Users\\zmeri\\Documents\\GitHub\\QuDiPy\\tutorials\nc:\\Users\\zmeri\\Documents\\GitHub\\QuDiPy\nc:\\Users\\zmeri\\Documents\\GitHub\\QuDiPy/tutorials/QuDiPy tutorial data/Pre-processed potentials/Pre-processed_data_for_slice_1.785e+00\nTrue\n--------------------\nc:\\Users\\zmeri\\Documents\\GitHub\\QuDiPy\\tutorials\nc:\\Users\\zmeri\\Documents\\GitHub\\QuDiPy\nc:\\Users\\zmeri\\Documents\\GitHub\\QuDiPy/tutorials/QuDiPy tutorial data/Pre-processed potentials/Pre-processed_data_for_slice_1.785e+00\nTrue\nConverting 3D nextnano simulation data too 2D XY-plane \u001b[1;31;40m field \u001b[0m data along slice for z = 1.7849641513.\n--------------------\nc:\\Users\\zmeri\\Documents\\GitHub\\QuDiPy\\tutorials\nc:\\Users\\zmeri\\Documents\\GitHub\\QuDiPy\nc:\\Users\\zmeri\\Documents\\GitHub\\QuDiPy/tutorials/QuDiPy tutorial data/Pre-processed potentials/Pre-processed_data_for_slice_1.785e+00\nTrue\n--------------------\nc:\\Users\\zmeri\\Documents\\GitHub\\QuDiPy\\tutorials\nc:\\Users\\zmeri\\Documents\\GitHub\\QuDiPy\nc:\\Users\\zmeri\\Documents\\GitHub\\QuDiPy/tutorials/QuDiPy tutorial data/Pre-processed potentials/Pre-processed_data_for_slice_1.785e+00\nTrue\n--------------------\nc:\\Users\\zmeri\\Documents\\GitHub\\QuDiPy\\tutorials\nc:\\Users\\zmeri\\Documents\\GitHub\\QuDiPy\nc:\\Users\\zmeri\\Documents\\GitHub\\QuDiPy/tutorials/QuDiPy tutorial data/Pre-processed potentials/Pre-processed_data_for_slice_1.785e+00\nTrue\n--------------------\nc:\\Users\\zmeri\\Documents\\GitHub\\QuDiPy\\tutorials\nc:\\Users\\zmeri\\Documents\\GitHub\\QuDiPy\nc:\\Users\\zmeri\\Documents\\GitHub\\QuDiPy/tutorials/QuDiPy tutorial data/Pre-processed potentials/Pre-processed_data_for_slice_1.785e+00\nTrue\n--------------------\nc:\\Users\\zmeri\\Documents\\GitHub\\QuDiPy\\tutorials\nc:\\Users\\zmeri\\Documents\\GitHub\\QuDiPy\nc:\\Users\\zmeri\\Documents\\GitHub\\QuDiPy/tutorials/QuDiPy tutorial data/Pre-processed potentials/Pre-processed_data_for_slice_1.785e+00\nTrue\n"
     ]
    }
   ],
   "source": [
    "\n",
    "# Enter the desired z coordinate to take a crossection of the x-y plane. The slice chosen must be a z-coordinate provdied from the NextNano 3D simulation.\n",
    "# For example take a look at the z-cooranites range and select a desired value.\n",
    "coord = potential[0][2]\n",
    "z = coord[2][62]\n",
    "\n",
    "pot.process_nextnano.write_data(input_nextnano,output_preprocessed, slice=z, f_type=['potential','field'])"
   ]
  },
  {
   "cell_type": "markdown",
   "metadata": {},
   "source": [
    "## 2. Define which files to load and load them\n",
    "\n",
    "We need to specify the name of the folder that contains the potential files as well as the names for each potential file."
   ]
  },
  {
   "cell_type": "code",
   "execution_count": 4,
   "metadata": {},
   "outputs": [
    {
     "output_type": "error",
     "ename": "NameError",
     "evalue": "name 'loaded_data' is not defined",
     "traceback": [
      "\u001b[1;31m---------------------------------------------------------------------------\u001b[0m",
      "\u001b[1;31mNameError\u001b[0m                                 Traceback (most recent call last)",
      "\u001b[1;32m<ipython-input-4-a8fb57253d76>\u001b[0m in \u001b[0;36m<module>\u001b[1;34m\u001b[0m\n\u001b[0;32m     36\u001b[0m \u001b[1;33m\u001b[0m\u001b[0m\n\u001b[0;32m     37\u001b[0m \u001b[1;31m# We can check the fields of the dictionary returned to see what is stored.\u001b[0m\u001b[1;33m\u001b[0m\u001b[1;33m\u001b[0m\u001b[1;33m\u001b[0m\u001b[0m\n\u001b[1;32m---> 38\u001b[1;33m \u001b[0mloaded_data\u001b[0m\u001b[1;33m.\u001b[0m\u001b[0mkeys\u001b[0m\u001b[1;33m(\u001b[0m\u001b[1;33m)\u001b[0m\u001b[1;33m\u001b[0m\u001b[1;33m\u001b[0m\u001b[0m\n\u001b[0m\u001b[0;32m     39\u001b[0m \u001b[1;33m\u001b[0m\u001b[0m\n\u001b[0;32m     40\u001b[0m \u001b[1;31m# now we compare some of the newly created\u001b[0m\u001b[1;33m\u001b[0m\u001b[1;33m\u001b[0m\u001b[1;33m\u001b[0m\u001b[0m\n",
      "\u001b[1;31mNameError\u001b[0m: name 'loaded_data' is not defined"
     ]
    }
   ],
   "source": [
    "# Enter the name of the folder where the potential files are located. \n",
    "# If this argument is not supplied it will assume the current working directory.\n",
    "pot_dir = output_preprocessed + '_for_slice_{:.3e}'.format(z) + '/'\n",
    "\n",
    "\n",
    "# Specify the control voltage names (C#NAME as mentioned above)\n",
    "ctrl_names = ['V1','V2','V3','V4','V5']\n",
    "\n",
    "# Specify the control voltage values you wish to load.\n",
    "# The cartesian product of all these supplied voltages will be loaded and MUST exist in the directory.\n",
    "# V1 = [0.1]\n",
    "# V2 = [0.2, 0.22, 0.24, 0.26]\n",
    "# V3 = [0.2, 0.22, 0.24, 0.26, 0.28]\n",
    "# V4 = [0.2, 0.22, 0.24, 0.26, 0.28, 0.30]\n",
    "# V5 = [0.1]\n",
    "V1 = [0.1]\n",
    "V2 = [0.2]\n",
    "V3 = [0.2]\n",
    "V4 = [0.2, 0.22, 0.24, 0.26]\n",
    "V5 = [0.1]\n",
    "\n",
    "# Add all voltage values to a list\n",
    "ctrl_vals = [V1, V2, V3, V4, V5]    \n",
    "\n",
    "# Now load the potentials for the newly created potential files  \n",
    "# load_files returns a dictionary of all the information loaded\n",
    "# f_type says we are loading potential files (other option is to load electric field files)\n",
    "# f_dir specifies where the files are located\n",
    "# f_dis_units specifies the distance units the files are in. The function will convert the units to [m].\n",
    "# f_pot_units specifies the potential units the files are in. The function will convert the units to [J].\n",
    "loaded_data = pot.load_potentials(ctrl_vals, ctrl_names,\n",
    "                                  f_type='pot', f_dir=pot_dir,\n",
    "                                  f_dis_units='nm', f_pot_units='eV')\n",
    "# Additional keyword arguments are trim_x and trim_y which will trim the loaded potentials \n",
    "# to be only within the bounds specified by trim_x and trim_y\n",
    "\n",
    "# # We can check the fields of the dictionary returned to see what is stored.\n",
    "# loaded_data.keys()\n",
    "\n",
    "# # now we compare some of the newly created\n",
    "# pot_dir = os.path.dirname(os.getcwd()) + '/tutorials/QuDiPy tutorial data/Pre-processed potentials/'\n",
    "# load_data = pot.load_potentials(ctrl_vals, ctrl_names,\n",
    "#                                   f_type='pot', f_dir=pot_dir,\n",
    "#                                   f_dis_units='nm', f_pot_units='eV')\n",
    "\n"
   ]
  },
  {
   "cell_type": "markdown",
   "metadata": {},
   "source": [
    "## 3. Store x and y coordinates in a GridParameters object"
   ]
  },
  {
   "cell_type": "code",
   "execution_count": null,
   "metadata": {},
   "outputs": [],
   "source": [
    "# It's a bit convoluted, but the x and y coordinates are\n",
    "# stored as a named tuple in the dictionary returned from load_files.\n",
    "# With those values, we will build a GridParameters object.\n",
    "coord = loaded_data['coords']\n",
    "x = coord.x\n",
    "y = coord.y\n",
    "\n",
    "# Construct a GridParameters object\n",
    "gparams = pot.GridParameters(x,y)\n",
    "coord.x\n",
    "\n",
    "'''\n",
    "NextNano files might be converted correclty but the current plotting attempt might not display the data correctly.\n",
    "\n",
    "Note: The convert_nextnano_data.py and test_nextnano_convert.py files have different code that pulls in the same nextnano potential, x/y/z data.\n",
    "    It's probably that the incorect potential plots shown in Loading Potentials with NextNano Conversion.ipynb are cause from how the data for        various gates is grouped?\n",
    "'''\n",
    "\n",
    "\n",
    "plt.plot(loaded_data['coords'][0].T,loaded_data['potentials'][0][:].T)\n",
    "plt.show()\n",
    "\n",
    "plt.plot(loaded_data['coords'][1],loaded_data['potentials'][0][:])\n",
    "plt.show()\n"
   ]
  },
  {
   "cell_type": "markdown",
   "metadata": {},
   "source": [
    "## 4. Build the PotentialInterpolator object"
   ]
  },
  {
   "cell_type": "code",
   "execution_count": null,
   "metadata": {},
   "outputs": [],
   "source": [
    "# Now building the interpolation object is trivial.\n",
    "# When building the interpolator, we should pass also a Constants object\n",
    "# which indicates the material system for the potentials.\n",
    "pot_interp = pot.build_interpolator(loaded_data, constants=qd.Constants(\"Si/SiO2\"))\n",
    "\n",
    "# Right now, the interpolator will interpolate 2D potentials. However, this may be \n",
    "# costly for things that do lots of interpolations but you are only interested in \n",
    "# 1D potentials. You can make a 1D interpolator object by specifying the y_slice \n",
    "# keyword argument.\n",
    "# pot_interp = pot.build_interpolator(loaded_data, constants=qd.Constants(\"Si/SiO2\"),\n",
    "#                                     y_slice=0)\n",
    "\n",
    "pot_interp"
   ]
  },
  {
   "cell_type": "markdown",
   "metadata": {},
   "source": [
    "## 5. Do some potential interpolation (with lots of plotting examples)\n",
    "Now let's show how we can actually use this object to do interpolation."
   ]
  },
  {
   "cell_type": "code",
   "execution_count": null,
   "metadata": {},
   "outputs": [],
   "source": [
    "# Define a voltage vector you wish to interpolate the potential at\n",
    "v_vec = [0.1, 0.2, 0.2, 0.23, 0.1]\n",
    "# As a note.. You can also ignore the singleton dimensions we defining the voltage vector\n",
    "# i.e. v_vec = [0.2, 0.23, 0.2]\n",
    "pot_interp(v_vec)"
   ]
  },
  {
   "cell_type": "markdown",
   "metadata": {},
   "source": [
    "You can see what is returned is the 2D potential landscape of the device in meshgrid format (y,x). The PotentialInterpolator object has a nice plot method we can use to see how the interpolated potentials look and that everything makes sense."
   ]
  },
  {
   "cell_type": "code",
   "execution_count": null,
   "metadata": {},
   "outputs": [],
   "source": [
    "# First we will do an interpolation and look at the 2D potential\n",
    "# Notice how I am only using 3 voltage values now when I interpolate\n",
    "# instead of 5 as I was earlier.\n",
    "v_vec = [0.2]\n",
    "# Plot the 2D potential\n",
    "pot_interp.plot(v_vec)\n",
    "# Now I will show you how you can view just 1D slices of the potential.\n",
    "# Get a 1D slice of the potential along y=0 axis.\n",
    "pot_interp.plot(v_vec,plot_type='1D')\n",
    "# Get a 1D slice of the potential along y=10 nm axis\n",
    "pot_interp.plot(v_vec, plot_type='1D',y_slice=10E-9)\n",
    "# Get a 1D slice of the potential along y=65 nm axis and a 1D slice along x=0 nm axis\n",
    "pot_interp.plot(v_vec, plot_type='1D',y_slice=65E-9,x_slice=0)\n",
    "# Get a 1D slice of the potential along y=0 nm axis and a 1D slice along x=60 nm axis.\n",
    "pot_interp.plot(v_vec, plot_type='1D',x_slice=60E-9)\n",
    "\n",
    "# .plot() also has show_wf and wf_n flags which will display the nth wavefunction with the potential\n",
    "# Plot the 2D potential and show the ground state wf\n",
    "pot_interp.plot(v_vec, show_wf=True) # pot_interp.plot(v_vec, show_wf=True, wf_n=0) would plot the same thing\n",
    "# Get a 1D slice of the potential along y=0 nm axis and a 1D slice along x=0 nm axis.\n",
    "# Overlay the 3rd excited wavefunction (4th lowest energy state)\n",
    "pot_interp.plot(v_vec, plot_type='1D',x_slice=0, show_wf=True, wf_n=0)\n",
    "pot_interp.plot(v_vec, plot_type='1D',x_slice=0, show_wf=True, wf_n=3)"
   ]
  },
  {
   "cell_type": "markdown",
   "metadata": {},
   "source": [
    "These potentials look like what we expect from the nextnano simulations.  Let's do a few more plots though of the potential at different gate voltages to check that the interpolator actually varies the potential correctly."
   ]
  },
  {
   "cell_type": "code",
   "execution_count": null,
   "metadata": {},
   "outputs": [],
   "source": [
    "# Let's do 4 different interpolations\n",
    "v_vec1 = [0.2]\n",
    "v_vec2 = [0.23]\n",
    "v_vec3 = [0.24]\n",
    "v_vec4 = [0.25]\n",
    "\n",
    "pot_interp.plot(v_vec1,plot_type='1D')\n",
    "pot_interp.plot(v_vec2,plot_type='1D')\n",
    "pot_interp.plot(v_vec3,plot_type='1D')\n",
    "pot_interp.plot(v_vec4,plot_type='1D')"
   ]
  },
  {
   "cell_type": "markdown",
   "metadata": {},
   "source": [
    "The potentials are changing exactly as we would expect. Great!\n",
    "\n",
    "As a last note before concluding the tutorial, notice that if we call voltage values outside of the range of values we loaded, the interpolator object will throw an error."
   ]
  },
  {
   "cell_type": "code",
   "execution_count": null,
   "metadata": {},
   "outputs": [],
   "source": [
    "# v_vec = [0.1, 0.26, 0.29, 0.3, 0.1] # .29 is out range\n",
    "# pot_interp(v_vec)"
   ]
  },
  {
   "source": [
    "## 6. Creating Analytical potentials\n",
    "\n",
    "Sometimes we would like to create an analytical potential (e.g. for testing purposes). You can create this by using the `analytical_potential` function.  \n",
    "\n",
    "To create such a potential, perform the following steps:\n",
    "\n",
    "1. Create the control names and control values as we would for a potential generated by nextnano. \n",
    "2. Define a function that maps out the potential in space for given values of the control variables. The potential defining function must take exactly two variables: control variable values and a GridParameters object.\n",
    "3. Specify the `x` and `y` values that will create our grid points for the potential.\n",
    "4. Pass the control values, the control names, the potential defining fucntion and the x and y values to the `analytical_potential` function. This function will return an analytical potential that can be used an input for the `build_interpolator` function. \n",
    "5. Pass the output of the `analytical_potential` function to the `build_interpolator` function. This potential interpolator then behaves in the same way as described earlier in the tutorial.\n",
    "\n",
    "For an example of an analytical potential being generated and used, see below."
   ],
   "cell_type": "markdown",
   "metadata": {}
  },
  {
   "cell_type": "code",
   "execution_count": null,
   "metadata": {},
   "outputs": [],
   "source": [
    "# 1. Create control voltage names and variables the same way you would normally do\n",
    "ctrl_names = ['V1','V2']\n",
    "\n",
    "V1 = [0.2, 0.22, 0.24, 0.26]\n",
    "V2 = [0.2, 0.22, 0.24, 0.26, 0.28]\n",
    "\n",
    "ctrl_vals = [V1, V2]\n",
    "\n",
    "# 2. Create the function which defines the potential, with the control variables as the \n",
    "# first argument and a GridParameters object as the second argument\n",
    "\n",
    "# Specify some constants for the potential\n",
    "dot_sep = 150e-9\n",
    "consts=qd.Constants(\"Si/SiO2\")\n",
    "def create_potentials(cvals, gparams):\n",
    "    # Get coordinates from mesh\n",
    "    x_pot = gparams.x_mesh\n",
    "    y_pot = gparams.y_mesh\n",
    "\n",
    "    # Get voltages out from the control valriables\n",
    "    v_1 = cvals[0]\n",
    "    v_2 = cvals[1]\n",
    "\n",
    "    # Convert (linear conversion) from voltages to chemical potentials\n",
    "    # This is just a linear relationship with a dummy lever arm\n",
    "    lever_arm_1 = 1\n",
    "    mu_1 = v_1 * lever_arm_1 * consts.e\n",
    "    lever_arm_2 = 1\n",
    "    mu_2 = v_2 * lever_arm_2 * consts.e\n",
    "\n",
    "    # Define frequency of harmonic oscillators\n",
    "    omega_1 = 5e12\n",
    "    omega_2 = 5e12\n",
    "\n",
    "    # Define the potential\n",
    "    well_1 = 1/2 * consts.me * omega_1**2 * (np.square(x_pot + dot_sep) + np.square(y_pot)) - mu_1\n",
    "    well_2 = 1/2 * consts.me * omega_2**2 * (np.square(x_pot - dot_sep) + np.square(y_pot)) - mu_2\n",
    "    potential = np.minimum(well_1, well_2)\n",
    "    return potential\n",
    "\n",
    "# 3. Specify the x and y points you would like to have in a grid\n",
    "x = np.arange(-2 * dot_sep, 2 * dot_sep, dot_sep/30)\n",
    "y = np.arange(-2 * dot_sep, 2 * dot_sep, dot_sep/30)\n",
    "\n",
    "# 4. Get the analytical potential using \n",
    "analytic_potential = pot.analytical_potential(ctrl_vals, ctrl_names, create_potentials, x, y)\n",
    "\n",
    "# 5. Pass analytical_potential to build_interpolator\n",
    "# This behaves exactly like any other potential interpolator\n",
    "an_pot_interp = pot.build_interpolator(analytic_potential, constants=qd.Constants(\"Si/SiO2\"))\n",
    "\n",
    "# Now specify the potentials to interpolate around\n",
    "v_vec = [0.23, 0.25]\n",
    "\n",
    "# Plot the 2D potential\n",
    "an_pot_interp.plot(v_vec)\n",
    "\n",
    "# Plot various 1D slices, one with a ground state wavefunction probability\n",
    "an_pot_interp.plot(v_vec, plot_type='1D', y_slice=0, show_wf=True)\n",
    "\n",
    "# When we swap the gate voltages and plot the wavefunction, we can see that it has the intended effect of \n",
    "# moving the location of the ground state of the electron wavefunction\n",
    "v_vec = [0.25, 0.23]\n",
    "an_pot_interp.plot(v_vec, plot_type='1D', y_slice=0, show_wf=True)\n"
   ]
  }
 ],
 "metadata": {
  "kernelspec": {
   "name": "python3",
   "display_name": "Python 3.8.3 64-bit ('base': conda)"
  },
  "language_info": {
   "codemirror_mode": {
    "name": "ipython",
    "version": 3
   },
   "file_extension": ".py",
   "mimetype": "text/x-python",
   "name": "python",
   "nbconvert_exporter": "python",
   "pygments_lexer": "ipython3",
   "version": "3.8.3"
  },
  "interpreter": {
   "hash": "e3145dc9b2a53ea5ac2494bc3b75f1aa28628e1ed5acacda692ef3a5045a8456"
  }
 },
 "nbformat": 4,
 "nbformat_minor": 2
}