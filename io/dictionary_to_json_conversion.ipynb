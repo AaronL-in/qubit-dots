{
 "cells": [
  {
   "cell_type": "code",
   "execution_count": 1,
   "metadata": {},
   "outputs": [],
   "source": [
    "#Import all necessary modules\n",
    "import os\n",
    "import sys\n",
    "import json"
   ]
  },
  {
   "cell_type": "code",
   "execution_count": 2,
   "metadata": {},
   "outputs": [],
   "source": [
    "#Reads x, y, z coordinates from the file\n",
    "def read_coordinates(filename): #specify the full path of the .coord file to be read\n",
    "    coordinate_list = []\n",
    "    fulllist = []\n",
    "    with open(filename,\"r\") as f:\n",
    "        line_list = f.readlines()\n",
    "        for line in line_list:\n",
    "            if (line.isspace()): #x, y and z coordinate arrays are seperated by blank space between rows\n",
    "                fulllist.append(coordinate_list)\n",
    "                coordinate_list = []\n",
    "            else:\n",
    "                for coord_i in line.split():\n",
    "                    coordinate_list.append(float(coord_i))\n",
    "        if (f.read() == ''): #indicates that we have reached the end of the file\n",
    "            fulllist.append(coordinate_list)\n",
    "    return fulllist"
   ]
  },
  {
   "cell_type": "code",
   "execution_count": 3,
   "metadata": {},
   "outputs": [],
   "source": [
    "#Finds the units in which coordinate grid is defined\n",
    "def read_distance_units(filename): #specify the full path of the grid_x/y/z.dat file to be read\n",
    "    with open(filename,\"r\") as f:\n",
    "        line_list = f.readlines()\n",
    "        for word in line_list[0].split():\n",
    "            if (word[:8] == 'Position'): #the distance unit is mentioned as Position(unit) in .dat file\n",
    "                unit = word[-3:-1]\n",
    "    return unit"
   ]
  },
  {
   "cell_type": "code",
   "execution_count": 4,
   "metadata": {},
   "outputs": [],
   "source": [
    "#Reads 3D Potential data\n",
    "def read_potential(filename): #specify the full path of the .dat file to be read\n",
    "    potential = []\n",
    "    with open(filename,\"r\") as f:\n",
    "        line_list = f.readlines()\n",
    "        for line in line_list:\n",
    "            for coord_i in line.split():\n",
    "                potential.append(coord_i)\n",
    "    return potential"
   ]
  },
  {
   "cell_type": "code",
   "execution_count": 5,
   "metadata": {},
   "outputs": [],
   "source": [
    "#Reads control values, control names and voltage units for a run from .log file \n",
    "def read_logfile(filename, search_phrase = 'STARTING CALCULATION FOR BIAS POINT'): #specify the full path of the .log file to be read\n",
    "    with open(filename,\"r\") as f:\n",
    "        line_list = f.readlines()\n",
    "        for i, line in enumerate(line_list):\n",
    "            if (search_phrase in line):\n",
    "                dump_in = [word for word in line_list[i + 1].split()]\n",
    "                #the voltage for each gate is in the form ctrl_name, ctrl_value, unit \n",
    "                control_names = [(dump_in[i]) for i in range (1, len(dump_in), 3)]\n",
    "                gate_voltages = [float(dump_in[i]) for i in range (2, len(dump_in), 3)]\n",
    "                voltage_unit = [(dump_in[i]) for i in range (3, len(dump_in), 3)]\n",
    "                if (len(set(voltage_unit)) == 1):  #checks if voltages in all gates are given in same units or not\n",
    "                    voltage_unit = voltage_unit[0]\n",
    "    return tuple(gate_voltages), control_names, voltage_unit"
   ]
  },
  {
   "cell_type": "code",
   "execution_count": 6,
   "metadata": {},
   "outputs": [],
   "source": [
    "#The user only needs to use this function, the functions defined above are the helper functions for SimulationReader\n",
    "#Returns a dictionary that contains control names, control values, coordinates, potential data, distance units and potential units\n",
    "def load_nextnano_data(directory): #specify the full path of the  directory which contains the simulation files\n",
    "    datadictionary = {} \n",
    "    potential_data_gate_voltages_run = {}\n",
    "    gatevoltages = []\n",
    "    for folders in os.scandir(directory):\n",
    "        next_directory = os.path.join(directory, folders.name)\n",
    "        for logfile in (os.listdir(next_directory)):\n",
    "            if (logfile[-3:] == 'log'):\n",
    "                logfile_path = os.path.join(next_directory, logfile)\n",
    "                gate_voltages, control_names, voltage_unit = read_logfile(logfile_path)\n",
    "                gatevoltages.append(gate_voltages)\n",
    "        if ('output' in logfile):\n",
    "            next_next_directory = os.path.join(next_directory, 'output')\n",
    "            filename = os.path.join(next_next_directory, 'grid_x.dat') #assuming x, y, z coordinates are defined in same units\n",
    "            if ((os.path.isfile(filename))):\n",
    "                distance_units = read_distance_units(filename)\n",
    "            for sub_subfolders in os.scandir(next_next_directory):\n",
    "                if (sub_subfolders.name[:4] == 'bias' and sub_subfolders.name[-3:] != 'log'):\n",
    "                    next_next_next_directory = os.path.join(next_next_directory, sub_subfolders.name)\n",
    "                    for datafiles in os.listdir(next_next_next_directory):\n",
    "                        if (datafiles == 'potential.coord'):\n",
    "                            datafiles_path = os.path.join(next_next_next_directory, datafiles)\n",
    "                            coordinates = read_coordinates(datafiles_path) \n",
    "                        if (datafiles == 'potential.dat'):\n",
    "                            datafiles_path = os.path.join(next_next_next_directory, datafiles)\n",
    "                            potential = read_potential(datafiles_path)\n",
    "                            potential_data_gate_voltages_run[str(gate_voltages)] = potential\n",
    "    #the coordinate grid and control names are same for all runs within a simulation, so store them only once\n",
    "    datadictionary = {'control_names' : control_names, 'control_values' : gatevoltages, 'coordinates' : coordinates, 'potential_data' : potential_data_gate_voltages_run, 'distance_units' : distance_units, 'voltage_units' : voltage_unit}\n",
    "    #DataDictionary is in a format suitable to be directly converted to a .json file, its a regular python dictionary\n",
    "    return datadictionary"
   ]
  },
  {
   "cell_type": "code",
   "execution_count": 7,
   "metadata": {},
   "outputs": [],
   "source": [
    "#saves the dictionary containing nextnano data returned by load_nextnano_data to a json file into a user specified directory destination_folder, under the name json_filename\n",
    "def save_nextnano_data(directory, json_filename, destination_folder, overwrite = False, save_version = False):\n",
    "    datadictionary = load_nextnano_data(directory)\n",
    "    if json_filename in os.listdir(destination_folder):\n",
    "        #display error message if a file with the same name already exists in the specified folder \n",
    "        if not overwrite:\n",
    "            print('Warning, a file with the same name already exists in the directory')\n",
    "        #if the user explicitly prefers to overwrite the old file with the same name, previous file is replaced with the new file\n",
    "        else:\n",
    "            filepath = os.path.join(destination_folder, json_filename)         \n",
    "            with open(filepath, 'w') as json_file:\n",
    "                json.dump(datadictionary, json_file)\n",
    "    else:\n",
    "        filepath = os.path.join(destination_folder, json_filename)         \n",
    "        with open(filepath, 'w') as json_file:\n",
    "            json.dump(datadictionary, json_file)"
   ]
  },
  {
   "cell_type": "code",
   "execution_count": 8,
   "metadata": {},
   "outputs": [],
   "source": [
    "#Loads the saved json files containing nextnano data from the folder specified by the user\n",
    "def process_nextnano_data(json_filename, destination_folder):\n",
    "    filepath = os.path.join(destination_folder, json_filename)\n",
    "    #checks if a file with the specified name exists in the folder destination_folder and loads it\n",
    "    if json_filename in os.listdir(destination_folder):\n",
    "        open_json = open(filepath)\n",
    "        json_file = json.load(open_json)\n",
    "        return json_file\n",
    "    #raise an error message if file does not exist in the destination_folder\n",
    "    else:\n",
    "        print('No such file exists in the directory : ', destination_folder)"
   ]
  },
  {
   "cell_type": "code",
   "execution_count": null,
   "metadata": {},
   "outputs": [],
   "source": []
  }
 ],
 "metadata": {
  "kernelspec": {
   "display_name": "Python 3.10.5 ('Qudipy')",
   "language": "python",
   "name": "python3"
  },
  "language_info": {
   "codemirror_mode": {
    "name": "ipython",
    "version": 3
   },
   "file_extension": ".py",
   "mimetype": "text/x-python",
   "name": "python",
   "nbconvert_exporter": "python",
   "pygments_lexer": "ipython3",
   "version": "3.10.5"
  },
  "orig_nbformat": 4,
  "vscode": {
   "interpreter": {
    "hash": "5a62cc25f43c32efe5794b28a8362dfbc4e5e17014b08ff2fcea8c89df8eaab0"
   }
  }
 },
 "nbformat": 4,
 "nbformat_minor": 2
}
