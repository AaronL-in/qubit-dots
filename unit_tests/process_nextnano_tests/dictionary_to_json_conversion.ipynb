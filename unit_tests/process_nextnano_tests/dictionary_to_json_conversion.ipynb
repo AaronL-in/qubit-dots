{
 "cells": [
  {
   "cell_type": "code",
   "execution_count": 1,
   "metadata": {},
   "outputs": [],
   "source": [
    "#Import all necessary modules\n",
    "import os\n",
    "import sys\n",
    "import json"
   ]
  },
  {
   "cell_type": "code",
   "execution_count": 2,
   "metadata": {},
   "outputs": [],
   "source": [
    "#Reads x, y, z coordinates from the file\n",
    "def ReadCoordinates(filename): #specify the full path of the .coord file to be read\n",
    "    coordinate_list = []\n",
    "    fulllist = []\n",
    "    with open(filename,\"r\") as f:\n",
    "        line_list = f.readlines()\n",
    "        for line in line_list:\n",
    "            if (line.isspace()): #x, y and z coordinate arrays are seperated by a blank space between rows\n",
    "                fulllist.append(coordinate_list)\n",
    "                coordinate_list = []\n",
    "            else:\n",
    "                for coord_i in line.split():\n",
    "                    coordinate_list.append(float(coord_i))\n",
    "        if (f.read() == ''): #indicates that we have reached the end of the file\n",
    "            fulllist.append(coordinate_list)\n",
    "    return fulllist"
   ]
  },
  {
   "cell_type": "code",
   "execution_count": 3,
   "metadata": {},
   "outputs": [],
   "source": [
    "#Finds the units in which coordinate grid is defined\n",
    "def ReadDistanceUnits(filename): #specify the full path of the grid_x/y/z.dat file to be read\n",
    "    with open(filename,\"r\") as f:\n",
    "        line_list = f.readlines()\n",
    "        for word in line_list[0].split():\n",
    "            if (word[:8] == 'Position'): #the distance unit is mentioned as Position(unit) in .dat file\n",
    "                unit = word[-3:-1]\n",
    "    return unit"
   ]
  },
  {
   "cell_type": "code",
   "execution_count": 4,
   "metadata": {},
   "outputs": [],
   "source": [
    "#Reads 3D Potential data\n",
    "def ReadPotential(filename): #specify the full path of the .dat file to be read\n",
    "    Potential = []\n",
    "    with open(filename,\"r\") as f:\n",
    "        line_list = f.readlines()\n",
    "        for line in line_list:\n",
    "            for coord_i in line.split():\n",
    "                Potential.append(coord_i)\n",
    "    return Potential"
   ]
  },
  {
   "cell_type": "code",
   "execution_count": 5,
   "metadata": {},
   "outputs": [],
   "source": [
    "#Reads control values, control names and voltage units for a run from .log file \n",
    "def ReadLog(filename, search_phrase = 'STARTING CALCULATION FOR BIAS POINT'): #specify the full path of the .log file to be read\n",
    "    with open(filename,\"r\") as f:\n",
    "        line_list = f.readlines()\n",
    "        for i, line in enumerate(line_list):\n",
    "            if (search_phrase in line):\n",
    "                dump_in = [word for word in line_list[i + 1].split()]\n",
    "                #the voltage for each gate is in the form ctrl_name, ctrl_value, unit \n",
    "                Control_names = [(dump_in[i]) for i in range (1, len(dump_in), 3)]\n",
    "                Gate_voltages = [float(dump_in[i]) for i in range (2, len(dump_in), 3)]\n",
    "                Voltage_unit = [(dump_in[i]) for i in range (3, len(dump_in), 3)]\n",
    "                if (len(set(Voltage_unit)) == 1):  #checks if all gate voltages are given in same units or not\n",
    "                    Voltage_unit = Voltage_unit[0]\n",
    "    return tuple(Gate_voltages), Control_names, Voltage_unit"
   ]
  },
  {
   "cell_type": "code",
   "execution_count": 7,
   "metadata": {},
   "outputs": [],
   "source": [
    "#The user would onl needs this function, the functions defined above are helper functions for SimulationReader\n",
    "#Returns a dictionary that contains control names, control values, coordinates, potential data, distance units and potential units\n",
    "def SimulationReader(directory): #specify the full path of the  directory which contains the simulation files\n",
    "    DataDictionary = {} \n",
    "    Potential_data_Gate_voltages_run = {}\n",
    "    GateVoltages = []\n",
    "    for folders in os.scandir(directory):\n",
    "        next_directory = os.path.join(directory, folders.name)\n",
    "        for logfile in (os.listdir(next_directory)):\n",
    "            if (logfile[-3:] == 'log'):\n",
    "                logfile_path = os.path.join(next_directory, logfile)\n",
    "                Gate_voltages, Control_names, Voltage_unit = ReadLog(logfile_path)\n",
    "                GateVoltages.append(Gate_voltages)\n",
    "        if ('output' in logfile):\n",
    "            next_next_directory = os.path.join(next_directory, 'output')\n",
    "            filename = os.path.join(next_next_directory, 'grid_x.dat') #assuming x, y, z coordinates are defined in same units\n",
    "            if ((os.path.isfile(filename))):\n",
    "                distance_units = ReadDistanceUnits(filename)\n",
    "            for sub_subfolders in os.scandir(next_next_directory):\n",
    "                if (sub_subfolders.name[:4] == 'bias' and sub_subfolders.name[-3:] != 'log'):\n",
    "                    next_next_next_directory = os.path.join(next_next_directory, sub_subfolders.name)\n",
    "                    for datafiles in os.listdir(next_next_next_directory):\n",
    "                        if (datafiles == 'potential.coord'):\n",
    "                            datafiles_path = os.path.join(next_next_next_directory, datafiles)\n",
    "                            Coordinates = ReadCoordinates(datafiles_path) \n",
    "                        if (datafiles == 'potential.dat'):\n",
    "                            datafiles_path = os.path.join(next_next_next_directory, datafiles)\n",
    "                            Potential = ReadPotential(datafiles_path)\n",
    "                            Potential_data_Gate_voltages_run[str(Gate_voltages)] = Potential #avoid str if we are not converting the dictionary to a json file\n",
    "    #the coordinate grid and control names are same for all runs within a simulation, so store them only once\n",
    "    DataDictionary = {'ControlNames' : Control_names, 'ControlValues' : GateVoltages, 'Coordinates' : Coordinates, 'PotentialData' : Potential_data_Gate_voltages_run, 'DistanceUnits' : distance_units, 'VoltageUnits' : Voltage_unit}\n",
    "    #DataDictionary is in a format suitable to be directly converted to a .json file, its a regular python dictionary\n",
    "    #Uncomment the next two lines and return json_loadedfile to enable conversion to a json file within the function, but this might create memory issues and may crash the program. Its safer to do the conversion outside the function\n",
    "    #DataDictionary_Jsonfile = json.dumps(DataDictionary)\n",
    "    #json_loadedfile = json.loads(DataDictionary_Jsonfile)\n",
    "    return DataDictionary, #json_loadedfile"
   ]
  },
  {
   "cell_type": "code",
   "execution_count": null,
   "metadata": {},
   "outputs": [],
   "source": []
  }
 ],
 "metadata": {
  "kernelspec": {
   "display_name": "Python 3.10.5 ('Qudipy')",
   "language": "python",
   "name": "python3"
  },
  "language_info": {
   "codemirror_mode": {
    "name": "ipython",
    "version": 3
   },
   "file_extension": ".py",
   "mimetype": "text/x-python",
   "name": "python",
   "nbconvert_exporter": "python",
   "pygments_lexer": "ipython3",
   "version": "3.10.5"
  },
  "orig_nbformat": 4,
  "vscode": {
   "interpreter": {
    "hash": "5a62cc25f43c32efe5794b28a8362dfbc4e5e17014b08ff2fcea8c89df8eaab0"
   }
  }
 },
 "nbformat": 4,
 "nbformat_minor": 2
}
