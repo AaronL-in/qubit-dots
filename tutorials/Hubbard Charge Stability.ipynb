{
 "metadata": {
  "language_info": {
   "codemirror_mode": {
    "name": "ipython",
    "version": 3
   },
   "file_extension": ".py",
   "mimetype": "text/x-python",
   "name": "python",
   "nbconvert_exporter": "python",
   "pygments_lexer": "ipython3",
   "version": "3.8.1-final"
  },
  "orig_nbformat": 2,
  "kernelspec": {
   "name": "python3",
   "display_name": "Python 3.8.1 64-bit",
   "metadata": {
    "interpreter": {
     "hash": "058d054c375daf74e729527addb619dbfb1e0ce7bd79f43f713ba6107fb3fbb8"
    }
   }
  }
 },
 "nbformat": 4,
 "nbformat_minor": 2,
 "cells": [
  {
   "cell_type": "markdown",
   "source": [
    "# QuDiPy tutorial: Hubbard model charge stability diagrams\n",
    "\n",
    "This tutorial will show how to use the charge stability module to generate a charge stability diagram using the constant interaction model and then perform the Hough transformation.\n",
    "\n",
    "In order for the file to not be too large, the output of the cells has been cleared so you will need to run the cells on your local machine to see the output.\n",
    "\n",
    "## 1. Add the current location to path\n",
    "In order for this tutorial to work, you will need to run this from the tutorials folder."
   ],
   "metadata": {}
  },
  {
   "cell_type": "code",
   "execution_count": null,
   "source": [
    "import os, sys\r\n",
    "sys.path.append(os.path.dirname(os.getcwd()))"
   ],
   "outputs": [],
   "metadata": {}
  },
  {
   "cell_type": "markdown",
   "source": [
    "## 2. Import the relevant modules and set plotting parameters"
   ],
   "metadata": {}
  },
  {
   "cell_type": "code",
   "execution_count": null,
   "source": [
    "#From module\r\n",
    "import qudipy.chargestability.csd_hubbard as hub\r\n",
    "import qudipy.chargestability.csd_analysis as an\r\n",
    "\r\n",
    "#For plotting\r\n",
    "import matplotlib.pyplot as plt\r\n",
    "\r\n",
    "#Makes plots bigger (optional)\r\n",
    "%matplotlib inline \r\n",
    "plt.rcParams['figure.figsize'] = [12, 9]"
   ],
   "outputs": [],
   "metadata": {}
  },
  {
   "cell_type": "markdown",
   "source": [
    "## 3. Initialize the Hubbard model object\n",
    "\n",
    "In order to initialize the charge stability object, we need to specify a few different parameters:  \n",
    "- Number of sites: how many dots are in the system.  \n",
    "- Number of electrons: maximum number of electrons that can be in the system at any point. Must not be greater than 2 times the number of sites since all electrons are taken to be in the ground state in this model.  \n",
    "- Capacitance matrix: Dimensionless matrix with converts from gate voltages to chemical potentials on individual dots. Must be an (number of sites) by (number of sites) sized matrix.  \n",
    "- Parameters: Dictionary which contains all the other parameters which define a particular quantum dot system. If a parameter that is expected is not specified, the code will treat it as 0 (this can be convenient in cases where some dots are decoupled from others in the system). There are two types of terms which are described below:\n",
    "     - U_ij: Direct electrostatic repulsion between site i and j. If i=j, then this is considered to be the self repulsion on dot in i. Units are in meV.\n",
    "     - t_ij: Tunnel coupling between site i and j. Will only be taken into account when a transition of this type (i.e without spin flip) is possible. Unit are in meV.\n",
    "\n"
   ],
   "metadata": {}
  },
  {
   "cell_type": "code",
   "execution_count": null,
   "source": [
    "# Number of sites\r\n",
    "n_sites = 2\r\n",
    "# Number of electrons\r\n",
    "n_electrons = 4\r\n",
    "# Pamameters\r\n",
    "params = {'U_11':8.36 * 1E-3, 'U_22':9.38 * 1E-3, 'U_12':2.6 * 1E-3, 't_12':0.3 * 1E-3} \r\n",
    "\r\n",
    "## To generate the capacitance matrix\r\n",
    "\r\n",
    "# These particular formulas for alpha_i are derived from the constant interaction model\r\n",
    "alpha_1 = (params['U_22'] - params['U_12'])*params['U_11'] / (params['U_11']*params['U_22'] - params['U_12']**2)\r\n",
    "alpha_2 = (params['U_11'] - params['U_12'])*params['U_22'] / (params['U_11']*params['U_22'] - params['U_12']**2)\r\n",
    "\r\n",
    "cap_matrix = [[alpha_1,1-alpha_1],[1-alpha_2,alpha_2]]\r\n",
    "\r\n",
    "# Generate charge stability diagram\r\n",
    "hub_csd = hub.HubbardCSD(n_sites, n_electrons, cap_matrix, h_mu=True, h_t=False, h_u=True, param_dict=params)"
   ],
   "outputs": [],
   "metadata": {}
  },
  {
   "cell_type": "markdown",
   "source": [
    "## 4. Generate charge stability diagram\n",
    "\n",
    "Now that we have initialized the object with all the parameters required, we can plot the charge stability diagram. In order to plot the charge stability diagram, we need to specify a few things as well:  \n",
    "- Intital charge configuration: A list which specifies the initial voltage of all the gates in the system. Must be the same length as the number of dots in the system.\n",
    "- Index of gate voltages to sweep: Since the charge stability diagram is a two dimensional plot with 2 gate voltages, we must specify which two voltages to sweep. In order to do this, we specify the index of the two voltages we want to sweep from the initial charge configuration.\n",
    "- Final voltages of gates swept: These last two parameters specify the final voltages of two gates we wanted to sweep to generate the charge stability diagram.\n",
    "  \n",
    "This will not plot the charge stability diagram, only generate the data that populates it.\n",
    " "
   ],
   "metadata": {}
  },
  {
   "cell_type": "code",
   "execution_count": null,
   "source": [
    "hub_csd.generate_csd([-0.005,-0.005], 1, 2, 0.01, 0.01, num=75)"
   ],
   "outputs": [],
   "metadata": {}
  },
  {
   "cell_type": "markdown",
   "source": [],
   "metadata": {}
  },
  {
   "cell_type": "markdown",
   "source": [
    "## 5. Plot charge stability diagram\n",
    "\n",
    "Finally, we can plot the results of the charge stability diagram. In order to do this, we must pass it to the CSDAnalysis object. We can pass an optional parameter corresponding to a list of capacitances, which tells us how to convert from occupation in each dot to a current in order to replicate what an experiment might see. This list must be the same length as the number of sites since in general, each site will have a different coupling to a charge sensor. If no capacitances are passed, a unique color will be given to each occupation. However, this color is meaningless, so further analysis of the object cannot be done unless capacitances are passed."
   ],
   "metadata": {}
  },
  {
   "cell_type": "code",
   "execution_count": null,
   "source": [
    "csd_an = an.CSDAnalysis(hub_csd, capacitances=[2.5,1.5])\r\n",
    "csd_an.plot(derivative=True)"
   ],
   "outputs": [],
   "metadata": {}
  }
 ]
}