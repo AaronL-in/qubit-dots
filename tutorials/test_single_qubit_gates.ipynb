{
 "cells": [
  {
   "cell_type": "markdown",
   "metadata": {},
   "source": [
    "# Testing single qubit gates\n",
    "\n",
    "## Importing relevant modules"
   ]
  },
  {
   "cell_type": "code",
   "execution_count": null,
   "metadata": {},
   "outputs": [],
   "source": [
    "import os, sys\n",
    "sys.path.append(os.path.dirname(os.getcwd()))\n",
    "\n",
    "import numpy as np\n",
    "import pandas as pd\n",
    "import matplotlib.pyplot as plt\n",
    "plt.rcParams.update({\n",
    "    \"font.family\": \"sans-serif\",\n",
    "    \"font.sans-serif\": [\"Helvetica\"],\n",
    "    'axes.labelsize' : 12,})\n",
    "\n",
    "import copy\n",
    "from scipy.interpolate import interp1d\n",
    "\n",
    "#potential module\n",
    "import qudipy.potential as pot\n",
    "\n",
    "# for solving Schrod eq-n and Stark shift stuff\n",
    "import qudipy.qutils as qt\n",
    "import qudipy.starkshift as ss\n",
    "\n",
    "#Spin simulator module\n",
    "import qudipy.spinsimulator.spin_simulator as sps\n",
    "#Constant pulse generating module\n",
    "import qudipy.spinsimulator.pulse_generators as pulsegens\n",
    "\n",
    "#Circuit module containing control pulses and ideal circuits\n",
    "import qudipy.circuit as circ\n",
    "\n",
    "#Control shapes and voltage pulse routines\n",
    "from qudipy.control import shapes, voltage_pulses, balance_zeeman\n",
    "\n",
    "#File Parsers to load data\n",
    "from qudipy.circuit import file_parsers\n",
    "\n",
    "#Constants class\n",
    "from qudipy.utils.constants import Constants\n",
    "from scipy.constants import e,m_e\n",
    "\n",
    "# Helper functions\n",
    "import qudipy.utils.helpers as hp"
   ]
  },
  {
   "cell_type": "markdown",
   "metadata": {},
   "source": [
    "## Voltage pulse parameters\n",
    "\n",
    "Defining the system constants\n"
   ]
  },
  {
   "cell_type": "code",
   "execution_count": null,
   "metadata": {},
   "outputs": [],
   "source": [
    "csts = Constants('Si/SiO2')"
   ]
  },
  {
   "cell_type": "markdown",
   "metadata": {},
   "source": [
    "\n",
    "Defining the voltage parameters and creating pulse shapes"
   ]
  },
  {
   "cell_type": "code",
   "execution_count": null,
   "metadata": {},
   "outputs": [],
   "source": [
    "V_0 = 0.65  # pulse amplitude, V\n",
    "dV = 0.5    # offset, V\n",
    "\n",
    "f_rf = 17e9                             # ESR resonator frequency, Hz\n",
    "\n",
    "# normalized time points\n",
    "tau = np.linspace(0, 1, 100)\n",
    "\n",
    "# creating 4 testing pulses of different shapes for 0 < tau < 1 \n",
    "unit_square = shapes.square(amp=V_0, offset=dV)\n",
    "unit_triangle = shapes.triangle(amp=V_0, offset=dV)\n",
    "\n",
    "unit_wide_gauss = shapes.shifted_gauss(amp=V_0, offset=dV, sigma=0.4)\n",
    "unit_narrow_gauss = shapes.shifted_gauss(amp=V_0, offset=dV, sigma=0.1)\n"
   ]
  },
  {
   "cell_type": "markdown",
   "metadata": {},
   "source": [
    "Plotting the shapes for a wider time range than needed\n",
    " to make sure the offset is specified correctly."
   ]
  },
  {
   "cell_type": "code",
   "execution_count": null,
   "metadata": {},
   "outputs": [],
   "source": [
    "unit_shapes = (unit_square, unit_triangle, unit_narrow_gauss, unit_wide_gauss)\n",
    "\n",
    "fig, ax = plt.subplots(2,2, figsize=(8,4), dpi=200)\n",
    "for i, shape in enumerate(unit_shapes):\n",
    "    ax[i//2, i%2].plot(tau * 2, shape(tau * 2), label=shape.__name__)\n",
    "    ax[i//2, i%2].legend()\n",
    "    \n",
    "    #setting axes labels\n",
    "    ax[i//2, i%2].set_xlabel('$\\\\tau$', size=12)\n",
    "    ax[i//2, i%2].set_ylabel('${V}$, volts', size=12)\n",
    "\n",
    "    ax[i//2, i%2].set_ylim((0.45,0.7))\n",
    "\n",
    "fig.tight_layout()\n",
    "plt.show()"
   ]
  },
  {
   "cell_type": "markdown",
   "metadata": {},
   "source": [
    "## Import nextnano Data"
   ]
  },
  {
   "cell_type": "markdown",
   "metadata": {},
   "source": [
    "Now, we are ready to import the correct data. Note: make sure the data has been downloaded from sharepoint."
   ]
  },
  {
   "cell_type": "code",
   "execution_count": null,
   "metadata": {},
   "outputs": [],
   "source": [
    "input_nextnano = os.path.join(sys.path[0],'QuDiPy tutorial data','Nextnano simulations','1_dot_P_0p5_0p7')\n",
    "output_preprocessed = os.path.join(sys.path[0],'QuDiPy tutorial data','Pre-processed potentials','Pre-processed_data')\n",
    "\n",
    "#importing potential\n",
    "potential = pot.process_nextnano.import_dir(input_nextnano, show_files=True)"
   ]
  },
  {
   "cell_type": "markdown",
   "metadata": {},
   "source": [
    "Now find the a z coordinate that is the closest to the desired slice."
   ]
  },
  {
   "cell_type": "code",
   "execution_count": null,
   "metadata": {},
   "outputs": [],
   "source": [
    "# Desired Slice\n",
    "z = 0.45\n",
    "\n",
    "_, nearest_slice = hp.find_nearest(potential[0]['coord']['z'], z)\n",
    "\n",
    "print(f'The nearest slice for z = {z} is: {nearest_slice}')\n"
   ]
  },
  {
   "cell_type": "markdown",
   "metadata": {},
   "source": [
    "Constructing a z-slice for the data"
   ]
  },
  {
   "cell_type": "code",
   "execution_count": null,
   "metadata": {},
   "outputs": [],
   "source": [
    "\n",
    "#specifying control values and names\n",
    "pot_dir = output_preprocessed + '_for_nearest_slice{:.3e}'.format(nearest_slice) + '/'\n",
    "ctrl_names = ['VP']\n",
    "\n",
    "ctrl_vals = np.sort(pot.process_nextnano.get_ctrl_vals(potential)) # Must make sure that ctrl_vals are sorted\n",
    "ctrl_vals"
   ]
  },
  {
   "cell_type": "code",
   "execution_count": null,
   "metadata": {},
   "outputs": [],
   "source": [
    "\n",
    "# Now we define the field types we wish to write 2D slices for. Either potential or the electric field.\n",
    "pot.process_nextnano.write_data(input_nextnano,output_preprocessed, slice=z, f_type=['potential','field'])\n"
   ]
  },
  {
   "cell_type": "code",
   "execution_count": null,
   "metadata": {},
   "outputs": [],
   "source": [
    "loaded_data_pot = pot.load_potentials(ctrl_vals, ctrl_names,\n",
    "                                  f_type='pot', f_dir=pot_dir,\n",
    "                                  f_dis_units='nm', f_pot_units='eV')\n",
    "\n",
    "loaded_data_field = pot.load_potentials(ctrl_vals, ctrl_names,\n",
    "                                  f_type='electric', f_dir=pot_dir,\n",
    "                                  f_dis_units='nm', f_pot_units='V/nm')\n",
    "\n",
    "potential_int = pot.build_interpolator(loaded_data_pot,\n",
    "                                         constants=csts)\n",
    "e_field_int = pot.build_interpolator(loaded_data_field,\n",
    "                                         constants=csts)\n",
    "\n",
    "potential_int.plot([0.65])\n",
    "e_field_int.plot([0.65])\n",
    "#TODO update my matplotlab"
   ]
  },
  {
   "cell_type": "markdown",
   "metadata": {},
   "source": [
    "## True g(V)\n",
    "Now we create a ''true'' g-factor dependency on voltage.\n",
    "First, create a Grid Parameters object:"
   ]
  },
  {
   "cell_type": "code",
   "execution_count": null,
   "metadata": {},
   "outputs": [],
   "source": [
    "# Construct a GridParameters object\n",
    "\n",
    "_2d_coords = loaded_data_pot['coords']\n",
    "gparams = pot.GridParameters(_2d_coords.x, _2d_coords.y)\n",
    "len(loaded_data_pot['potentials'])"
   ]
  },
  {
   "cell_type": "code",
   "execution_count": null,
   "metadata": {},
   "outputs": [],
   "source": [
    "def true_g_data(grapams, pot_data, e_field_data):\n",
    "    delta_g_vals = []\n",
    "    for idx, param in enumerate(pot_data['ctrl_vals']):\n",
    "        new_pot = pot_data['potentials'][idx]\n",
    "        gparams.update_potential(new_pot)\n",
    "        _, e_vecs = qt.solvers.solve_schrodinger_eq(csts, gparams, n_sols=1)\n",
    "        wf = e_vecs[:,:,0]\n",
    "        stark_shift = ss.starkshift.StarkShift(gparams, csts)\n",
    "            #lambda to do the g-factor of discrete data rather than interpolated\n",
    "\n",
    "        dummy_e_int = lambda V: e_field_data['electric'][\n",
    "                        np.nonzero(np.array(ctrl_vals[0]) == V[0])[0][0]]\n",
    "\n",
    "        dg = stark_shift.delta_g(dummy_e_int, [param], ctrl_names,\n",
    "                                             wavefuncs=[wf])['delta_g_1'][0]\n",
    "        delta_g_vals.append(dg)\n",
    "    return interp1d(np.array(ctrl_vals[0]), np.sort(delta_g_vals))\n",
    "\n",
    "\n",
    "delta_g_true = true_g_data(gparams, loaded_data_pot, loaded_data_field)\n"
   ]
  },
  {
   "cell_type": "markdown",
   "metadata": {},
   "source": [
    "Plotting $\\delta g (V)$ function"
   ]
  },
  {
   "cell_type": "code",
   "execution_count": null,
   "metadata": {},
   "outputs": [],
   "source": [
    "\n",
    "fig, ax = plt.subplots(figsize=(8,4), dpi=100)\n",
    "\n",
    "ax.plot(ctrl_vals[0], delta_g_true(ctrl_vals[0]) * 1e4, 'r-o' )\n",
    "ax.set_xlabel('Plunger gate voltage, V')\n",
    "ax.set_ylabel('Deviation g-factor $\\\\times 10^{-4}$')\n",
    "ax.set_yticks([0.7, 0.8,0.9,1])\n",
    "\n",
    "fig.tight_layout()\n",
    "\n",
    "print('Slope is',1e4* (delta_g_true(ctrl_vals[0])[-1] - delta_g_true(ctrl_vals[0])[0])/ (ctrl_vals[0][-1]- ctrl_vals[0][0]))"
   ]
  },
  {
   "cell_type": "code",
   "execution_count": null,
   "metadata": {},
   "outputs": [],
   "source": [
    "# def true_g_def(gparams, pot_interp, field_interp):\n",
    "#     def delta_g(V):\n",
    "#         new_pot = pot_interp([V])\n",
    "#         gparams.update_potential(new_pot)\n",
    "#         e_ens, e_vecs = qt.solvers.solve_schrodinger_eq(csts, gparams, n_sols=1)\n",
    "#         wf = e_vecs[:,:,0]\n",
    "#         # pot_interp.plot([V], plot_type='1D', y_slice=0, show_wf=True)\n",
    "#         stark_shift = ss.starkshift.StarkShift(gparams, csts)\n",
    "#         dg = stark_shift.delta_g(field_interp, [[V]], ctrl_names, wavefuncs=[wf])['delta_g_1'][0]\n",
    "#         return dg\n",
    "#     return np.vectorize(delta_g)\n"
   ]
  },
  {
   "cell_type": "markdown",
   "metadata": {},
   "source": [
    "## Specifying spin system parameters\n",
    "\n",
    "Now we find the value of Zeeman field that ensures no spin rotation during idling"
   ]
  },
  {
   "cell_type": "code",
   "execution_count": null,
   "metadata": {},
   "outputs": [],
   "source": [
    "B_0 = voltage_pulses.balance_zeeman(delta_g_true, dV, f_rf)\n",
    "\n",
    "f_larmor = e / m_e * B_0/(2 * np.pi )\n",
    "print('B_0: {} T, \\nLarmor frequency: {} GHz.'.format(B_0, f_larmor / 1e9))\n",
    "                                                   "
   ]
  },
  {
   "cell_type": "code",
   "execution_count": null,
   "metadata": {},
   "outputs": [],
   "source": [
    "# Qubits in a pure  |↑↓> state\n",
    "\n",
    "psi_down = np.array([0,1])\n",
    "psi_up = np.array([1,0]) \n",
    "\n",
    "params_rabi = { \"f_rf\":f_rf, 'B_0':B_0}    #\"T_1\":2e-4, \"T_2\":5e-6,\n",
    "\n",
    "# creating a spin system; Zeeman field is yet to be specified\n",
    "n_qubits = 2\n",
    "rabi_system = sps.SpinSys((psi_up, psi_down), time=0, **params_rabi)\n",
    "rho_initial = rabi_system.rho"
   ]
  },
  {
   "cell_type": "markdown",
   "metadata": {},
   "source": [
    "Now we are generating the ROTZ and ROTX pulses on the 1st qubit when \n",
    "the other one is inactive.\n",
    "Choose the \"narrow gaussian\" pulse for now"
   ]
  },
  {
   "cell_type": "markdown",
   "metadata": {},
   "source": [
    "# Create a Quantum Circuit Object\n",
    "\n",
    "@author: Madi\n",
    "\n",
    "We will generate 2 qubit system with rotation pulses, we will call a function to build three ControlPulse class objects and save them as .ctrlp files. We will then store them in a QuantumCircuit Class object.\n",
    "\n",
    "The purpose of this exercise is to show how ControlPulse objects can be created to define rotations, how these ControlPulses can be stored in a QuantumCircuit object, and finaly, how to pull out these rotations from the Quantum Circuit and plot them.\n",
    "\n",
    "This Tutorial also highlights the functions create_ctlp_file and create_quantum_circuit to move between .ctrlp files and .qcric files as well as ControlPulse Objects and QuantumCircuit objects.\n",
    "\n",
    "Note that all rotations will have the unit narrow gaussian shape as defined above\n"
   ]
  },
  {
   "cell_type": "code",
   "execution_count": null,
   "metadata": {},
   "outputs": [],
   "source": [
    "# Specify number of data points -> more points => higher accuracy\n",
    "length = 1000\n",
    "\n",
    "# create X Rotation by 90 degrees\n",
    "XROT = voltage_pulses.rot('X', 90, 2, [1], delta_g_true, unit_narrow_gauss, B_0, num_val = length)\n",
    "\n",
    "# create Z Rotation by 90 degrees\n",
    "ZROT = voltage_pulses.rot('Z', 90, 2, [1], delta_g_true, unit_narrow_gauss, B_0, num_val = length)\n",
    "\n",
    "# create Y Rotation by -90 degrees \n",
    "YROT = voltage_pulses.rot('Y', -90, 2, [1], delta_g_true, unit_narrow_gauss, B_0, num_val = length)\n",
    "\n",
    "\n",
    "# Create .ctrlp files from each pulse\n",
    "p1 = voltage_pulses.create_ctlp_file(XROT, read = False, get_dir = True)\n",
    "p2 = voltage_pulses.create_ctlp_file(ZROT, read = False, get_dir = True)\n",
    "p3 = voltage_pulses.create_ctlp_file(YROT, read = False, get_dir = True)\n",
    "\n",
    "\n",
    "# Create a list of Pulses\n",
    "pulse_list = [p1, p2, p3]\n",
    "\n",
    "# Create a QuantumCircuit object and write a .qcirc file\n",
    "circ1 = voltage_pulses.create_quantum_circuit(pulse_list, \"Circuit 1\", write_qcirc = True, print_dir = True)"
   ]
  },
  {
   "cell_type": "markdown",
   "metadata": {},
   "source": [
    "# Pull out Data and Plot\n",
    "\n",
    "We will now call out the information that we need to plot these control pulses:\n",
    "\n",
    "STEP 1) Step through each pulse to retrieve times and pulses, then concatenate all of the control pulses into a data frame\n",
    "\n",
    "STEP 2) Plot the Voltage Pulses, ESR Pulse, and phase"
   ]
  },
  {
   "cell_type": "code",
   "execution_count": null,
   "metadata": {
    "scrolled": false
   },
   "outputs": [],
   "source": [
    "# Retrieving all of the ControlPulse objects that are stored in the Quantum Circuit,\n",
    "# put these pulses into a list\n",
    "ctrlp_list = list(circ1.gates.values())\n",
    "keys_list = list(circ1.gates.keys())\n",
    "\n",
    "\n",
    "\n",
    "## ** STEP 1 **\n",
    "\n",
    "# Step through each pulse and record the time, adding onto the time by\n",
    "# the previous length as we go.\n",
    "# Use Pandas module to put each pulse in a data frame, \n",
    "# step through all of the pulses and put these data frames in a list, \n",
    "# then concatenate this list\n",
    "\n",
    "val = 0\n",
    "times_list = []\n",
    "pulses_list = []\n",
    "for pulse in ctrlp_list:\n",
    "    # join pulses in a list\n",
    "    pulses_list = pulses_list + [pd.DataFrame(pulse.ctrl_pulses)]\n",
    "    \n",
    "    #join times in a list, shifting over each pulse by the previous pulses' length\n",
    "    if times_list == []:\n",
    "        times_list = times_list + [np.linspace(0, pulse.length, length)] \n",
    "        val = val + pulse.length\n",
    "    else:\n",
    "        times_list = times_list + [val + np.linspace(0, pulse.length, length)]\n",
    "        val = val + pulse.length\n",
    "        \n",
    "joined_pulses = pd.concat(pulses_list)\n",
    "joined_time = np.concatenate(times_list)\n",
    "\n",
    "\n",
    "\n",
    "## ** STEP 2 **\n",
    "# plotting\n",
    "\n",
    "fig, ax = plt.subplots(2, 1,figsize=(9,5.7), dpi=200)\n",
    "\n",
    "\n",
    "mus_time = joined_time * 1e6        #in microseconds\n",
    "\n",
    "\n",
    "###### Voltage pulses #######\n",
    "ax[0].plot(mus_time, joined_pulses['V_1'] , color='green', label='V$_{1}$')\n",
    "ax[0].plot(mus_time, joined_pulses['V_2'] , color='magenta', label='V$_{2}$')\n",
    "\n",
    "ax[0].legend( fontsize='large')\n",
    "ax[0].set_xlabel(\"Time, $\\mu$s\")\n",
    "ax[0].set_ylabel(\"Plunger gate voltages\")\n",
    "\n",
    "###### ESR field pulses  #######\n",
    "\n",
    "ax[1].plot(mus_time, joined_pulses['B_rf'], \n",
    "                color='red', label='B$_{RF}$')\n",
    "\n",
    "ax[1].legend(loc='upper left', fontsize='large')\n",
    "ax[1].set_xlabel(\"Time, $\\mu$s\")\n",
    "ax[1].set_ylabel(\"ESR field, T\", color='darkred')\n",
    "\n",
    "ax[1].tick_params(axis='y', labelcolor='darkred')\n",
    "\n",
    "####### Plotting phase on the same plot #######\n",
    "\n",
    "ax_phase = ax[1].twinx()\n",
    "ax_phase.plot(mus_time, joined_pulses['phi'] * np.pi / 180, \n",
    "                color='blue', label='$\\phi_{RF}$' )\n",
    "\n",
    "ax_phase.legend(loc='upper right',fontsize='large')\n",
    "ax_phase.set_ylabel(\"Phase, rad\", color='blue')\n",
    "\n",
    "\n",
    "ax_phase.tick_params(axis='y', labelcolor='blue')\n",
    "ax_phase.set_yticks([0, np.pi/2, np.pi, 3 * np.pi /2, 2* np.pi],)\n",
    "\n",
    "#vertical lines showing borders between pulses\n",
    "\n",
    "for axis in ax:\n",
    "    val = 0\n",
    "    for pulse in ctrlp_list:\n",
    "        pulse_len = pulse.length*1e6\n",
    "        axis.axvline(val + pulse_len, c='gray')\n",
    "        val = pulse_len\n",
    "\n",
    "\n",
    "\n",
    "fig.tight_layout()\n",
    "\n"
   ]
  },
  {
   "cell_type": "markdown",
   "metadata": {},
   "source": [
    "# Evolving Rabi System"
   ]
  },
  {
   "cell_type": "code",
   "execution_count": null,
   "metadata": {},
   "outputs": [],
   "source": [
    "rabi2 = copy.deepcopy(rabi_system) \n",
    "\n",
    "triple_rot_sequence = [XROT, ZROT, YROT]\n",
    "\n",
    "triple_rot = rabi2.evolve(triple_rot_sequence,     \n",
    "                               rho_reference = rho_initial, eval_fidelity=True, \n",
    "                               track_qubits=(1,2), eval_Bloch_vectors=True, \n",
    "                                track_points_per_pulse=100)\n"
   ]
  },
  {
   "cell_type": "code",
   "execution_count": null,
   "metadata": {},
   "outputs": [],
   "source": [
    "#plotting the evolution\n",
    "fig, ax = plt.subplots(3, 1,figsize=(9,9), dpi=200, gridspec_kw={'height_ratios': [5, 5, 4.5]})\n",
    "\n",
    "mus_time = triple_rot[\"time\"] * 1e6\n",
    "\n",
    "\n",
    "###### Bloch vector of the 1st qubit #######\n",
    "ax[0].plot(mus_time, np.real(triple_rot[\"sigma_x_1\"]) , label='$\\\\langle\\sigma_{x1}\\\\rangle$')\n",
    "ax[0].plot(mus_time, np.real(triple_rot[\"sigma_y_1\"]) , label='$\\\\langle\\sigma_{y1}\\\\rangle$')\n",
    "ax[0].plot(mus_time, np.real(triple_rot[\"sigma_z_1\"]) , label='$\\\\langle\\sigma_{z1}\\\\rangle$')\n",
    "\n",
    "ax[0].legend(loc='lower left', fontsize='large')\n",
    "ax[0].set_xlabel(\"Time, $\\mu$s\")\n",
    "ax[0].set_ylabel(\"Bloch vector\")\n",
    "\n",
    "ax[0].text(10, 0.8, '1st qubit', fontsize=14,)\n",
    "\n",
    "###### Bloch vector of the 2nd qubit #######\n",
    "ax[1].plot(mus_time, np.real(triple_rot[\"sigma_x_2\"]) , color='red', label='$\\\\langle\\sigma_{x2}\\\\rangle$', )\n",
    "ax[1].plot(mus_time, np.real(triple_rot[\"sigma_y_2\"]) , color='green',  label='$\\\\langle\\sigma_{y2}\\\\rangle$', )\n",
    "ax[1].plot(mus_time, np.real(triple_rot[\"sigma_z_2\"]) , color='magenta', label='$\\\\langle\\sigma_{z2}\\\\rangle$')\n",
    "\n",
    "ax[1].legend(loc='lower left', fontsize='large')\n",
    "ax[1].set_xlabel(\"Time, $\\mu$s\")\n",
    "ax[1].set_ylabel(\"Bloch vector\")\n",
    "\n",
    "ax[1].text(10, -0.6, '2nd qubit', fontsize=14,)\n",
    "\n",
    "\n",
    "##### Plotting fidelity\n",
    "\n",
    "ax[2].plot(mus_time, triple_rot['fidelity'], 'b-', label='Fidelity')\n",
    "ax[2].set_xlabel(\"Time, $\\mu$s\")\n",
    "ax[2].set_ylabel(\"Fidelity\")\n",
    "ax[2].legend( fontsize='large')\n",
    "\n",
    "ax[2].text(33, 0.65,\n",
    "            'Infidelity \\nat the end: \\n{:.3e}'.format(1 - triple_rot['fidelity'][-1]),\n",
    "                         fontsize=14, )\n",
    "\n",
    "#vertical lines showing borders between pulses\n",
    "for axis in ax:\n",
    "    axis.axvline(XROT.length*1e6, c='gray' )\n",
    "    axis.axvline((XROT.length+ ZROT.length)*1e6, c='gray')\n",
    "fig.tight_layout()"
   ]
  },
  {
   "cell_type": "code",
   "execution_count": null,
   "metadata": {},
   "outputs": [],
   "source": []
  }
 ],
 "metadata": {
  "interpreter": {
   "hash": "d6ea40376d640da94cd09c8bbbac16c25fb8a764ffc812fd54865219ebd752a0"
  },
  "kernelspec": {
   "display_name": "Python 3",
   "language": "python",
   "name": "python3"
  },
  "language_info": {
   "codemirror_mode": {
    "name": "ipython",
    "version": 3
   },
   "file_extension": ".py",
   "mimetype": "text/x-python",
   "name": "python",
   "nbconvert_exporter": "python",
   "pygments_lexer": "ipython3",
   "version": "3.9.7"
  }
 },
 "nbformat": 4,
 "nbformat_minor": 2
}
