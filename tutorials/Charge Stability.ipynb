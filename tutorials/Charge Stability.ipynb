{
 "cells": [
  {
   "cell_type": "markdown",
   "metadata": {},
   "source": [
    "# QuDiPy tutorial: using the charge stability module\n",
    "\n",
    "This tutorial will show how to use the charge stability module to generate a charge stability diagram using the constant interaction model and then perform the Hough transformation.\n",
    "\n",
    "This tutorial will be updated to include the generation of the charge stability diagrams using the Hubbard model and also the extraction of parameters from the Hough transformation.\n",
    "\n",
    "In order for the file to not be too large, the output of the cells has been cleared so you will need to run the cells on your local machine to see the output.\n",
    "In order for the size of this tutorial to not be too large, the output of the cells has been removed, so you will need to generate the figures on your local machine by running all the cells.\n",
    "\n",
    "## 1. Add the current location to path\n",
    "In order for this tutorial to work, you will need to run this from the tutorials folder."
   ]
  },
  {
   "cell_type": "code",
   "execution_count": null,
   "metadata": {},
   "outputs": [],
   "source": [
    "import os, sys\n",
    "sys.path.append(os.path.dirname(os.getcwd()))"
   ]
  },
  {
   "cell_type": "markdown",
   "metadata": {},
   "source": [
    "## 2. Import the relevant modules"
   ]
  },
  {
   "cell_type": "code",
   "execution_count": null,
   "metadata": {},
   "outputs": [],
   "source": [
    "#From module\n",
    "import qudipy.chargestability.csd_gen as gen\n",
    "import qudipy.chargestability.csd_analysis as an\n",
    "#For data maniupulation\n",
    "import numpy as np\n",
    "import pandas as pd\n",
    "#For plotting\n",
    "import seaborn as sb\n",
    "import matplotlib.pyplot as plt"
   ]
  },
  {
   "cell_type": "markdown",
   "metadata": {},
   "source": [
    "## 3. Specify the capacitance of the system you wish to simulate and then initialize the charge stability diagram object\n",
    "In this tutorial, we will be simulating a double quantum dot system. The parameters follow the naming convention of https://doi.org/10.1103/RevModPhys.75.1. \n",
    "The first three parameters are the coupling of the first dot to the left resevoir, $c_l$, the coupling of the second dot to the right resevoir, $c_r$ and the coupling between the dots $c_m$.\n",
    "The next two parameters are capacitances between gates and dots. $c_{g1}$ is the coupling between dot 1 the plunger gate $V_1$ and $c_{g2}$ is the coupling between dot 2 the plunger gate $V_2$.\n",
    "These parameters are all that is required to define the system."
   ]
  },
  {
   "cell_type": "code",
   "execution_count": null,
   "metadata": {},
   "outputs": [],
   "source": [
    "# Dot capacitances\n",
    "c_l = 51 * 10**-18\n",
    "c_r = 50 * 10**-18\n",
    "c_m = 5 * 10**-18\n",
    "# Dot-to-gate capacitances\n",
    "c_g1 = 1 * 10**-18\n",
    "c_g2 = 1 * 10**-18\n",
    "# Initialize Object\n",
    "csd = gen.CSD(c_l, c_r, c_m, c_g1, c_g2)"
   ]
  },
  {
   "cell_type": "markdown",
   "metadata": {},
   "source": [
    "## 4. Generate the charge stability diagram and then plot the resulting diagram\n",
    "The paramaters used to generate the charge stability diagram are as follows;\n",
    "num: Nunmber of points to sweep each plunger voltage by. The resulting charge stability diagram will by num*num in size\n",
    "v1(2)_max: Maximum voltage to sweep gate 1(2) to. By default, both voltages start at 0 volts, but this can be changed using a keyword argument.\n",
    "c_cs_1(2): The coupling between the charge sensor (cs) and dot 1(2). This parameter dictates how much a change in the charge of one dot will change the current passing through a charge sensor coupled to both dots. In order for the (n,m)-(n+1,m-1) charge transitions to be visible, we should have c_cs_1 $\\neq$ c_cs_2 (this is almost always the case in experiments). This current is arbitrary, but simulates what would be seen in an experiment."
   ]
  },
  {
   "cell_type": "code",
   "execution_count": null,
   "metadata": {},
   "outputs": [],
   "source": [
    "# Generate charge stability diagram\n",
    "num=100\n",
    "v1_max = 0.15\n",
    "v2_max = 0.15\n",
    "c_cs_1 = 1\n",
    "c_cs_2 = 1.5\n",
    "\n",
    "csd.generate_csd(v1_max, v2_max, c_cs_1, c_cs_2, num=num)\n",
    "# Plot using seaborn\n",
    "p = sb.heatmap(csd.csd, cbar=True, xticklabels=int(num/5), yticklabels=int(num/5), cbar_kws={'label': 'Current (arb.)'})\n",
    "p.axes.invert_yaxis()\n",
    "plt.show()"
   ]
  },
  {
   "cell_type": "markdown",
   "metadata": {},
   "source": [
    "## 5. Find the edges of the charge stability diagram\n",
    "In order for the Hough transform to be used, we need to have a bitmap of where edges are and aren't in the image. So, we need to run some pre-processing to first find the edges, and then transform that map of edges into a bitmap.\n",
    "\n",
    "In order to find the edges, we can take the derivative of the above charge stability diagram. This is done automatically when csd.generate_csd() is called, and is stored in csd.csd_der."
   ]
  },
  {
   "cell_type": "code",
   "execution_count": null,
   "metadata": {},
   "outputs": [],
   "source": [
    "q = sb.heatmap(csd.csd_der, cbar=True, xticklabels=int(num/5), yticklabels=int(num/5), cbar_kws={'label': 'Current (arb.)'})\n",
    "q.axes.invert_yaxis()\n",
    "plt.show()"
   ]
  },
  {
   "cell_type": "markdown",
   "metadata": {},
   "source": [
    "## 6. Create bitmap from edge data\n",
    "From that image, we can create a bitmap.\n",
    "\n",
    "Note that in an actual experiment, the data won't be so clean, so there will be some aditional noise. Fortunately the Hough transform is relatively robust to random noise, but a more quantitative assessement is necessary before deployement. In addition, there is a threshold parameter in the bitmap generation function that allows any noise below a certain level to be ignored, which can help clean up some data as well.\n",
    "\n",
    "For the purposes of this tutorial, I  will be artificially adding noise to this bitmap to demonstrate that the Hough transform still perfroms as intended. However, in practice this would not be required (since the data will already be noisy)ired (since the data from an experiment would already be noisy)."
   ]
  },
  {
   "cell_type": "code",
   "execution_count": null,
   "metadata": {},
   "outputs": [],
   "source": [
    "# Generate analysis object, and then use it to generate the bitmap\n",
    "csd_an = an.CSDAnalysis(csd.csd_der)\n",
    "csd_an.generate_bitmap(0.1)\n",
    "\n",
    "# Plot using seaborn\n",
    "r = sb.heatmap(csd_an.csd_bitmap, cbar=True, xticklabels=int(num/5), yticklabels=int(num/5))\n",
    "r.axes.invert_yaxis()\n",
    "plt.show()\n",
    "\n",
    "\n",
    "# Adding artificial noise (Will not be needed in practice)\n",
    "np.random.seed(469230) # fix seed for reproducibility\n",
    "\n",
    "noise = np.random.rand(*csd_an.csd_bitmap.shape) \n",
    "error = 0.05 # error rate of 5%\n",
    "\n",
    "for index, value in np.ndenumerate(noise):\n",
    "            if value < error:\n",
    "                noise[index] = 1\n",
    "            else:\n",
    "                noise[index] = 0\n",
    "\n",
    "noise_df = csd_an.csd_bitmap.copy()\n",
    "noise_df[:] = noise\n",
    "\n",
    "csd_an.csd_bitmap = csd_an.csd_bitmap + noise_df\n",
    "\n",
    "r = sb.heatmap(csd_an.csd_bitmap, cbar=True, xticklabels=int(num/5), yticklabels=int(num/5), vmax=1)\n",
    "r.axes.invert_yaxis()\n",
    "plt.show()\n",
    ", vmax=1, vmax=1"
   ]
  },
  {
   "cell_type": "markdown",
   "metadata": {},
   "source": [
    "Now all the data points that are 0 are set to be ignored when we perform the Hough transform and all the non-zero ones will be included.\n",
    "\n",
    "## 7. Perform the Hough transform\n",
    "\n",
    "For some background on the Hough transform, see the wikipedia article (https://en.wikipedia.org/wiki/Hough_transform, Theory and Examples section were most useful for me) and this tutorial that I found particularily useful (https://alyssaq.github.io/2014/understanding-hough-transform/)\n",
    "\n"
   ]
  },
  {
   "cell_type": "code",
   "execution_count": null,
   "metadata": {
    "tags": []
   },
   "outputs": [],
   "source": [
    "# Function which performs the Hough transform\n",
    "accumulator, thetas, rhos = csd_an.hough_transform()\n",
    "\n",
    "# Round ranges to not clutter the plotting area to much\n",
    "rhos = np.round(rhos, 3)\n",
    "thetas = np.round(thetas, 3)\n",
    "\n",
    "# Create pandas DataFrame for easy of plotting, then plot\n",
    "df = pd.DataFrame(accumulator, index=rhos, columns=thetas)\n",
    "s = sb.heatmap(df, cbar=True, xticklabels=int(num/5), yticklabels=int(num/5), cbar_kws={'label': 'Counts'})\n",
    "s.axes.invert_yaxis()\n",
    "s.axes.set_xlabel(r'$\\theta$ (rad)')\n",
    "s.axes.set_ylabel(r'$\\rho$ (V)')\n",
    "plt.show()"
   ]
  },
  {
   "cell_type": "markdown",
   "metadata": {},
   "source": [
    "The spots where the counts in the color bar are the highest places where lines fit the best. We can see that there are 4 peaks that roughly make a rectangle in the upper right hand side of the graph. These correspond to the 4 large occupation transitions seen in the earlier charge stability diagram.\n",
    "We can convert from these polar coordiantes to the normal slope and intercept using $m = \\frac{-\\text{cos}(\\theta)}{\\text{sin}(\\theta)}$ and $b = \\frac{\\rho}{\\text{sin}(\\theta)}$.\n",
    "\n",
    "## 8. Peak Finding\n",
    "\n",
    "Next, we need to figure out where the peaks are in order to extract the best fitting lines. In order to do this, we first apply a threshold to function to the Hough transformed result."
   ]
  },
  {
   "cell_type": "code",
   "execution_count": null,
   "metadata": {},
   "outputs": [],
   "source": [
    "accumulator_threshold = csd_an.threshold_hough_accumulator(threshold=35, threshold_type='absolute')\n",
    "\n",
    "df1 = pd.DataFrame(accumulator_threshold, index=rhos, columns=thetas)\n",
    "s = sb.heatmap(df1, cbar=True, xticklabels=int(num/5), yticklabels=int(num/5))\n",
    "s.axes.invert_yaxis()\n",
    "s.axes.set_xlabel(r'$\\theta$ (rad)')\n",
    "s.axes.set_ylabel(r'$\\rho$ (V)')\n",
    "plt.show()"
   ]
  },
  {
   "cell_type": "markdown",
   "metadata": {},
   "source": [
    "hdfjhaf"
   ]
  }
 ],
 "metadata": {
  "language_info": {
   "codemirror_mode": {
    "name": "ipython",
    "version": 3
   },
   "file_extension": ".py",
   "mimetype": "text/x-python",
   "name": "python",
   "nbconvert_exporter": "python",
   "pygments_lexer": "ipython3",
   "version": "3.8.1-final"
  },
  "orig_nbformat": 2,
  "kernelspec": {
   "name": "python38164bit7d9328e44e4c4f40a94d676128d856d7",
   "display_name": "Python 3.8.1 64-bit"
  }
 },
 "nbformat": 4,
 "nbformat_minor": 2
}