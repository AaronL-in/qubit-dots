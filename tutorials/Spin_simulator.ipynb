{
 "cells": [
  {
   "cell_type": "markdown",
   "source": [
    "# Spin simulator tutorial"
   ],
   "metadata": {}
  },
  {
   "cell_type": "markdown",
   "source": [
    "This tutorial will teach you how to simulate spin dynamics of the system of QDs with __spin_simulator__ module. You will learn how to compute the dynamics of internal system parameters and track additional parameters such as fidelity, purity, evolution of subsystems etc. \n",
    "\n",
    "The tutorial is regularly updated with various examples such as Rabi oscillations, individual electron manipulation with *g*-factor variation, exchange-driven effects, quantum gates and algorithms.\n",
    "\n",
    "The theoretical foundations of the simulator could be found in the write-up file: https://www.overleaf.com/3252553442tbqcmxntqvtk. "
   ],
   "metadata": {}
  },
  {
   "cell_type": "markdown",
   "source": [
    "## 1. Add the current location to path\n"
   ],
   "metadata": {}
  },
  {
   "cell_type": "markdown",
   "source": [
    "In order for this tutorial to work, you will need to run this from the \"tutorials\" folder."
   ],
   "metadata": {}
  },
  {
   "cell_type": "code",
   "execution_count": null,
   "source": [
    "import os, sys\r\n",
    "sys.path.append(os.path.dirname(os.getcwd()))\r\n",
    "os.chdir(os.path.dirname(os.getcwd()))"
   ],
   "outputs": [],
   "metadata": {}
  },
  {
   "cell_type": "markdown",
   "source": [
    "## 2. Import the relevant modules"
   ],
   "metadata": {}
  },
  {
   "cell_type": "code",
   "execution_count": null,
   "source": [
    "#Spin simulator module\r\n",
    "import qudipy.spinsimulator.spin_simulator as sps\r\n",
    "\r\n",
    "#Pulse generating module\r\n",
    "import qudipy.spinsimulator.pulse_generators as pulsegens\r\n",
    "\r\n",
    "#Circuit module containing control pulses and ideal circuits\r\n",
    "import qudipy.circuit as circ\r\n",
    "\r\n",
    "#Constants class\r\n",
    "from qudipy.utils.constants import Constants\r\n",
    "\r\n",
    "#For data manipulation\r\n",
    "import numpy as np\r\n",
    "import qudipy.qutils.matrices as matr\r\n",
    "import qudipy.qutils.math as qmath\r\n",
    "import math\r\n",
    "\r\n",
    "#For plotting\r\n",
    "import matplotlib.pyplot as plt\r\n",
    "import matplotlib.ticker as mtick\r\n"
   ],
   "outputs": [],
   "metadata": {}
  },
  {
   "cell_type": "markdown",
   "source": [
    "## 3. Define the system and pulse parameters"
   ],
   "metadata": {}
  },
  {
   "cell_type": "markdown",
   "source": [
    "### System: SpinSys object"
   ],
   "metadata": {}
  },
  {
   "cell_type": "markdown",
   "source": [
    "The system of the electrons in the quantum dots is described by the complex density matrix $\\rho$ whose evolution is of interest.\n",
    "There are several ways to provide information about the initial state:\n",
    "- the density matrix of the whole system: square 2D array;\n",
    "- the wavefunction (**ket**-vector) of a pure state: row or column vector as 1D/2D array;\n",
    "- a list/tuple of density matrices, wavefunctions, or both, that describe subsystems constituting the whole system.\n",
    "\n",
    "The density matrix of the whole system is generated and stored automatically irrespective of the type of input. \n",
    "\n",
    "The current number of electrons in the system $N$ is inferred from the size of $\\rho$; if it changes over time (e.g. due to measurements), the parameter $N_0$ should be specified to indicate the maximal possible electron number. Otherwise, the equality $N=N_0$ is assumed.\n",
    "\n",
    "We create several states relevant for the examples given in the main part of the tutorial. \n"
   ],
   "metadata": {}
  },
  {
   "cell_type": "code",
   "execution_count": null,
   "source": [
    "#creating an instance of Constants class, assuming that the material is air\r\n",
    "consts = Constants(\"air\")\r\n",
    "\r\n",
    "psi_down = np.array([0,1])\r\n",
    "psi_up = np.array([1,0])  \r\n",
    "    # one electron in pure spin-up/down state\r\n",
    "    \r\n",
    "rho_up_down = np.kron(np.array([[1,0],[0,0]]) , np.array([[0,0],[0,1]]))    \r\n",
    "    # two-electron pure |↑↓> state\r\n"
   ],
   "outputs": [],
   "metadata": {}
  },
  {
   "cell_type": "markdown",
   "source": [
    "You could provide additional constant system parameters such as temperature $T$, Zeeman field $\\vec{B_0}= B_0 \\hat{z}$, electron spin resonance (ESR) frequency $f_{\\scriptsize\\text{RF}} = \\frac{\\omega_{\\scriptsize\\text{RF}}}{2\\pi}$, spin relaxation time $T_1$ and dephasing time $T_2$ to define the system. \n",
    "\n",
    "$\\color{brown}{\\textbf{Note: all units are SI hereinafter, unless otherwise specified}}$"
   ],
   "metadata": {}
  },
  {
   "cell_type": "code",
   "execution_count": null,
   "source": [
    "#system parameters needed for a resonant Rabi pulse;\r\n",
    "#see the next section for the physical explanation\r\n",
    "\r\n",
    "B0 = 1    \r\n",
    "g = 2 \r\n",
    "larmor_freq = g *consts.muB *B0 / consts.h\r\n",
    "\r\n",
    "params_rabi = {\"B_0\":B0, \"T_1\":2e-4, \"T_2\":5e-7, \"T\":4, \"f_rf\":larmor_freq}    "
   ],
   "outputs": [],
   "metadata": {}
  },
  {
   "cell_type": "markdown",
   "source": [
    "The central object of the spin simulator is `SpinSys` class. Its instance is used to define the current state of the investigated spin system. It also contains methods responsible for evolving the system spin state and tracking system parameters during the evolution (this will be discussed in the next section). Using the system density matrix and constant parameters, we need to create a SpinSys object to move forward:\n",
    "\n"
   ],
   "metadata": {}
  },
  {
   "cell_type": "code",
   "execution_count": null,
   "source": [
    "rabi_system = sps.SpinSys(psi_up, time=0, **params_rabi)"
   ],
   "outputs": [],
   "metadata": {}
  },
  {
   "cell_type": "markdown",
   "source": [
    "The default values for the optional keyword arguments are as follows: $T_1=T_2 =\\infty\\ \\mathrm{s}$  (no decoherence), $T = 0\\ \\mathrm{K}$, $B_0 = 0\\ \\mathrm{T}$. If unspecified, the ESR frequency is equated to Larmor frequency: $f_{\\scriptsize\\text{RF}}= \\dfrac{g \\mu B_0}{h}.$ The `time` parameter incorporates the point in time at which the system is defined; it is optional, too (default value $0\\ \\mathrm{s}$).\n"
   ],
   "metadata": {}
  },
  {
   "cell_type": "markdown",
   "source": [
    "### Control pulses with ControlPulse objects"
   ],
   "metadata": {}
  },
  {
   "cell_type": "markdown",
   "source": [
    "The control pulse should be defined as an instance of `ControlPulse` class from `qudipy.circuit` module."
   ],
   "metadata": {}
  },
  {
   "cell_type": "code",
   "execution_count": null,
   "source": [
    "rabi_test_pulse = circ.ControlPulse(\"Rabi test pulse\", \"effective\", pulse_length=1e-6) \r\n",
    "    #pulse for constant Rabi oscillations"
   ],
   "outputs": [],
   "metadata": {}
  },
  {
   "cell_type": "markdown",
   "source": [
    "The physical quantities that could change during the pulse iclude:  \n",
    "- RF magnetic field magnitude `\"B_rf\"` and phase `\"phi\"` (**in degrees**) in rotation frame\n",
    "- Deviation g-factor of the $i^{th}$ electron `\"delta_g_{i}\"`\n",
    "- Exchange couplings between the $i^{th}$ and $(j)^{th}$ electrons `\"J_{ij}\"`\n",
    "\n",
    "They are to be specified as attributes of the `ControlPulse` object by means of its `add_control_variable` method (the unspecified parameters are automaticaclly assigned zero values during the simulation). The sequences of the parameter values should be passed as 1D arrays of equal size; time step is assumed to be constant and is inferred automatically based on the pulse length. "
   ],
   "metadata": {}
  },
  {
   "cell_type": "code",
   "execution_count": null,
   "source": [
    "arrbrf = np.full(3000, 1e-3) #  array of B_rf values\r\n",
    "arrphi = np.full(3000, 60) #  array of phi values\r\n",
    "\r\n",
    "# constant Rabi pulse\r\n",
    "rabi_test_pulse.add_control_variable(var_name=\"B_rf\", var_pulse=arrbrf) \r\n",
    "rabi_test_pulse.add_control_variable(var_name=\"phi\", var_pulse=arrphi) "
   ],
   "outputs": [],
   "metadata": {}
  },
  {
   "cell_type": "markdown",
   "source": [
    "## 3. System evolution "
   ],
   "metadata": {}
  },
  {
   "cell_type": "markdown",
   "source": [
    "The method `evolve` of a `SpinSys` object simulates the system evolution under a given pulse or iterable (tuple or list) of pulses. The iterable could be irregular, like, for example, `[pulse1, pulse2, [pulse3, (pulse4, pulse5)], pulse6]`. It returns a dictionary of 1D arrays of the user-specified parameters that are monitored throughout the simulation:\n",
    "- Purity of the density matrix \n",
    "    - Evaluated when `eval_purity=True` is specified\n",
    "    - `\"purity\"` entry in the resultant dictionary  \n",
    "- Fidelity of the density matrix with respect to the theoretical (initial,expected final, etc.) matrix\n",
    "    - Evaluated when `eval_fidelity=True` and the reference matrix `rho_reference` are specified\n",
    "    - `\"fidelity\"` entry in the resultant dictionary  \n",
    "- 1-electron density submatrices \n",
    "    - Evaluated when a qubit / iterable of qubits to track `track_qubits` is specified\n",
    "    - `\"submatrix_{i}\"` entry in the resultant dictionary  \n",
    "-  Bloch vector components $\\langle \\sigma_{x} \\rangle, \\langle \\sigma_{y} \\rangle, \\langle \\sigma_{z} \\rangle$\n",
    "    - Evaluated when `eval_Bloch_vectors=True` and an iterable of qubits to track `track_qubits` are specified\n",
    "    - `\"sigma_x_{i}\"`,`\"sigma_y_{i}\"`, `\"sigma_z_{i}\"` entries in the resultant dictionary  \n",
    "    \n",
    "The other entry in the final dictionary, `\"time\"`, incorporates all points in time during the simulation.\n",
    "\n",
    "An optional parameter `track_points_per_pulse` could be used to record only a part of the parameter values during the pulse to save memory (default is 100). In particular, it could be equated to 2 if one wants to record only the parameters before and after each pulse.\n",
    "\n",
    "You can monitor the system evolution with the progress bars. If the system evolves under a sequence of pulses, the bars appear for each of them individually.\n"
   ],
   "metadata": {}
  },
  {
   "cell_type": "markdown",
   "source": [
    "## 4. Basic examples"
   ],
   "metadata": {}
  },
  {
   "cell_type": "markdown",
   "source": [
    "### Rabi oscillations"
   ],
   "metadata": {}
  },
  {
   "cell_type": "markdown",
   "source": [
    "As a simplest example, we consider constant Rabi oscillations with $\\phi = 60^\\circ$, and assume Lande factor to be $g=2$. \n",
    "\n",
    "The Hamiltonian reads as follows: $H = \\frac{\\hbar(\\omega - \\omega_{RF})}{2} \\sigma_z + \\frac{\\hbar\\Omega}{2} \\left( \\cos{60^\\circ}\\ \\sigma_x + \\sin{60^\\circ}\\ \\sigma_y \\right)$, where $\\omega = \\frac{2\\mu_B B_0}{\\hbar}$ is Larmor frequency, $ \\Omega = \\frac{2\\mu_B B_{rf}}{\\hbar}$ is Rabi frequency _(see the explanation of this and other Hamiltonians in the [write-up](https://www.overleaf.com/project/5f4fcbdd5566fb0001f3b6aa) if needed)_.\n",
    "\n",
    "At resonance ($\\omega = \\omega_{RF}$), the electron spin state oscillates between $\\left|\\uparrow\\right>$ and $\\left|\\downarrow\\right>$ with the frequency $\\Omega$ by revolving around the axis $ \\vec{n}=\\left(\\frac{1}{2},\\ \\frac{\\sqrt{3}}{2},\\ 0\\right)^\\mathrm{T}$ on the Bloch sphere. Let us simulate it. \n",
    "\n",
    "_Note: since this example contains objects defined earlier, re-evaluate all the notebook to run it correctly._"
   ],
   "metadata": {}
  },
  {
   "cell_type": "code",
   "execution_count": null,
   "source": [
    "rabi_oscillations = rabi_system.evolve(rabi_test_pulse, \r\n",
    "                               eval_purity=True, \r\n",
    "                               eval_fidelity=True,\r\n",
    "                               rho_reference=rabi_system.rho,   \r\n",
    "                                       #initial matrix used as a reference\r\n",
    "                               track_qubits=1, \r\n",
    "                               eval_Bloch_vectors=True,\r\n",
    "                                track_points_per_pulse=2500\r\n",
    ")\r\n",
    "\r\n",
    "#showing the oscillating Bloch vector components\r\n",
    "\r\n",
    "plt.plot(rabi_oscillations[\"time\"], \r\n",
    "         np.real(rabi_oscillations[\"sigma_y_1\"]), label=\"⟨$\\sigma_y$⟩\") \r\n",
    "plt.plot(rabi_oscillations[\"time\"], \r\n",
    "         np.real(rabi_oscillations[\"sigma_z_1\"]), label=\"⟨$\\sigma_z$⟩\")\r\n",
    "\r\n",
    "plt.grid()\r\n",
    "plt.rc('grid', linestyle=\"dashed\", color='gray') #adding grid\r\n",
    "\r\n",
    "plt.xlabel(\"Time, s\")\r\n",
    "plt.ylabel(\"Bloch vector components\")\r\n",
    "\r\n",
    "plt.legend(loc=\"upper center\", fontsize=\"large\")\r\n",
    "plt.axis([0,1e-7,-1,1])\r\n",
    "plt.show()\r\n"
   ],
   "outputs": [],
   "metadata": {}
  },
  {
   "cell_type": "markdown",
   "source": [
    "Clearly, the sine waves are shifted by $\\frac{\\pi}{2}$ in phase, as expected. \n",
    "Also, the $y-$component of the Bloch vector $\\langle\\sigma_y\\rangle$ oscillates between the values $\\pm \\sin\\left(90^\\circ - 60^\\circ\\right) =\\pm \\frac{1}{2}$ because of the way we chose the rotation axis. \n",
    "The theoretical oscillation period $T_{\\text{theor}}=\\pi\\hbar/\\mu_B B_{\\scriptsize\\text{RF}} = 35.7\\ \\mathrm{ns}$  is in good agreement with the simulated result. "
   ],
   "metadata": {}
  },
  {
   "cell_type": "markdown",
   "source": [
    "The plots of purity and fidelity with respect to the initial state reveal the dephasing process with time constant $T_2$: "
   ],
   "metadata": {}
  },
  {
   "cell_type": "code",
   "execution_count": null,
   "source": [
    "#showing dephasing\r\n",
    "\r\n",
    "plt.plot(rabi_oscillations[\"time\"], \r\n",
    "         np.real(rabi_oscillations[\"fidelity\"]),'r', label=\"fidelity\") \r\n",
    "plt.plot(rabi_oscillations[\"time\"], \r\n",
    "         np.real(rabi_oscillations[\"purity\"]), 'b', label=\"purity\" )\r\n",
    "\r\n",
    "plt.xlabel(\"Time, s\")\r\n",
    "plt.ylabel(\"Fidelity, purity\")\r\n",
    "plt.legend(loc=\"upper right\")\r\n",
    "plt.axis([0,8e-7,0,1])\r\n",
    "\r\n",
    "plt.show()\r\n"
   ],
   "outputs": [],
   "metadata": {}
  },
  {
   "cell_type": "markdown",
   "source": [
    "Since the fidelity of $|\\uparrow\\rangle$ and $|\\uparrow\\rangle$ is 1, and the fidelity of $|\\uparrow\\rangle$ and $|\\downarrow\\rangle$ is 0, we see the oscillations of this quantity that decay due to decoherence. \n",
    "The system purity hits the value $1/e$ at around 500 ns, which is consistent with the definition of $T_2=5\\cdot10^{-7} \\mathrm{s}$. \n",
    "As an exercise, you could check if this equality holds for different system parameters."
   ],
   "metadata": {}
  },
  {
   "cell_type": "markdown",
   "source": [
    "### Addressing individual qubits with the deviation $g-$factors"
   ],
   "metadata": {}
  },
  {
   "cell_type": "markdown",
   "source": [
    "If we could address electron g-factors individually, we could tune them on and off resonance. Indeed, the Hamiltonian in this case is as follows (phase is still zero):\n",
    "\n",
    "$$H = \\sum_i \\frac{\\hbar}{2}\\left(\\omega\\left(1+\\frac{\\delta g_i}{2}\\right) - \\omega_{\\scriptsize\\text{RF}} \\right) \\sigma_{z,i} + \\frac{\\hbar\\Omega}{2} \\sigma_{x,i}$$"
   ],
   "metadata": {}
  },
  {
   "cell_type": "markdown",
   "source": [
    "Consider a two-electron system in the $\\left|\\uparrow\\downarrow\\right>$ configuration. In this case, we need to specify `delta_g_{i}` control variables. We specify meander-like sequences for them:"
   ],
   "metadata": {}
  },
  {
   "cell_type": "code",
   "execution_count": null,
   "source": [
    "#creating spin system, starting with the same parameters as before\r\n",
    "g_manip_system = sps.SpinSys(rho_up_down, **params_rabi) \r\n",
    "#reducing dissipation\r\n",
    "g_manip_system.T_2 = 1e-5\r\n",
    "\r\n",
    "lisdg1 = [1e-2] * 1000 + [0] * 1000 + [1e-2] * 1000   #delta_g_1 pulse\r\n",
    "lisdg2 = [0] * 1000 + [3e-3] * 1000 + [0] * 1000      #delta_g_2 pulse\r\n",
    "\r\n",
    "#plotting pulses \r\n",
    "listime = np.linspace(0, 1e-6, num=3000)\r\n",
    "\r\n",
    "fig, ax = plt.subplots()\r\n",
    "ax.xaxis.set_major_formatter(mtick.FormatStrFormatter('%.1e'))\r\n",
    "ax.yaxis.set_major_formatter(mtick.FormatStrFormatter('%.1e'))\r\n",
    "     # for scientific  number format\r\n",
    "\r\n",
    "ax.plot(listime, lisdg1, label = '$\\delta g_1$')\r\n",
    "ax.plot(listime, lisdg2, label = '$\\delta g_2$')\r\n",
    "\r\n",
    "ax.set_xlabel(\"Time, s\")\r\n",
    "ax.set_ylabel(\"Deviation $g-$factors\")\r\n",
    "ax.legend(loc='center right', fontsize='large')\r\n"
   ],
   "outputs": [],
   "metadata": {}
  },
  {
   "cell_type": "markdown",
   "source": [
    "The other variables are chosen so that no deviation in $g-$factor corresponds to the resonance"
   ],
   "metadata": {}
  },
  {
   "cell_type": "code",
   "execution_count": null,
   "source": [
    "#starting with the same pulse as before\r\n",
    "g_manip_pulse = rabi_test_pulse\r\n",
    "g_manip_pulse.name = \"g-factor manipulation pulse\"\r\n",
    "\r\n",
    "# adding g factor control variables \r\n",
    "g_manip_pulse.add_control_variable(\"delta_g_1\", np.array(lisdg1))\r\n",
    "g_manip_pulse.add_control_variable(\"delta_g_2\", np.array(lisdg2))\r\n",
    "\r\n",
    "# performing the system evolution\r\n",
    "g_manip = g_manip_system.evolve(g_manip_pulse, track_qubits={1,2}, \r\n",
    "                                eval_Bloch_vectors=True,track_points_per_pulse=1000)    \r\n"
   ],
   "outputs": [],
   "metadata": {}
  },
  {
   "cell_type": "code",
   "execution_count": null,
   "source": [
    "#plotting the results\r\n",
    "fig, ax = plt.subplots(figsize=(11,5))    #making the figure wider\r\n",
    "\r\n",
    "ax.plot(g_manip[\"time\"], np.real(g_manip[\"sigma_z_1\"]) ,\"y\", label = \"⟨$\\sigma_{z,1}$⟩, first qubit\") \r\n",
    "ax.plot(g_manip[\"time\"], np.real(g_manip[\"sigma_z_2\"]) ,\"b\", label = \"⟨$\\sigma_{z,2}$⟩, second qubit\") \r\n",
    "ax.legend(loc='upper right', fontsize='large')\r\n",
    "\r\n",
    "ax.set_xlabel(\"Time, s\")\r\n",
    "ax.set_ylabel(\"$z-$components of Bloch vectors\")\r\n",
    "ax.xaxis.set_major_formatter(mtick.FormatStrFormatter('%.2e'))\r\n",
    "     # for scientific  number format\r\n"
   ],
   "outputs": [],
   "metadata": {}
  },
  {
   "cell_type": "markdown",
   "source": [
    "We clearly observe residual oscillations even at large deviation $g$-factor. This happens because the detuned qubit does not return to its initial state after the resonance. The optimal way to choose $\\delta g$ is implemented in `pulsegens` module for control pulse generation (see the [write-up](https://www.overleaf.com/3252553442tbqcmxntqvtk) for the derivation and next section for the examples)."
   ],
   "metadata": {}
  },
  {
   "cell_type": "markdown",
   "source": [
    "### Exchange interaction; scaling up to larger qubit ensembles\n",
    "The exchange interaction in a chain of qubits is described by the Heisenberg Hamiltonian: $H_{ex} = \\sum_i \\frac{J_i}{4} \\vec{\\sigma}_i \\cdot \\vec{\\sigma} _{i+1}$, where $J_i$ are exchange parameters. Knowing that a $ \\mathrm{SWAP}$ operator is given by $$ \\mathrm{SWAP} = \\frac{1}{2}\\left(\\mathbb{1}_1\\mathbb{1}_2 + X_1 X_2 + Y_1 Y_2 +Z_1 Z_2  \\right)$$ and that $ \\mathrm{SWAP}^2 = \\mathbb{1}_1\\mathbb{1}_2$, we could write the time evolution operator for a 2-qubit system:\n",
    "\n",
    "$$U_J = \\exp \\left( -\\frac{iHt}{\\hbar}\\right) = \\exp \\left(\\frac{iJt}{2\\hbar} \\right)\\exp \\left(-\\frac{iJt}{2\\hbar} \\mathrm{SWAP} \\right)\n",
    "= \\exp \\left(\\frac{iJt}{2\\hbar} \\right) \\left( \\cos \\frac{Jt}{2\\hbar} \\mathbb{1}_1\\mathbb{1}_2 - i \\sin\\frac{Jt}{2\\hbar} \\mathrm{SWAP}\\right)\n",
    "$$ \n",
    "\n",
    "Neglecting the global phase factor, we conclude that the $\\mathrm{SWAP}$ gate is realized when $\\frac{Jt}{2\\hbar}= \\frac{\\pi}{2}$, so we obtain $t(\\mathrm{SWAP})= \\frac{\\pi \\hbar}{J} = \\frac{h}{2J} $. Consequently,  $t(\\mathrm{\\sqrt{SWAP}}) = \\frac{h}{4J}.$"
   ],
   "metadata": {}
  },
  {
   "cell_type": "markdown",
   "source": [
    "#### Two qubit exchange pulse"
   ],
   "metadata": {}
  },
  {
   "cell_type": "markdown",
   "source": [
    "To start with, let us test pure exchange oscillations in the isolated 2-qubit system in the $\\left|\\downarrow\\uparrow\\right>$ configuration."
   ],
   "metadata": {}
  },
  {
   "cell_type": "code",
   "execution_count": null,
   "source": [
    "exch_system = sps.SpinSys([psi_down, psi_up])\r\n",
    "#default system parameters, specifyning a list of two wavefunctions\r\n",
    "\r\n",
    "exch_pulse = circ.ControlPulse(\"2_qubit_exchange_pulse\", \"effective\", pulse_length=1e-8)\r\n",
    "J_0 = 1.6e-25\r\n",
    "\r\n",
    "arrj= np.full(500, J_0)\r\n",
    "exch_pulse.add_control_variable(\"J_1\", arrj)\r\n",
    "exch = exch_system.evolve(exch_pulse, track_qubits={1,2}, eval_Bloch_vectors=True)\r\n",
    "\r\n",
    "\r\n",
    "plt.plot(exch[\"time\"],  np.real(exch[\"sigma_z_1\"]), label = \"⟨$\\sigma_{z,1}$⟩, first qubit\") \r\n",
    "plt.plot(exch[\"time\"],  np.real(exch[\"sigma_z_2\"]), label = \"⟨$\\sigma_{z,2}$⟩, second qubit\")\r\n",
    "\r\n",
    "plt.grid()\r\n",
    "plt.rc('grid', linestyle=\"dotted\", color='gray') #adding grid\r\n",
    "\r\n",
    "plt.xlabel(\"Time, s\")\r\n",
    "plt.ylabel(\"$z-$components of Bloch vectors\")\r\n",
    "plt.legend(loc=\"lower right\", fontsize='large')\r\n",
    "\r\n",
    "plt.show()\r\n",
    "print(\"Theoretical value of SWAP time: {:.5} s\".format(consts.h/(2*J_0)))"
   ],
   "outputs": [],
   "metadata": {}
  },
  {
   "cell_type": "markdown",
   "source": [
    "Estimate the simulated value of SWAP time from the plot you have obtained and check if it is consistent with the theoretical one."
   ],
   "metadata": {}
  },
  {
   "cell_type": "markdown",
   "source": [
    "#### Spin wave in a ferromagnet\n",
    "\n",
    "Let us consider a 6-qubit system in the $\\left|\\downarrow \\uparrow \\uparrow \\uparrow \\uparrow \\uparrow\\right>$ configuration. Let us also assume that the chain is ferromagnetic, i.e. all $J_i<0$. The ground state of such a system is achieved when all the spins are parallel. Since there is a flipped spin on the left side, we expect that it will travel to the right, i.e. induce a spin wave.\n",
    "\n",
    "$\\color{red}{\\textbf{Caution:}\\text{ this simulation may take a long time to complete.}}$"
   ],
   "metadata": {}
  },
  {
   "cell_type": "code",
   "execution_count": null,
   "source": [
    "#defining the system\r\n",
    "psi_six = [psi_down] + [psi_up] * 5\r\n",
    "\r\n",
    "six_el_system = sps.SpinSys(psi_six, B_0=B0 )  \r\n",
    "sw_pulse =  circ.ControlPulse(\"spin_wave_pulse\", \"effective\", pulse_length=1e-8) #picoseconds\r\n",
    "\r\n",
    "# defining exchange between all the electrons in the chain \r\n",
    "for i in range(1,7):\r\n",
    "    sw_pulse.add_control_variable(\"J_{}\".format(i), -1 * arrj)\r\n",
    "sw = six_el_system.evolve(sw_pulse, track_qubits={1,2,3,4,5,6}, eval_Bloch_vectors=True)\r\n",
    "\r\n",
    "fig, ax = plt.subplots(figsize=(15,5))\r\n",
    "#fig = plt.figure(figsize=(11,4))\r\n",
    "for i in range(1,7):\r\n",
    "    ax.plot(sw[\"time\"], np.real(sw[\"sigma_z_{}\".format(i)]) , label=('⟨$\\sigma_{z}$⟩'+'$_{}$'.format(i)))\r\n",
    "\r\n",
    "ax.legend(loc='lower center', fontsize='x-large',ncol=3)\r\n",
    "plt.xlabel(\"Time, s\")\r\n",
    "plt.ylabel(\"$z-$components of Bloch vectors\")\r\n",
    "\r\n",
    "ax.xaxis.set_major_formatter(mtick.FormatStrFormatter('%.2e'))\r\n",
    "     # for scientific  number format\r\n",
    "    "
   ],
   "outputs": [],
   "metadata": {}
  },
  {
   "cell_type": "markdown",
   "source": [
    "As expected, the spins are disturbed consecutively from left to right."
   ],
   "metadata": {}
  },
  {
   "cell_type": "markdown",
   "source": [
    "## 5. Simulating quantum gates"
   ],
   "metadata": {}
  },
  {
   "cell_type": "markdown",
   "source": [
    "### Basic pulse generators\n",
    "The `pulsegens` module contains the simple constant pulse generators for the most basic single- and two-qubit operations like single-qubit rotations, $\\mathrm{SWAP}$,  $\\mathrm{\\sqrt{SWAP}}$. See the [write-up](https://www.overleaf.com/3252553442tbqcmxntqvtk) for the background theory of how the pulses are synthesized.\n",
    "\n",
    "Keep in mind that the generation of the \"realistic\" pulses requires much more complicated optimal control methods. The only purpose of the `pulsegens` module is to show the simulation of spin dynamics in action."
   ],
   "metadata": {}
  },
  {
   "cell_type": "markdown",
   "source": [
    "### Single qubit rotations"
   ],
   "metadata": {}
  },
  {
   "cell_type": "markdown",
   "source": [
    "The function `rot_square` from `pulsegens` module that produces single-qubit square ESR pulses requires the following parameters:\n",
    "- `qubits`: the qubit(s) to evolve under the pulse\n",
    "- `axis`: \"X\", \"Y\" or \"Z\"\n",
    "- `theta`: value in **degrees**\n",
    "- `B_rf`: magnitude of the ESR field\n",
    "\n",
    "The optional keyword arguments are as follows:\n",
    "- `num_val`: number of data points in the obtained pulse (default is 300),\n",
    "- `B_0` and `f_rf`. The default values for them are, just as before, $0\\ \\mathrm{T}$ and Larmor frequency, respectively.\n",
    "- `delta_g`: the *approximate* value of deviation $g-$factor used for detuning qubits from resonance when needed (zero by default). The *exact* value is calculated under the hood, since there exists a discrete set of exact $\\delta g$ values that are optimal for ESR rotation, see the [write-up](https://www.overleaf.com/3252553442tbqcmxntqvtk) for the derivation.\n",
    "\n",
    "As an example, we will evolve the $\\left|+\\right> = \\frac{1}{\\sqrt{2}} \\left(\\left|\\uparrow\\right> + \\left| \\downarrow \\right> \\right)$  state with the $\\mathrm{ROTZ}(\\theta)$ gate at $\\theta = 45^\\circ$. Such a gate is constructed in `pulsegens` as follows: \n",
    "$$\\mathrm{ROTZ}(\\theta) = \\mathrm{ROTX}(-90^\\circ) \\ \\mathrm{ROTY}(\\theta) \\ \\mathrm{ROTX}(90^\\circ).$$\n",
    "\n",
    "As a side note, the other way to build it is by properly detuning the system from resonance with the deviation $g-$factor; this method is left as an exercise for the reader.\n"
   ],
   "metadata": {}
  },
  {
   "cell_type": "code",
   "execution_count": null,
   "source": [
    "# Implementing ROTZ(45) gate\r\n",
    "\r\n",
    "rho_plus = np.array([[0.5,0.5],[0.5,0.5]])\r\n",
    "rotz_system = sps.SpinSys(rho_plus, B_0=1, T_2=1e-4, T=4, \r\n",
    "                                                   f_rf=larmor_freq*0.7, time=0)\r\n",
    "\r\n",
    "# ROTZ gate; mind that the angle is given in degrees\r\n",
    "rotz_pi_4_pulse = pulsegens.rot_square(qubits=1, N=1, axis=\"Z\", theta=45, B_0=rotz_system.B_0,\r\n",
    "                                       B_rf=1e-2, f_rf=rotz_system.f_rf, num_val=100)\r\n",
    "\r\n",
    "rotz_pi_4 = rotz_system.evolve((rotz_pi_4_pulse,),\r\n",
    "                               track_qubits=1, eval_Bloch_vectors=True)\r\n",
    "#plotting the results\r\n",
    "fig, ax = plt.subplots(figsize=(11,5))\r\n",
    "\r\n",
    "ax.plot(rotz_pi_4[\"time\"], np.real(rotz_pi_4[\"sigma_x_1\"]) , label='⟨$\\sigma_x$⟩')\r\n",
    "ax.plot(rotz_pi_4[\"time\"], np.real(rotz_pi_4[\"sigma_y_1\"]) , label='⟨$\\sigma_y$⟩')\r\n",
    "ax.plot(rotz_pi_4[\"time\"], np.real(rotz_pi_4[\"sigma_z_1\"]) , label='⟨$\\sigma_z$⟩')\r\n",
    "\r\n",
    "ax.legend(loc='lower left', fontsize='large')\r\n",
    "plt.xlabel(\"Time, s\")\r\n",
    "plt.ylabel(\"Bloch vector components\")\r\n",
    "\r\n",
    "ax.grid()\r\n",
    "ax.xaxis.set_major_formatter(mtick.FormatStrFormatter('%.2e'))\r\n",
    "     # for scientific  number format\r\n"
   ],
   "outputs": [],
   "metadata": {}
  },
  {
   "cell_type": "markdown",
   "source": [
    "Check that the order of simulated Bloch vector rotations is consistent with the theoretical predictions: \n",
    "1. No turn, since the initial state is an eigenstate of $\\sigma_x$.\n",
    "2. Turn by $45^\\circ$ in $x-z$ plane (around $\\hat{y}$ axis).\n",
    "3. Move towards the position between $\\hat{x}$ and $\\hat{y}$ axes in the $x-y$ plane."
   ],
   "metadata": {}
  },
  {
   "cell_type": "markdown",
   "source": [
    "#### $\\mathrm{SWAP} $ and $ \\mathrm{\\sqrt{SWAP}}$ gates\n",
    "\n",
    "These gates have already been discussed in section 4. The duration of the constant exchange pulse is as follows:\n",
    "\n",
    "$t(\\mathrm{SWAP}) = \\frac{h}{2J}; \\quad t(\\mathrm{\\sqrt{SWAP}}) = \\frac{h}{4J}.$ \n",
    "\n",
    "The generators of these operators require the tuple of the two interacting qubit indices (variable `qubits`), and the magnitude of $J$ as parameters. *Mind that the simulator currently supports only nearest-neighbor exchange, so `qubits` should be of the form $(k, k\\pm 1)$, where $k$ is integer.*\n",
    "The keyword arguments `B_0`, `f_rf` and `num_val` are optional. Their default values are the same as in all other cases discussed previously.\n",
    "\n",
    "In the example below, we test that the state $\\left|\\uparrow\\downarrow\\right>$ is transformed into $\\left|\\downarrow\\uparrow\\right>$ upon $\\mathrm{SWAP}$ and check the fidelity with the theoretically predicted density matrix."
   ],
   "metadata": {}
  },
  {
   "cell_type": "code",
   "execution_count": null,
   "source": [
    "#final density matrix in the ideal case\r\n",
    "rho_down_up = np.kron([[0,0],[0,1]], [[1,0],[0,0]])\r\n",
    "\r\n",
    "swap_system = sps.SpinSys(rho_up_down, T_2=1e-6)\r\n",
    "swappulse = pulsegens.swap(N=2, qubits=(1,2), J=1e-25, num_val=500)\r\n",
    "\r\n",
    "swap = swap_system.evolve(swappulse)\r\n",
    "print(\"Fideity with respect to |↓↑⟩ after SWAP: {:.8}\".format(\r\n",
    "                    qmath.fidelity(swap_system.rho, rho_down_up)))\r\n",
    "print(\"Duration of the SWAP pulse: {:.4} ns\".format(swap_system.time * 1e9))"
   ],
   "outputs": [],
   "metadata": {}
  },
  {
   "cell_type": "markdown",
   "source": [
    "#### CZ and CNOT gates"
   ],
   "metadata": {}
  },
  {
   "cell_type": "markdown",
   "source": [
    "Now let us test the performance of such two-qubit gates as $\\mathrm{CZ}$ and $\\mathrm{CNOT}$. As is well known, they are defined by the following matrices:"
   ],
   "metadata": {}
  },
  {
   "cell_type": "code",
   "execution_count": null,
   "source": [
    "cz = np.diag([1,1,1,-1])\r\n",
    "cnot = np.array([[1,0,0,0],[0,1,0,0],[0,0,0,1],[0,0,1,0]], dtype=complex)"
   ],
   "outputs": [],
   "metadata": {}
  },
  {
   "cell_type": "markdown",
   "source": [
    "The network architecture we are aimining at simulating is based on single-qubit rotations and $\\mathrm{\\sqrt{SWAP}}$ gates. Thus, we express $\\mathrm{CZ}$ and  $\\mathrm{CNOT}$ in terms of those gates according to [Buonacorsi et al, 2019](https://iopscience.iop.org/article/10.1088/2058-9565/aaf3c4/pdf).\n",
    "\n",
    "The following notation is the same as .circ files, see the **\"Loading control pulse (.ctrlp) and quantum circuit (.qcirc) files\"** tutorial for explanation. The raw input will be transformed to .circ files with the drawn diagrams at some point:\n"
   ],
   "metadata": {}
  },
  {
   "cell_type": "raw",
   "source": [
    "# Control-Z\r\n",
    "Number of qubits: 4\r\n",
    "ROTZ_1 RZ90 1\r\n",
    "ROTZ_2 RZ-90 2\r\n",
    "RSWAP_1_2 RSWAP 1 2\r\n",
    "ROTZ_1 RZ180 1 \r\n",
    "RSWAP_1_2 RSWAP 1 2\r\n",
    "\r\n",
    "# Control-NOT\r\n",
    "ROTY_2 RY-90 2\r\n",
    "---------------\r\n",
    "'Control-Z sequence from above'\r\n",
    "---------------\r\n",
    "ROTY_2 RY90 2"
   ],
   "metadata": {}
  },
  {
   "cell_type": "markdown",
   "source": [
    "These composite $\\mathrm{CZ}$ and $\\mathrm{CNOT}$ gates will be checked on a randomly defined pure two-qubit system:"
   ],
   "metadata": {}
  },
  {
   "cell_type": "code",
   "execution_count": null,
   "source": [
    "temp = np.random.rand(4,1) + np.random.rand(4,1)*1j          # random complex vector 4x1\r\n",
    "rand_state = temp / np.linalg.norm(temp)                     # properly defined state vector (random vector normalized by its norm)\r\n",
    "rho_rand = np.kron(rand_state, rand_state.T.conj())          # random pure 2-electron density matrix\r\n",
    "\r\n",
    "print(\"Random 2-qubit pure density matrix:\\n {}\".format(np.round(rho_rand, 4)))    # np.round is used not to deal with the global precision settings\r\n",
    "                                                             # in np.set_printoptions  "
   ],
   "outputs": [],
   "metadata": {}
  },
  {
   "cell_type": "markdown",
   "source": [
    "Now let us simulate $\\mathrm{CZ}$ and  $\\mathrm{CNOT}$ gates by realizing the sequences of ESR and exchange pulses defined above.\n",
    "We also create `ideal` matrices corresponding to the initial matrix transformed under the ideal gates (`cz` and `cnot`). They are used to calculate fidelity of the simulated density matrix after the sequence of pulses. Apart from that, we monitor how the purity changes.\n",
    "\n",
    "__Remark__: if the value of fidelity you obtain (e.g for different parameters) is too small, it could be due to the lack of precision in the simulation. Try increasing the values of `num_val` for the pulses.  \n",
    "\n",
    "Let us start with the $\\mathrm{CZ}$ gate applied on the system with the density matrix `rho_rand`."
   ],
   "metadata": {}
  },
  {
   "cell_type": "code",
   "execution_count": null,
   "source": [
    "#defining random system  with a small off-resonance frequency shift\r\n",
    "params = {\"B_0\" : B0, \"f_rf\"  : larmor_freq*0.995}\r\n",
    "rand_sys = sps.SpinSys(rho_rand, **params)\r\n",
    "\r\n",
    "#defining CZ sequence\r\n",
    "B_rf=1e-4\r\n",
    "J=1e-24\r\n",
    "delta_g = 1e-4\r\n",
    "\r\n",
    "rz90_1 = pulsegens.rot_square(qubits=1, N=rand_sys.N_0, axis=\"Z\", theta=90, \r\n",
    "                              **params, B_rf=B_rf, num_val=1300, delta_g=delta_g)\r\n",
    "rzmin90_2 = pulsegens.rot_square(2, rand_sys.N_0, \"Z\", -90,  B_rf=B_rf, delta_g=delta_g, \r\n",
    "                                 **params, num_val=500)\r\n",
    "rswap = pulsegens.rswap([1,2], rand_sys.N_0, J, **params, num_val=1000)\r\n",
    "rz180_1 = pulsegens.rot_square(1, rand_sys.N_0, \"Z\", 180, B_rf=B_rf, **params, num_val=700)\r\n",
    "\r\n",
    "cz_seq = [rz90_1, rzmin90_2, rswap, rz180_1 , rswap]\r\n",
    "\r\n",
    "rand_sys.evolve(cz_seq)\r\n",
    "ideal = cz @ rho_rand @ cz.T.conj()\r\n",
    "\r\n",
    "# There is no need to track the fidelity and purity during the pulse\r\n",
    "# so we calculate them once, right after the end of the pulse\r\n",
    "\r\n",
    "print(\"Fideity after CZ: {:.8}\".format(qmath.fidelity(rand_sys.rho, ideal)))\r\n",
    "print(\"Purity after CZ: {:.8}\".format(qmath.purity(rand_sys.rho)))\r\n",
    "print(\"\\nSimulated density matrix:\\n\", np.round(rand_sys.rho,4), \"\\n\\nAfter the evolution under ideal gate\" , '\\n',np.round(ideal, 4))\r\n"
   ],
   "outputs": [],
   "metadata": {}
  },
  {
   "cell_type": "markdown",
   "source": [
    "As an exercise, compare the two matrices shown above and estimate the error of the numerical simulation depending on the values of `num_val` parameters.\n",
    "\n",
    "Now let us apply $\\mathrm{CNOT}$ gate on the same system (that has just evolved under $\\mathrm{CZ}$). As an exercise, you could run the cell several times in a row: each run will correspond to a new $\\mathrm{CNOT}$ applied. You will notice that the values of fidelity and purity will decrease over time. "
   ],
   "metadata": {}
  },
  {
   "cell_type": "code",
   "execution_count": null,
   "source": [
    "#saving the value of density matrix before the pulse to track the ideal evolution\r\n",
    "new_rho_rand = rand_sys.rho \r\n",
    "\r\n",
    "rymin90_2 =  pulsegens.rot_square(2, rand_sys.N_0, \"Y\", -90,  B_rf=B_rf, delta_g=delta_g, \r\n",
    "                                 **params, num_val=1400)\r\n",
    "ry90_2 =  pulsegens.rot_square(2, rand_sys.N_0, \"Y\", 90, B_rf=B_rf, delta_g=delta_g, **params)\r\n",
    "\r\n",
    "cnot_seq = [rymin90_2, cz_seq, ry90_2]\r\n",
    "\r\n",
    "rand_sys.evolve(cnot_seq)\r\n",
    "ideal = cnot @ new_rho_rand @ cnot.T.conj()\r\n",
    "\r\n",
    "print(\"\\nFideity after CNOT: {:.8}\".format(qmath.fidelity(rand_sys.rho, ideal)))\r\n",
    "print(\"Purity after CNOT: {:.8}\".format(qmath.purity(rand_sys.rho)))\r\n",
    "print(\"\\nSimulated density matrix:\\n\", np.round(rand_sys.rho,4), \r\n",
    "          \"\\n\\nAfter the evolution under ideal gate:\" , '\\n',np.round(ideal, 4))\r\n"
   ],
   "outputs": [],
   "metadata": {}
  },
  {
   "cell_type": "code",
   "execution_count": null,
   "source": [],
   "outputs": [],
   "metadata": {}
  }
 ],
 "metadata": {
  "kernelspec": {
   "name": "python3",
   "display_name": "Python 3.8.3 64-bit ('QuDiPy': conda)"
  },
  "language_info": {
   "codemirror_mode": {
    "name": "ipython",
    "version": 3
   },
   "file_extension": ".py",
   "mimetype": "text/x-python",
   "name": "python",
   "nbconvert_exporter": "python",
   "pygments_lexer": "ipython3",
   "version": "3.8.3"
  },
  "interpreter": {
   "hash": "da6dda72914226e58fb144666c61ad59139f1f9928d1882fbc5ac49fe577ae39"
  }
 },
 "nbformat": 4,
 "nbformat_minor": 4
}