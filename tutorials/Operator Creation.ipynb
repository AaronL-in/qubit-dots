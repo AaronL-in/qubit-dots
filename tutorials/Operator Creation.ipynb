{
 "cells": [
  {
   "cell_type": "markdown",
   "metadata": {},
   "source": [
    "# Operator Creation Tutorial"
   ]
  },
  {
   "cell_type": "markdown",
   "metadata": {},
   "source": [
    "This tutorial will teach you how to interface with the unitary class in matrices.py to add/remove general unitary operators from the Unitary Operators.npz object file. The Unitary Operators.npz object contains a dictionary of unitary operators. The key expresses the name of the unitary while the value associated with the key is a complex valued array. This tutorial will focus on creating and modifiying a unitary object file named Unitary Operators Tutorial.npz. There exist a copy of the file under the QuDiPy tutorial data directory."
   ]
  },
  {
   "cell_type": "markdown",
   "metadata": {},
   "source": [
    "## 1. Add current location path and import packages"
   ]
  },
  {
   "cell_type": "code",
   "execution_count": null,
   "metadata": {},
   "outputs": [],
   "source": [
    "import os, sys\n",
    "sys.path.append(os.path.dirname(os.getcwd()))\n",
    "\n",
    "original_dir = os.path.dirname(os.getcwd())\n",
    "print(original_dir)\n",
    "\n",
    "# This will be used to access a tutorial unitary object file\n",
    "tutorial_data_dir = os.path.join(original_dir,'tutorials','QuDiPy tutorial data')\n",
    "\n",
    "print(tutorial_data_dir)\n",
    "\n",
    "import qudipy.qutils.matrices as matr\n",
    "\n",
    "import numpy as np\n",
    "import matplotlib.pyplot as plt"
   ]
  },
  {
   "cell_type": "markdown",
   "metadata": {},
   "source": [
    "## 2. Initialize an operator object from the unitary class\n",
    "\n",
    "If no Unitary Operators.npz file exist an object, called ops, can be initialized with an hard coded operator dictionary or left as an empty dictionary. For the tutarial examples that follow you will use Unitary Operators Tutorial.npz object file which you will create now."
   ]
  },
  {
   "cell_type": "code",
   "execution_count": null,
   "metadata": {},
   "outputs": [],
   "source": [
    "# Dictionary to initialize ops object with\n",
    "init_ops = {\n",
    "    'PAULI_X': np.array([[0, 1], [1, 0]], dtype=complex),\n",
    "    'PAULI_Y': np.array([[0, -1.0j], \n",
    "        [1.0j, 0]],dtype=complex),\n",
    "    'PAULI_Z': np.array([[1, 0], [0, -1]], dtype=complex),\n",
    "    'PAULI_I': np.array([[1, 0], [0, 1]], dtype=complex),\n",
    "    'PAULI_I_4x4': np.array([[1, 0, 0, 0], \n",
    "                            [0, 1, 0, 0], \n",
    "                            [0, 0, 1, 0], \n",
    "                            [0, 0, 0, 1]], dtype=complex)\n",
    "}\n",
    "\n",
    "# Initialize unitary object:\n",
    "\n",
    "# change working directory to the tutorial data directory for loading/saving\n",
    "# files\n",
    "os.chdir(tutorial_data_dir)"
   ]
  },
  {
   "cell_type": "markdown",
   "metadata": {},
   "source": [
    "### 2.1 With an existing dictionary but no object file"
   ]
  },
  {
   "cell_type": "code",
   "execution_count": null,
   "metadata": {},
   "outputs": [],
   "source": [
    "#Initialize the operator object library\n",
    "ops1 = matr.Operator(operators=init_ops)\n",
    "\n",
    "# Specify filename for unitary operators object\n",
    "filename = 'Operators Tutorial.npz'\n",
    "\n",
    "# Now you can save the object file to the tutorial data directory using the \n",
    "# save_ops() method\n",
    "ops1.save_ops(filename)\n",
    "\n",
    "# load dictionary of operators from unitary object\n",
    "ops1.load_ops(filename=filename)\n",
    "\n",
    "print('Existing dictionary but no object file: {}'.format(ops1.keys()))"
   ]
  },
  {
   "cell_type": "markdown",
   "metadata": {},
   "source": [
    "### 2.2 With an existing dictionary and object file\n",
    "Now you can define an operator dictionary for unitary operators you wish to add to the existing operator ops object or initialize a new object with an object file and user defined dictionary"
   ]
  },
  {
   "cell_type": "code",
   "execution_count": null,
   "metadata": {},
   "outputs": [],
   "source": [
    "tutorial_ops = {\n",
    "    'unitary1':  np.array([[1, 0], [0, 1]], dtype=complex),\n",
    "    'unitary2':  0.5*np.array([[complex(1.0, -1.0), complex(1.0, 1.0)], \n",
    "        [complex(1.0, 1.0), complex(1.0, -1.0)]], dtype=complex)\n",
    "}\n",
    "\n",
    "ops2 = matr.Operator(operators=tutorial_ops, filename='Operators Tutorial.npz')\n",
    "\n",
    "print('Existing dictionary and object file: {}'.format(ops2.keys()))"
   ]
  },
  {
   "cell_type": "markdown",
   "metadata": {},
   "source": [
    "### 2.3 With object file but no user defined dictionary"
   ]
  },
  {
   "cell_type": "code",
   "execution_count": null,
   "metadata": {},
   "outputs": [],
   "source": [
    "ops3 = matr.Operator(filename='Operators Tutorial')\n",
    "\n",
    "print('Object file but no user defined dictionary: {}'.format(ops3.keys()))"
   ]
  },
  {
   "cell_type": "markdown",
   "metadata": {},
   "source": [
    "### 2.4 With empty operators dictionary"
   ]
  },
  {
   "cell_type": "code",
   "execution_count": null,
   "metadata": {},
   "outputs": [],
   "source": [
    "ops4 = matr.Operator()\n",
    "\n",
    "print('Empty operators dictionary: {}'.format(ops4.keys()))"
   ]
  },
  {
   "cell_type": "markdown",
   "metadata": {},
   "source": [
    "## 3. Load operator object and unitary class usage examples"
   ]
  },
  {
   "cell_type": "code",
   "execution_count": null,
   "metadata": {},
   "outputs": [],
   "source": [
    "# Load dictionary of operators from unitary object\n",
    "ops1.operators = ops1.load_ops(filename)\n",
    "\n",
    "# Loading/saving unitary object file from tutorial data directory is done\n",
    "# so now we change the working directory back to the original\n",
    "os.chdir(original_dir)\n",
    "\n",
    "# Add new operators to exist operators dictionary\n",
    "ops1.add_operators(tutorial_ops)\n",
    "\n",
    "print(ops1.keys())\n",
    "\n",
    "# Remove no longer needed operators\n",
    "op_names = ['unitary1','unitary2']\n",
    "\n",
    "ops1.remove_operators(op_names)\n",
    "\n",
    "print(ops1.keys())       "
   ]
  },
  {
   "cell_type": "markdown",
   "metadata": {},
   "source": [
    "### 3.1 Keeping track if operator library is contains only unitary operators"
   ]
  },
  {
   "cell_type": "markdown",
   "metadata": {},
   "source": [
    "We can check if the operator library contains any non-unitary operators via the object attribute 'is_unitary'."
   ]
  },
  {
   "cell_type": "code",
   "execution_count": null,
   "metadata": {},
   "outputs": [],
   "source": [
    "print(ops1.is_unitary)"
   ]
  },
  {
   "cell_type": "markdown",
   "metadata": {},
   "source": [
    "Now operators can be added which are non-unitary and we see that the 'is_unitary' attribute gets updated."
   ]
  },
  {
   "cell_type": "code",
   "execution_count": null,
   "metadata": {},
   "outputs": [],
   "source": [
    "tutorial_ops = {\n",
    "    'not-unitary1':  np.array([[1, 0], [0, 2]], dtype=complex),\n",
    "    'not-unitary2':  np.array([[2, 0], [0, 1]], dtype=complex)\n",
    "}\n",
    "\n",
    "# Add new operators to exist operators dictionary\n",
    "ops1.add_operators(tutorial_ops)\n",
    "\n",
    "# The 'is_unitary' attribute has been changed\n",
    "print(ops1.is_unitary)"
   ]
  },
  {
   "cell_type": "markdown",
   "metadata": {},
   "source": [
    "Finally, removing the non-unitary operators we see that the 'is_unitary' attribute is once again updated.  "
   ]
  },
  {
   "cell_type": "code",
   "execution_count": null,
   "metadata": {},
   "outputs": [],
   "source": [
    "# Remove the non-unitary operators\n",
    "ops1.remove_operators(tutorial_ops)\n",
    "\n",
    "# Now check if the library attribute 'is_unitary' has changed\n",
    "print(ops1.is_unitary)"
   ]
  },
  {
   "cell_type": "markdown",
   "metadata": {},
   "source": [
    "### 3.2 Operators must be complex valued"
   ]
  },
  {
   "cell_type": "code",
   "execution_count": null,
   "metadata": {},
   "outputs": [],
   "source": [
    "tutorial_ops = {\n",
    "    'not-complex':  np.array([[1, 0], [0, 1]], dtype=int)\n",
    "}\n",
    "\n",
    "# Add new operators to exist operators dictionary\n",
    "ops1.add_operators(tutorial_ops)"
   ]
  },
  {
   "cell_type": "markdown",
   "metadata": {},
   "source": [
    "### 3.3 Operators must be an array"
   ]
  },
  {
   "cell_type": "code",
   "execution_count": null,
   "metadata": {},
   "outputs": [],
   "source": [
    "tutorial_ops = {\n",
    "    'not-array':  [[-1, 0], [0, -1]]\n",
    "}\n",
    "\n",
    "# Add new operators to exist operators dictionary\n",
    "ops1.add_operators(tutorial_ops)"
   ]
  },
  {
   "cell_type": "markdown",
   "metadata": {},
   "source": [
    "### 3.4 Operators **must** be square"
   ]
  },
  {
   "cell_type": "code",
   "execution_count": null,
   "metadata": {},
   "outputs": [],
   "source": [
    "tutorial_ops = {\n",
    "    'not-square':  np.array([[1, 0, 0], [0, 1, 0]], dtype=complex)\n",
    "}\n",
    "\n",
    "# Add new operators to exist operators dictionary\n",
    "ops1.add_operators(tutorial_ops)"
   ]
  }
 ],
 "metadata": {
  "interpreter": {
   "hash": "e3145dc9b2a53ea5ac2494bc3b75f1aa28628e1ed5acacda692ef3a5045a8456"
  },
  "kernelspec": {
   "display_name": "Python 3.8.3 64-bit ('base': conda)",
   "name": "python3"
  },
  "language_info": {
   "codemirror_mode": {
    "name": "ipython",
    "version": 3
   },
   "file_extension": ".py",
   "mimetype": "text/x-python",
   "name": "python",
   "nbconvert_exporter": "python",
   "pygments_lexer": "ipython3",
   "version": "3.10.0"
  }
 },
 "nbformat": 4,
 "nbformat_minor": 4
}
