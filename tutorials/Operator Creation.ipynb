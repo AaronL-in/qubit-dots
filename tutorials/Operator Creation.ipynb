{
 "cells": [
  {
   "cell_type": "markdown",
   "metadata": {},
   "source": [
    "# Operator Creation Tutorial"
   ]
  },
  {
   "cell_type": "markdown",
   "metadata": {},
   "source": [
    "This tutorial will teach you how to interface with the unitary class in matrices.py to add/remove general unitary operators from the Unitary Operators.npz object file. The Unitary Operators.npz object contains a dictionary of unitary operators. The key expresses the name of the unitary while the value associated with the key is a complex valued array. This tutorial will focus on creating and modifiying a unitary object file named Unitary Operators Tutorial.npz. There exist a copy of the file under the QuDiPy tutorial data directory."
   ]
  },
  {
   "cell_type": "markdown",
   "metadata": {},
   "source": [
    "## 1. Add current location path and import packages"
   ]
  },
  {
   "cell_type": "code",
   "execution_count": 1,
   "metadata": {},
   "outputs": [
    {
     "name": "stdout",
     "output_type": "stream",
     "text": [
      "/home/zach/Documents/github/operators\n",
      "/home/zach/Documents/github/operators/tutorials/QuDiPy tutorial data\n"
     ]
    }
   ],
   "source": [
    "import os, sys\n",
    "sys.path.append(os.path.dirname(os.getcwd()))\n",
    "\n",
    "original_dir = os.path.dirname(os.getcwd())\n",
    "print(original_dir)\n",
    "\n",
    "# This will be used to access a tutorial unitary object file\n",
    "tutorial_data_dir = os.path.join(original_dir,'tutorials','QuDiPy tutorial data')\n",
    "\n",
    "print(tutorial_data_dir)\n",
    "\n",
    "import qudipy.qutils.matrices as matr\n",
    "\n",
    "import numpy as np\n",
    "import matplotlib.pyplot as plt"
   ]
  },
  {
   "cell_type": "markdown",
   "metadata": {},
   "source": [
    "## 2. Initialize an operator object from the unitary class\n",
    "\n",
    "If no Unitary Operators.npz file exist an object, called ops, can be initialized with an hard coded operator dictionary or left as an empty dictionary. For the tutarial examples that follow you will use Unitary Operators Tutorial.npz object file which you will create now."
   ]
  },
  {
   "cell_type": "code",
   "execution_count": 2,
   "metadata": {},
   "outputs": [],
   "source": [
    "# Dictionary to initialize ops object with\n",
    "init_ops = {\n",
    "    'PAULI_X': np.array([[0, 1], [1, 0]], dtype=complex),\n",
    "    'PAULI_Y': np.array([[0, -1.0j], \n",
    "        [1.0j, 0]],dtype=complex),\n",
    "    'PAULI_Z': np.array([[1, 0], [0, -1]], dtype=complex),\n",
    "    'PAULI_I': np.array([[1, 0], [0, 1]], dtype=complex),\n",
    "    'PAULI_I_4x4': np.array([[1, 0, 0, 0], \n",
    "                            [0, 1, 0, 0], \n",
    "                            [0, 0, 1, 0], \n",
    "                            [0, 0, 0, 1]], dtype=complex)\n",
    "}\n",
    "\n",
    "# Initialize unitary object:\n",
    "\n",
    "# change working directory to the tutorial data directory for loading/saving\n",
    "# files\n",
    "os.chdir(tutorial_data_dir)"
   ]
  },
  {
   "cell_type": "markdown",
   "metadata": {},
   "source": [
    "### 2.1 With an existing dictionary but no object file"
   ]
  },
  {
   "cell_type": "code",
   "execution_count": 3,
   "metadata": {},
   "outputs": [
    {
     "name": "stdout",
     "output_type": "stream",
     "text": [
      "Adding operators: dict_keys(['PAULI_X', 'PAULI_Y', 'PAULI_Z', 'PAULI_I']).\n",
      "Saved existing dictionary with operators: dict_keys(['PAULI_X', 'PAULI_Y', 'PAULI_Z', 'PAULI_I', 'PAULI_I_4x4']).\n",
      "Loaded existing dictionary with operators: dict_keys(['PAULI_X', 'PAULI_Y', 'PAULI_Z', 'PAULI_I', 'PAULI_I_4x4']).\n",
      "Existing dictionary but no object file: dict_keys(['PAULI_X', 'PAULI_Y', 'PAULI_Z', 'PAULI_I', 'PAULI_I_4x4'])\n"
     ]
    }
   ],
   "source": [
    "ops1 = matr.Operator(operators=init_ops)\n",
    "\n",
    "# Specify filename for unitary operators object\n",
    "filename = 'Operators Tutorial.npz'\n",
    "\n",
    "# Now you can save the object file to the tutorial data directory using the \n",
    "# save_ops() method\n",
    "ops1.save_ops(filename)\n",
    "\n",
    "# load dictionary of operators from unitary object\n",
    "ops1.operators = ops1.load_ops(filename=filename)\n",
    "\n",
    "print('Existing dictionary but no object file: {}'.format(ops1.operators.keys()))"
   ]
  },
  {
   "cell_type": "markdown",
   "metadata": {},
   "source": [
    "### 2.2 With an existing dictionary and object file\n",
    "Now you can define an operator dictionary for unitary operators you wish to add to the existing operator ops object or initialize a new object with an object file and user defined dictionary"
   ]
  },
  {
   "cell_type": "code",
   "execution_count": 4,
   "metadata": {},
   "outputs": [
    {
     "name": "stdout",
     "output_type": "stream",
     "text": [
      "Loaded existing dictionary with operators: dict_keys(['PAULI_X', 'PAULI_Y', 'PAULI_Z', 'PAULI_I', 'PAULI_I_4x4']).\n",
      "Adding operators: dict_keys(['PAULI_X', 'PAULI_Y', 'PAULI_Z', 'PAULI_I', 'PAULI_I_4x4']).\n",
      "Adding operators: dict_keys(['PAULI_X', 'PAULI_Y', 'PAULI_Z', 'PAULI_I']).\n",
      "Existing dictionary and object file: dict_keys(['unitary1', 'unitary2', 'PAULI_X', 'PAULI_Y', 'PAULI_Z', 'PAULI_I', 'PAULI_I_4x4'])\n"
     ]
    }
   ],
   "source": [
    "tutorial_ops = {\n",
    "    'unitary1':  np.array([[1, 0], [0, 1]], dtype=complex),\n",
    "    'unitary2':  0.5*np.array([[complex(1.0, -1.0), complex(1.0, 1.0)], \n",
    "        [complex(1.0, 1.0), complex(1.0, -1.0)]], dtype=complex)\n",
    "}\n",
    "\n",
    "ops2 = matr.Operator(operators=tutorial_ops, filename='Operators Tutorial.npz')\n",
    "\n",
    "print('Existing dictionary and object file: {}'.format(ops2.lib.keys()))"
   ]
  },
  {
   "cell_type": "markdown",
   "metadata": {},
   "source": [
    "### 2.3 With object file but no user defined dictionary"
   ]
  },
  {
   "cell_type": "code",
   "execution_count": 5,
   "metadata": {},
   "outputs": [
    {
     "name": "stdout",
     "output_type": "stream",
     "text": [
      "Loaded existing dictionary with operators: dict_keys(['PAULI_X', 'PAULI_Y', 'PAULI_Z', 'PAULI_I', 'PAULI_I_4x4']).\n",
      "Adding operators: dict_keys(['PAULI_X', 'PAULI_Y', 'PAULI_Z', 'PAULI_I']).\n",
      "Object file but no user defined dictionary: dict_keys(['PAULI_X', 'PAULI_Y', 'PAULI_Z', 'PAULI_I', 'PAULI_I_4x4'])\n"
     ]
    }
   ],
   "source": [
    "ops3 = matr.Operator(filename='Unitary Operators Tutorial')\n",
    "\n",
    "print('Object file but no user defined dictionary: {}'.format(ops3.lib.keys()))"
   ]
  },
  {
   "cell_type": "markdown",
   "metadata": {},
   "source": [
    "### 2.4 With empty operators dictionary"
   ]
  },
  {
   "cell_type": "code",
   "execution_count": 6,
   "metadata": {},
   "outputs": [
    {
     "name": "stdout",
     "output_type": "stream",
     "text": [
      "Adding operators: dict_keys(['PAULI_X', 'PAULI_Y', 'PAULI_Z', 'PAULI_I']).\n",
      "Empty operators dictionary: dict_keys(['PAULI_X', 'PAULI_Y', 'PAULI_Z', 'PAULI_I'])\n"
     ]
    }
   ],
   "source": [
    "ops4 = matr.Operator()\n",
    "\n",
    "print('Empty operators dictionary: {}'.format(ops4.lib.keys()))"
   ]
  },
  {
   "cell_type": "markdown",
   "metadata": {},
   "source": [
    "## 3. Load operator object and unitary class usage examples"
   ]
  },
  {
   "cell_type": "code",
   "execution_count": 7,
   "metadata": {},
   "outputs": [
    {
     "name": "stdout",
     "output_type": "stream",
     "text": [
      "Loaded existing dictionary with operators: dict_keys(['PAULI_X', 'PAULI_Y', 'PAULI_Z', 'PAULI_I', 'PAULI_I_4x4']).\n",
      "Adding operators: dict_keys(['unitary1', 'unitary2']).\n",
      "dict_keys(['PAULI_X', 'PAULI_Y', 'PAULI_Z', 'PAULI_I', 'PAULI_I_4x4', 'unitary1', 'unitary2'])\n",
      "Removing unitary operators: ['unitary1', 'unitary2'].\n",
      "dict_keys(['PAULI_X', 'PAULI_Y', 'PAULI_Z', 'PAULI_I', 'PAULI_I_4x4'])\n"
     ]
    }
   ],
   "source": [
    "# Load dictionary of operators from unitary object\n",
    "ops1.operators = ops1.load_ops(filename)\n",
    "\n",
    "# Loading/saving unitary object file from tutorial data directory is done\n",
    "# so now we change the working directory back to the original\n",
    "os.chdir(original_dir)\n",
    "\n",
    "# Add new operators to exist operators dictionary\n",
    "ops1.add_operators(tutorial_ops)\n",
    "\n",
    "print(ops1.lib.keys())\n",
    "\n",
    "# Remove no longer needed operators\n",
    "op_names = ['unitary1','unitary2']\n",
    "\n",
    "ops1.remove_operators(op_names)\n",
    "\n",
    "print(ops1.lib.keys())       "
   ]
  },
  {
   "cell_type": "markdown",
   "metadata": {},
   "source": [
    "### 3.1 Keeping track if operator library is contains only unitary operators"
   ]
  },
  {
   "cell_type": "markdown",
   "metadata": {},
   "source": [
    "We can check if the operator library contains any non-unitary operators via the object attribute 'is_unitary'."
   ]
  },
  {
   "cell_type": "code",
   "execution_count": 8,
   "metadata": {},
   "outputs": [
    {
     "name": "stdout",
     "output_type": "stream",
     "text": [
      "True\n"
     ]
    }
   ],
   "source": [
    "print(ops1.is_unitary)"
   ]
  },
  {
   "cell_type": "markdown",
   "metadata": {},
   "source": [
    "Now operators can be added which are non-unitary and we see that the 'is_unitary' attribute gets updated."
   ]
  },
  {
   "cell_type": "code",
   "execution_count": 9,
   "metadata": {},
   "outputs": [
    {
     "name": "stdout",
     "output_type": "stream",
     "text": [
      "Adding operators: dict_keys(['not-unitary1', 'not-unitary2']).\n",
      "False\n"
     ]
    }
   ],
   "source": [
    "tutorial_ops = {\n",
    "    'not-unitary1':  np.array([[1, 0], [0, 2]], dtype=complex),\n",
    "    'not-unitary2':  np.array([[2, 0], [0, 1]], dtype=complex)\n",
    "}\n",
    "\n",
    "# Add new operators to exist operators dictionary\n",
    "ops1.add_operators(tutorial_ops)\n",
    "\n",
    "# The 'is_unitary' attribute has been changed\n",
    "print(ops1.is_unitary)"
   ]
  },
  {
   "cell_type": "markdown",
   "metadata": {},
   "source": [
    "Finally, removing the non-unitary operators we see that the 'is_unitary' attribute is once again updated.  "
   ]
  },
  {
   "cell_type": "code",
   "execution_count": 10,
   "metadata": {},
   "outputs": [
    {
     "name": "stdout",
     "output_type": "stream",
     "text": [
      "Removing unitary operators: {'not-unitary1': array([[1.+0.j, 0.+0.j],\n",
      "       [0.+0.j, 2.+0.j]]), 'not-unitary2': array([[2.+0.j, 0.+0.j],\n",
      "       [0.+0.j, 1.+0.j]])}.\n",
      "True\n"
     ]
    }
   ],
   "source": [
    "# Remove the non-unitary operators\n",
    "ops1.remove_operators(tutorial_ops)\n",
    "\n",
    "# Now check if the library attribute 'is_unitary' has changed\n",
    "print(ops1.is_unitary)"
   ]
  },
  {
   "cell_type": "markdown",
   "metadata": {},
   "source": [
    "### 3.2 Operators must be complex valued"
   ]
  },
  {
   "cell_type": "code",
   "execution_count": 11,
   "metadata": {},
   "outputs": [
    {
     "name": "stdout",
     "output_type": "stream",
     "text": [
      "Adding operators: dict_keys(['not-complex']).\n",
      "Data type of first element for not-complex is not complex, but is: <class 'numpy.int64'>.\n"
     ]
    }
   ],
   "source": [
    "tutorial_ops = {\n",
    "    'not-complex':  np.array([[1, 0], [0, 1]], dtype=int)\n",
    "}\n",
    "\n",
    "# Add new operators to exist operators dictionary\n",
    "ops1.add_operators(tutorial_ops)"
   ]
  },
  {
   "cell_type": "markdown",
   "metadata": {},
   "source": [
    "### 3.3 Operators must be an array"
   ]
  },
  {
   "cell_type": "code",
   "execution_count": 12,
   "metadata": {},
   "outputs": [
    {
     "name": "stdout",
     "output_type": "stream",
     "text": [
      "Adding operators: dict_keys(['not-array']).\n",
      "Data type of not-array is not ndarray, but is: <class 'list'>.\n",
      "Data type of first element for not-array is not complex, but is: <class 'numpy.int64'>.\n"
     ]
    }
   ],
   "source": [
    "tutorial_ops = {\n",
    "    'not-array':  [[-1, 0], [0, -1]]\n",
    "}\n",
    "\n",
    "# Add new operators to exist operators dictionary\n",
    "ops1.add_operators(tutorial_ops)"
   ]
  },
  {
   "cell_type": "markdown",
   "metadata": {},
   "source": [
    "### 3.4 Operators **must** be square"
   ]
  },
  {
   "cell_type": "code",
   "execution_count": 13,
   "metadata": {},
   "outputs": [
    {
     "name": "stdout",
     "output_type": "stream",
     "text": [
      "Adding operators: dict_keys(['not-square']).\n"
     ]
    },
    {
     "ename": "ValueError",
     "evalue": "Operator entry contains a non-square array of size [2,3].",
     "output_type": "error",
     "traceback": [
      "\u001b[0;31m---------------------------------------------------------------------------\u001b[0m",
      "\u001b[0;31mValueError\u001b[0m                                Traceback (most recent call last)",
      "\u001b[0;32m/tmp/ipykernel_18678/3173848574.py\u001b[0m in \u001b[0;36m<module>\u001b[0;34m\u001b[0m\n\u001b[1;32m      4\u001b[0m \u001b[0;34m\u001b[0m\u001b[0m\n\u001b[1;32m      5\u001b[0m \u001b[0;31m# Add new operators to exist operators dictionary\u001b[0m\u001b[0;34m\u001b[0m\u001b[0;34m\u001b[0m\u001b[0m\n\u001b[0;32m----> 6\u001b[0;31m \u001b[0mops1\u001b[0m\u001b[0;34m.\u001b[0m\u001b[0madd_operators\u001b[0m\u001b[0;34m(\u001b[0m\u001b[0mtutorial_ops\u001b[0m\u001b[0;34m)\u001b[0m\u001b[0;34m\u001b[0m\u001b[0;34m\u001b[0m\u001b[0m\n\u001b[0m",
      "\u001b[0;32m~/Documents/github/operators/qudipy/qutils/matrices.py\u001b[0m in \u001b[0;36madd_operators\u001b[0;34m(self, new_ops)\u001b[0m\n\u001b[1;32m    262\u001b[0m \u001b[0;34m\u001b[0m\u001b[0m\n\u001b[1;32m    263\u001b[0m         \u001b[0;31m# Check the new operators\u001b[0m\u001b[0;34m\u001b[0m\u001b[0;34m\u001b[0m\u001b[0m\n\u001b[0;32m--> 264\u001b[0;31m         \u001b[0mself\u001b[0m\u001b[0;34m.\u001b[0m\u001b[0mcheck_ops\u001b[0m\u001b[0;34m(\u001b[0m\u001b[0mnew_ops\u001b[0m\u001b[0;34m)\u001b[0m\u001b[0;34m\u001b[0m\u001b[0;34m\u001b[0m\u001b[0m\n\u001b[0m\u001b[1;32m    265\u001b[0m \u001b[0;34m\u001b[0m\u001b[0m\n\u001b[1;32m    266\u001b[0m         \u001b[0;31m# If any non-unitary operator exist assign false\u001b[0m\u001b[0;34m\u001b[0m\u001b[0;34m\u001b[0m\u001b[0m\n",
      "\u001b[0;32m~/Documents/github/operators/qudipy/qutils/matrices.py\u001b[0m in \u001b[0;36mcheck_ops\u001b[0;34m(self, dict)\u001b[0m\n\u001b[1;32m    167\u001b[0m                 \u001b[0;31m# Ndarray is not a square matirx\u001b[0m\u001b[0;34m\u001b[0m\u001b[0;34m\u001b[0m\u001b[0m\n\u001b[1;32m    168\u001b[0m                 \u001b[0;32mif\u001b[0m \u001b[0mN\u001b[0m \u001b[0;34m!=\u001b[0m \u001b[0mM\u001b[0m\u001b[0;34m:\u001b[0m\u001b[0;34m\u001b[0m\u001b[0;34m\u001b[0m\u001b[0m\n\u001b[0;32m--> 169\u001b[0;31m                     raise ValueError('Operator entry contains a non-square'+\n\u001b[0m\u001b[1;32m    170\u001b[0m                         ' array of size [{},{}].'.format(N,M))\n\u001b[1;32m    171\u001b[0m \u001b[0;34m\u001b[0m\u001b[0m\n",
      "\u001b[0;31mValueError\u001b[0m: Operator entry contains a non-square array of size [2,3]."
     ]
    }
   ],
   "source": [
    "tutorial_ops = {\n",
    "    'not-square':  np.array([[1, 0, 0], [0, 1, 0]], dtype=complex)\n",
    "}\n",
    "\n",
    "# Add new operators to exist operators dictionary\n",
    "ops1.add_operators(tutorial_ops)"
   ]
  }
 ],
 "metadata": {
  "interpreter": {
   "hash": "e3145dc9b2a53ea5ac2494bc3b75f1aa28628e1ed5acacda692ef3a5045a8456"
  },
  "kernelspec": {
   "display_name": "Python 3.8.3 64-bit ('base': conda)",
   "name": "python3"
  },
  "language_info": {
   "codemirror_mode": {
    "name": "ipython",
    "version": 3
   },
   "file_extension": ".py",
   "mimetype": "text/x-python",
   "name": "python",
   "nbconvert_exporter": "python",
   "pygments_lexer": "ipython3",
   "version": "3.10.0"
  }
 },
 "nbformat": 4,
 "nbformat_minor": 4
}
