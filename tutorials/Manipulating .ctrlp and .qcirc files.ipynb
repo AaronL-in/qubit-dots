{
 "cells": [
  {
   "cell_type": "markdown",
   "metadata": {},
   "source": [
    "# QuDiPy tutorial: loading control pulse (.ctrlp) and quantum circuit (.qcirc) files\n",
    "\n",
    "This tutorial will walk you through how to load .ctrlp and .qcirc files and how to use respective objects that are generated after loading the files.\n",
    "\n",
    "\n",
    "## 1. First load the relevant modules"
   ]
  },
  {
   "cell_type": "code",
   "execution_count": null,
   "metadata": {},
   "outputs": [],
   "source": [
    "# Since we don't actually have a package yet for people to install.. \n",
    "# We need to add our folder to the PYTHONPATH in order for import to find qudipy\n",
    "import os, sys\n",
    "sys.path.append(os.path.dirname(os.getcwd()))"
   ]
  },
  {
   "cell_type": "code",
   "execution_count": null,
   "metadata": {},
   "outputs": [],
   "source": [
    "import qudipy.circuit as circ"
   ]
  },
  {
   "cell_type": "markdown",
   "metadata": {},
   "source": [
    "## 2. Loading control pulse files\n",
    "Now we will go through how to load a bunch of control pulse files and discuss the `ControlPulse` class. "
   ]
  },
  {
   "cell_type": "code",
   "execution_count": null,
   "metadata": {},
   "outputs": [],
   "source": [
    "# Get the directory where .ctrlp files are loaded\n",
    "pulse_dir = os.getcwd()+\"/QuDiPy tutorial data/Control pulses/\"\n",
    "\n",
    "# Now make a list of all the .ctrlp files you want to load (these must include the FULL file path)\n",
    "ctrl_files = [\"ROTX_1_2.ctrlp\", \"CTRLZ_3_4.ctrlp\", \"H_1_2_4.ctrlp\",\n",
    "                  \"ROTX_3.ctrlp\", \"CTRLX_2_3.ctrlp\", \"SWAP_1_2.ctrlp\"]\n",
    "pulse_files = []\n",
    "for p in ctrl_files:\n",
    "    pulse_files.append(pulse_dir + p)"
   ]
  },
  {
   "cell_type": "markdown",
   "metadata": {},
   "source": [
    "Before we actually load the .ctrlp files, let's see what the contents of the .ctrlp file should look like."
   ]
  },
  {
   "cell_type": "code",
   "execution_count": null,
   "metadata": {},
   "outputs": [],
   "source": [
    "with open(pulse_files[0], 'r') as f:\n",
    "    print(f.read())"
   ]
  },
  {
   "cell_type": "markdown",
   "metadata": {},
   "source": [
    "Here we are looking at the `CTRLZ_3_4.ctrlp` file. There are three lines at the start of the file to describe the control pulse.  \n",
    "- The first line, \"Ideal gate:\" specifies what is the equivalent ideal gate being implemetned by the control pulse.  This is used to simulate the ideal circuit later when dealing with QuantumCircuit objects.\n",
    "- The second line, \"Pulse type:\" sepcifies whether the control pulse is described using experimental parameters (such as gate voltages and magnetic fields) or effective parameters (such as g, J, and things directly implemented in the effective Hamiltonian).\n",
    "- The third line, \"Pulse length:\" specifies the length of the pulse in seconds.\n",
    "\n",
    "After those are specified, \"Control pulses:\" indicates the actual control pulse is going to be given. The next line contains the name of each control variables (V1, V2, ...). The next lines specify the acutal values for the control pulse. The control pulse will be linearly interpolated during the actual time simulation using the control pulse.  The first three lines of the .ctrlp file can appear in any order as long as \"Control pulses:\" is the last portion of the pulse file. "
   ]
  },
  {
   "cell_type": "code",
   "execution_count": null,
   "metadata": {},
   "outputs": [],
   "source": [
    "# Now load all the control pulse files using the load_pulses method\n",
    "pulse_dict = circ.load_pulses(pulse_files) "
   ]
  },
  {
   "cell_type": "markdown",
   "metadata": {},
   "source": [
    "Let's check the returned dictionary from load_pulses and see what each `ControlPulse` object looks like."
   ]
  },
  {
   "cell_type": "code",
   "execution_count": null,
   "metadata": {},
   "outputs": [],
   "source": [
    "pulse_dict"
   ]
  },
  {
   "cell_type": "markdown",
   "metadata": {},
   "source": [
    "As you can see, load_pulses returns a dictionary of `ControlPulse` objects. Each `ControlPulse` contains the same information that was specified in the .ctrlp file."
   ]
  },
  {
   "cell_type": "code",
   "execution_count": null,
   "metadata": {},
   "outputs": [],
   "source": [
    "print(\"Name:\",pulse_dict['CTRLZ_3_4'].name)\n",
    "print(\"Pulse type:\",pulse_dict['CTRLZ_3_4'].pulse_type)\n",
    "print(\"Length:\",pulse_dict['CTRLZ_3_4'].length)\n",
    "print(\"Ideal gate:\",pulse_dict['CTRLZ_3_4'].ideal_gate)\n",
    "print(\"Number of control variables:\",pulse_dict['CTRLZ_3_4'].n_ctrls)\n",
    "print(\"Control variable names:\",pulse_dict['CTRLZ_3_4'].ctrl_names)\n",
    "print(\"Control pulse values:\",pulse_dict['CTRLZ_3_4'].ctrl_pulses)"
   ]
  },
  {
   "cell_type": "markdown",
   "metadata": {},
   "source": [
    "# 3. Loading quantum circuit files\n",
    "After all of the pulse files we need are loaded, we can look at loading .qcirc (quanum circuit) files which will be the groundwork for doing actual simulations with the spin simulator.  First let's look at an example .qcirc file to understand the syntax."
   ]
  },
  {
   "cell_type": "code",
   "execution_count": null,
   "metadata": {},
   "outputs": [],
   "source": [
    "circ_dir = os.getcwd()+\"/QuDiPy tutorial data/Quantum circuits/\"\n",
    "circ_file1 = circ_dir + \"test_circuit1.qcirc\"\n",
    "\n",
    "with open(circ_file1, 'r') as f:\n",
    "    print(f.read())"
   ]
  },
  {
   "cell_type": "markdown",
   "metadata": {},
   "source": [
    "The first line of the .qcirc file denotes the number of qubits in the quantum circuit to be simulated. Right after that, we begin defining the circuit. \n",
    "\n",
    "The first element in a line denotes the name of the control pulse to apply during the simulation (i.e. `pulse_dict['CTRLZ_3_4'].name`). \n",
    "\n",
    "The next elements denote which qubits the ideal gate equivalent of the control pulse acts on. These are used to do simulations of the ideal quantum circuit to compare to the simulated circuit using control pulses. If every control pulse in the circuit has `pulse_dict['CTRLZ_3_4'].ideal_gate` specified, then an ideal quantum circuit can be simulated, otherwise it is not possible.  For single qubit gates (i.e. `ROTX_1_2`), any number of affected qubits can be supplied and the ideal simulator will broadcast that ideal quantum gate to all of those qubits.  For double qubit gates (i.e. `CTRLZ_3_4`), there must be only 2 qubits specified. The first qubit given will be assumed to be the control qubit (if applicable) and the second will be the target qubit. \n",
    "\n",
    "Let's go ahead and load the .qcirc file to make a `QuantumCircuit` object."
   ]
  },
  {
   "cell_type": "code",
   "execution_count": null,
   "metadata": {},
   "outputs": [],
   "source": [
    "# To load the .qcirc file we must pass both the full file name as well as a dictionary of ControlPulse objects\n",
    "circ1 = circ.load_circuit(circ_file1, pulse_dict)\n",
    "print(circ1)"
   ]
  },
  {
   "cell_type": "markdown",
   "metadata": {},
   "source": [
    "So what properties does a `QuantumCircuit` have?"
   ]
  },
  {
   "cell_type": "code",
   "execution_count": null,
   "metadata": {},
   "outputs": [],
   "source": [
    "print(\"Name:\",circ1.name)\n",
    "print(\"Number of qubits:\",circ1.n_qubits)\n",
    "print(\"Loaded pulses:\",circ1.gates)\n",
    "print(\"Ideal circuit:\",circ1.ideal_circuit)\n",
    "print(\"Circuit sequence:\",circ1.circuit_sequence)"
   ]
  },
  {
   "cell_type": "markdown",
   "metadata": {},
   "source": [
    "The most important class variable for the `QuantumCircuit` object is the `.circuit_sequence` variable. This variable is a list containing every gate in the sequence in order as specified in the .qcirc file. Each element in the list contains the gate's name, ideal gate equivalent, and qubits affected. We can access the next gate in the circuit sequence by calling `get_next_gate`."
   ]
  },
  {
   "cell_type": "code",
   "execution_count": null,
   "metadata": {},
   "outputs": [],
   "source": [
    "print(circ1.get_next_gate())\n",
    "print(circ1.get_next_gate())\n",
    "# This method will reset the tracker back to the start of the circuit sequence.\n",
    "circ1.reset_circuit_index()"
   ]
  },
  {
   "cell_type": "markdown",
   "metadata": {},
   "source": [
    "In case you want to check the .qcirc file you loaded, there is a class method that allows you to see the equivalent ideal circuit for the pulse file you loaded.  The ideal circuit shown here will be the one that is also simulated in tandem with the control pulse simulation."
   ]
  },
  {
   "cell_type": "code",
   "execution_count": null,
   "metadata": {},
   "outputs": [],
   "source": [
    "circ1.print_ideal_circuit()"
   ]
  },
  {
   "cell_type": "markdown",
   "metadata": {},
   "source": [
    "Now, the above tutorial has been assuming that you are dealing with simulating circuit using control pulses. However, you may not want to do that and instead only simulate a simple quantum circuit like the one displayed above. For a situation like that, how should you do the .qcirc file? Let's look at such an example."
   ]
  },
  {
   "cell_type": "code",
   "execution_count": null,
   "metadata": {},
   "outputs": [],
   "source": [
    "circ_dir = os.getcwd()+\"/QuDiPy tutorial data/Quantum circuits/\"\n",
    "circ_file2 = circ_dir + \"test_circuit2.qcirc\"\n",
    "\n",
    "with open(circ_file2, 'r') as f:\n",
    "    print(f.read())"
   ]
  },
  {
   "cell_type": "markdown",
   "metadata": {},
   "source": [
    "This is another quantum circuit file composed of only ideal gates keywords.  If an ideal gate keyword is specified in the .qcirc file, then it will NOT use a control pulse and instead just the ideal gate specified.  You must be careful not to name any .ctrlp files using an ideal gate keyword as `QuDiPy` will assume it is an ideal gate instead.\n",
    "\n",
    "For a list of available ideal gate keywords, we can check the following docstring..."
   ]
  },
  {
   "cell_type": "code",
   "execution_count": null,
   "metadata": {},
   "outputs": [],
   "source": [
    "print(circ.check_ideal_gate.__doc__)"
   ]
  },
  {
   "cell_type": "markdown",
   "metadata": {},
   "source": [
    "Now if we load the .qcirc circuit file, we don't need to supply a pulse dictionary because all the gates in the file are ideal."
   ]
  },
  {
   "cell_type": "code",
   "execution_count": null,
   "metadata": {},
   "outputs": [],
   "source": [
    "\n",
    "circ2 = circ.load_circuit(circ_file2)\n",
    "\n",
    "print(\"Name:\",circ2.name)\n",
    "print(\"Number of qubits:\",circ2.n_qubits)\n",
    "print(\"Loaded pulses:\",circ2.gates)\n",
    "print(\"Ideal circuit:\",circ1.ideal_circuit)\n",
    "print(\"Circuit sequence:\",circ2.circuit_sequence)\n",
    "\n",
    "circ2.print_ideal_circuit()"
   ]
  },
  {
   "cell_type": "markdown",
   "metadata": {},
   "source": [
    "# 4. Writing .ctrlp files and .qcirc files\n",
    "We can write .ctrlp files and .qcirc files from ControlPulse and QuantumCircuit class objects respectively using the write_files module!\n",
    "\n",
    "First, let's import the write_files module."
   ]
  },
  {
   "cell_type": "code",
   "execution_count": null,
   "metadata": {},
   "outputs": [],
   "source": [
    "from qudipy.circuit import write_files as wf"
   ]
  },
  {
   "cell_type": "markdown",
   "metadata": {},
   "source": [
    "### 4.1 How do we write a .ctrlp file from a ControlPulse?\n",
    "Use the ***write_ctrlp(ControlPulse, print_ctrlp=True)*** function\n",
    "\n",
    "This function writes and returns a .ctrlp file from the information that was given in the ControlPulse object passed as the first parameter. The keyword argument *print_ctrlp=Bool* defines if the user would like the contents of the file to be printed to the screen; it is set to True by default.\n",
    "\n",
    "Lets try writing a .ctrlp file from a ROTX_1_2 gate that is specified earlier inside the *pulse_dict* object defined above.\n"
   ]
  },
  {
   "cell_type": "code",
   "execution_count": null,
   "metadata": {},
   "outputs": [],
   "source": [
    "# Obtain the ControlPulse in which we desire to write as a .ctrlp file.\n",
    "cntrl_pls1 = pulse_dict['ROTX_1_2']\n",
    "print(\"ControlPulse object we wish to write as a .ctrlp file: \\n\",cntrl_pls1,\"\\n\\n\") \n",
    "\n",
    "# Pass the ControlPulse to the write_ctrlp function\n",
    "print(\"** The written .ctrlp file looks like this: **\\n\")\n",
    "cntrl_pls1_file = wf.write_ctrlp(cntrl_pls1, print_ctrlp=True)\n",
    "\n",
    "# The function write_ctrlp returns the written file\n",
    "print(\"\\n\\n\", \"The function returns the written file: \\n\", cntrl_pls1_file)"
   ]
  },
  {
   "cell_type": "markdown",
   "metadata": {},
   "source": [
    "### 4.2 How do we write a .qcirc file from a QuantumCircuit?\n",
    "Use the ***write_qcirc(QuantumCircuit, print_qcirc=True)*** function\n",
    "\n",
    "This function writes and returns a .qcirc file from the information that was given in the QuantumCircuit object passed as the first parameter. The keyword argument *print_qcirc=Bool* defines if the user would like the contents of the file to be printed to the screen; it is set to True by default.\n",
    "\n",
    "Lets try writing a .qcirc file from the circ2 QuantumCircuit that is defined above."
   ]
  },
  {
   "cell_type": "code",
   "execution_count": null,
   "metadata": {},
   "outputs": [],
   "source": [
    "# Obtain the QuantumCircuit in which we desire to write as a .ctrlp file.\n",
    "qcirc = circ2\n",
    "print(\"QuantumCircuit object we wish to write as a .qcirc file: \\n\",qcirc,\"\\n\\n\") \n",
    "\n",
    "# Pass the QuantumCircuit to the write_qcirc function\n",
    "print(\"** The written .qcirc file looks like this: **\\n\")\n",
    "qcirc_file = wf.write_qcirc(qcirc, print_qcirc=True)\n",
    "\n",
    "# The function write_ctrlp returns the written file\n",
    "print(\"\\n\\n\", \"The function returns the written file: \\n\", qcirc_file)"
   ]
  },
  {
   "cell_type": "markdown",
   "metadata": {},
   "source": [
    "# 5. Multiple Gates\n",
    "### How do we specify multiple gates in a ControlPulse object?\n",
    "Every ControlPulse object has a keyword argument called *gates*. It is set to *gates=None* by default when we only want the ControlPulse to specify one type of gate. (ie. a RY045 gate acting on qubits 2 and 3)\n",
    "\n",
    "Consider a 4 qubit system, what if we want the ControlPulse we create to have a RX090 gate to act on qubit 1 and a CTRLZ gate to act on qubits 3 and 4 (where qubit 3 is the control)? How do we specify that this action is happening?\n",
    "\n",
    "To achieve this, we set the *gates* keyword to be a QuantumCircuit object where the simultaneous gate (called by the attribute .circuit_sequence) is specified by a tuple of gates. We can either set it manually or use the ControlPulse method .add_mult_gate() to set this attribute to the desired QuantumCircuit.\n"
   ]
  },
  {
   "cell_type": "markdown",
   "metadata": {},
   "source": [
    "#### Features of the attached QuantumCircuit\n",
    "The QuantumCircuit, \"gates\", attached to the ControlPulse must have a few features:\n",
    "1) There is no dictionary of ControlPulse objects in it\n",
    "\n",
    "    i) gates.gates = {}, the empty dictionary\n",
    "    \n",
    "2) The length of gates.circuitsequence = 1\n",
    "\n",
    "\n",
    "The following example will illuminate this:"
   ]
  },
  {
   "cell_type": "markdown",
   "metadata": {},
   "source": [
    "#### Naming convention for the ControlPulse object\n",
    "\n",
    "The Names of the gates must be seperated by a '|' character. Note that each gate must be an ideal gate to be printed in the circuit!"
   ]
  },
  {
   "cell_type": "code",
   "execution_count": null,
   "metadata": {},
   "outputs": [],
   "source": [
    "# We will create an arbitrary ControlPulse object as an example\n",
    "\n",
    "# First, create the ControlPulse object\n",
    "pulse3 = circ.ControlPulse(\"RX090_1 | CTRLZ_3_4\", 'effective')\n",
    "\n",
    "# Second, use the .add_mult_gates method to add the quantum circuit\n",
    "pulse3.add_mult_gates()\n"
   ]
  },
  {
   "cell_type": "markdown",
   "metadata": {},
   "source": [
    "Now, how does the QuantumCircuit object added to the ControlPulse look?\n",
    "\n",
    "Note: This next block of code is not necessary but is here to show you what a valid .gates attribute of a ControlPulse containing multiple gates should look like"
   ]
  },
  {
   "cell_type": "code",
   "execution_count": null,
   "metadata": {},
   "outputs": [],
   "source": [
    "# Call the .gates attribute to obtain the QuantumCircuit object\n",
    "circ3 = pulse3.gates\n",
    "\n",
    "print(\"Name:\",circ3.name)\n",
    "print(\"Number of qubits:\",circ3.n_qubits)\n",
    "print(\"Loaded pulses:\",circ3.gates)\n",
    "print(\"Ideal circuit:\",circ3.ideal_circuit)\n",
    "print(\"Circuit sequence:\",circ3.circuit_sequence)"
   ]
  },
  {
   "cell_type": "markdown",
   "metadata": {},
   "source": [
    "Now we can go ahead and print out this small portion of the circuit to see exactly what the pulse does to our circuit.\n",
    "\n",
    "Go ahead! Use the .print_pulse method on the ControlPulse object"
   ]
  },
  {
   "cell_type": "code",
   "execution_count": null,
   "metadata": {},
   "outputs": [],
   "source": [
    "# Call the .print_pulse method on the ControlPulse to print out a circuit diagram!\n",
    "pulse3.print_pulse()"
   ]
  }
 ],
 "metadata": {
  "interpreter": {
   "hash": "da6dda72914226e58fb144666c61ad59139f1f9928d1882fbc5ac49fe577ae39"
  },
  "kernelspec": {
   "display_name": "Python 3",
   "language": "python",
   "name": "python3"
  },
  "language_info": {
   "codemirror_mode": {
    "name": "ipython",
    "version": 3
   },
   "file_extension": ".py",
   "mimetype": "text/x-python",
   "name": "python",
   "nbconvert_exporter": "python",
   "pygments_lexer": "ipython3",
   "version": "3.9.7"
  }
 },
 "nbformat": 4,
 "nbformat_minor": 4
}
