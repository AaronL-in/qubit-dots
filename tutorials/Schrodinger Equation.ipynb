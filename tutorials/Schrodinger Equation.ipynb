{
 "cells": [
  {
   "cell_type": "markdown",
   "source": [
    "# QuDiPy tutorial: using the single electron Schrödinger equation solver\n",
    "\n",
    "This tutorial will show how to use the qutils to solve the single electron Schrödinger equation for either 1D or 2D potential landscapes. Make sure you are running this tutorial notebook from the tutorials folder in the qudipy repo.\n",
    "\n",
    "\n",
    "## 1. First load the relevant modules and initialize SimulationParameters"
   ],
   "metadata": {}
  },
  {
   "cell_type": "code",
   "execution_count": null,
   "source": [
    "# Since we don't actually have a package yet for people to install.. \r\n",
    "# We need to add our folder to the PYTHONPATH in order for import to find qudipy\r\n",
    "import os, sys\r\n",
    "sys.path.append(os.path.dirname(os.getcwd()))"
   ],
   "outputs": [],
   "metadata": {}
  },
  {
   "cell_type": "code",
   "execution_count": null,
   "source": [
    "import qudipy as qd\r\n",
    "import qudipy.potential as pot\r\n",
    "import qudipy.qutils as qt\r\n",
    "import numpy as np"
   ],
   "outputs": [],
   "metadata": {}
  },
  {
   "cell_type": "code",
   "execution_count": null,
   "source": [
    "# Initialize the constants class with the Si/SiO2 material system \r\n",
    "consts = qd.Constants(\"Si/SiO2\")"
   ],
   "outputs": [],
   "metadata": {}
  },
  {
   "cell_type": "markdown",
   "source": [
    "## 2a. 1D Schrödinger equation: initialize GridParameters class\n",
    "Now we will create a GridParameters object with data for a Harmonic oscillator."
   ],
   "metadata": {}
  },
  {
   "cell_type": "code",
   "execution_count": null,
   "source": [
    "# First define the x-coordinates\r\n",
    "x = np.linspace(-70,70,301)*1E-9\r\n",
    "# Define harmonic oscillator frequency\r\n",
    "omega = 5E12\r\n",
    "# Now construct the harmonic potential\r\n",
    "harm_pot = 1/2*consts.me*omega**2*np.square(x)\r\n",
    "    \r\n",
    "# Create a GridParameters object\r\n",
    "gparams = pot.GridParameters(x, potential=harm_pot)"
   ],
   "outputs": [],
   "metadata": {}
  },
  {
   "cell_type": "markdown",
   "source": [
    "## 2b. 1D Schrödinger equation: use qutils to solve schrodinger equation"
   ],
   "metadata": {}
  },
  {
   "cell_type": "code",
   "execution_count": null,
   "source": [
    "# Pass sparams, gparams to the solve_schrodinger_eq qutils method to obtain the eigenvalues and eigenvectors\r\n",
    "e_ens, e_vecs = qt.solvers.solve_schrodinger_eq(consts, gparams, n_sols=6)"
   ],
   "outputs": [],
   "metadata": {}
  },
  {
   "cell_type": "markdown",
   "source": [
    "## 2c. Check results\n",
    "Our energies should have constant spacing (within some error which can be reduced by increasing the\n",
    "number of x-coordinate points). The energy spacing should be equal to $\\hbar \\omega$."
   ],
   "metadata": {}
  },
  {
   "cell_type": "code",
   "execution_count": null,
   "source": [
    "print(f\"Energies = {np.real(e_ens)/consts.e} eV\")\r\n",
    "print(f\"hbar*omega = {consts.hbar*omega/consts.e} eV\")\r\n",
    "print(f\"Calculated energy diffs = {np.diff(np.real(e_ens))/consts.e} eV\")"
   ],
   "outputs": [],
   "metadata": {}
  },
  {
   "cell_type": "markdown",
   "source": [
    "Looks close enough! You can play around with increasing number of x-coordinate points to reduce the error. Now let's plot the first few wavefunctions..."
   ],
   "metadata": {}
  },
  {
   "cell_type": "code",
   "execution_count": null,
   "source": [
    "import matplotlib.pyplot as plt\r\n",
    "%matplotlib inline \r\n",
    "\r\n",
    "fig, axes = plt.subplots(2, 3, figsize=(10, 6))#,\r\n",
    "                         #subplot_kw={'xticks': [], 'yticks': []})\r\n",
    "\r\n",
    "fig.subplots_adjust(hspace=0.4, wspace=0.25)\r\n",
    "\r\n",
    "for idx, ax in enumerate(axes.flat):\r\n",
    "    ax.plot(gparams.x/1E-9, np.real(e_vecs[:,idx]))\r\n",
    "    ax.set_title(\"State: \"+str(idx))\r\n",
    "    ax.set(xlabel='x-coords [nm]')\r\n",
    "\r\n",
    "plt.show()"
   ],
   "outputs": [],
   "metadata": {}
  },
  {
   "cell_type": "markdown",
   "source": [
    "These look exactly as we expect. So now let's do an example for 2D potentials...\n",
    "# 3a. 2D Schrödinger equation: initialize GridParameters class\n",
    "Let's create a new GridParameters object with data for a 2D Harmonic oscillator."
   ],
   "metadata": {}
  },
  {
   "cell_type": "code",
   "execution_count": null,
   "source": [
    "# First define the x(y)-coordinates\r\n",
    "x = np.linspace(-60,60,201)*1E-9\r\n",
    "y = np.linspace(-60,60,201)*1E-9\r\n",
    "# Define harmonic oscillator frequency\r\n",
    "omega = 5E12\r\n",
    "\r\n",
    "# Now initialize the GridParameters class\r\n",
    "gparams = pot.GridParameters(x, y)\r\n",
    "# Now construct the harmonic potential\r\n",
    "harm_pot = 1/2*consts.me*omega**2*(np.square(gparams.x_mesh) + np.square(gparams.y_mesh))\r\n",
    "\r\n",
    "# Update the potential for gparams\r\n",
    "gparams.update_potential(harm_pot)"
   ],
   "outputs": [],
   "metadata": {}
  },
  {
   "cell_type": "markdown",
   "source": [
    "## 3b. 2D Schrödinger equation: use qutils to solve schrodinger equation"
   ],
   "metadata": {}
  },
  {
   "cell_type": "code",
   "execution_count": null,
   "source": [
    "# Pass sparams, gparams to the solve_schrodinger_eq qutils method to obtain the eigenvalues and eigenvectors\r\n",
    "e_ens, e_vecs = qt.solvers.solve_schrodinger_eq(consts, gparams, n_sols=6)"
   ],
   "outputs": [],
   "metadata": {}
  },
  {
   "cell_type": "markdown",
   "source": [
    "## 3c. Check results\n",
    "We expect the 1st and 2nd excited states to be degenerate since they correspond to the (1,0) and (0,1) 2D harmonic orbital modes (n,m)."
   ],
   "metadata": {}
  },
  {
   "cell_type": "code",
   "execution_count": null,
   "source": [
    "print(f\"Energies = {np.real(e_ens)/consts.e} eV\")\r\n",
    "print(f\"hbar*omega = {consts.hbar*omega/consts.e} eV\")\r\n",
    "print(f\"Calculated energy diffs = {np.diff(np.real(e_ens))/consts.e} eV\")"
   ],
   "outputs": [],
   "metadata": {}
  },
  {
   "cell_type": "markdown",
   "source": [
    "Looks good.  Now let's plot the wavefunctions."
   ],
   "metadata": {}
  },
  {
   "cell_type": "code",
   "execution_count": null,
   "source": [
    "fig, axes = plt.subplots(2, 3, figsize=(10, 6))#,\r\n",
    "                         #subplot_kw={'xticks': [], 'yticks': []})\r\n",
    "\r\n",
    "fig.subplots_adjust(hspace=0.4, wspace=0.25)\r\n",
    "\r\n",
    "for idx, ax in enumerate(axes.flat):\r\n",
    "    #ax.imshow(gparams.potential, cmap='viridis', \r\n",
    "    ax.imshow(np.real(np.multiply(e_vecs[:,:,idx],e_vecs[:,:,idx].conj())), cmap='viridis', \r\n",
    "              extent=[gparams.x.min()/1E-9, gparams.x.max()/1E-9,\r\n",
    "                      gparams.y.min()/1E-9, gparams.y.max()/1E-9])\r\n",
    "    ax.set_title(\"State: \"+str(idx))\r\n",
    "    ax.set(xlabel='x-coords [nm]',ylabel='y-coords [nm]')\r\n",
    "\r\n",
    "plt.show()"
   ],
   "outputs": [],
   "metadata": {}
  },
  {
   "cell_type": "markdown",
   "source": [
    "We expect the eigenfunctions to be the product of the 1D harmonic orbital states $\\phi_{n,m}(x,y) = \\phi_n(x)\\phi_m(y)$. Of course, not all these states look like that.. But when two eigenfunctions have the same eigenvalue their linear combination is also an eigenfunction. For instance, state 1 is actually a linear combination of the equal energy states $\\phi_{0,1}$ and $\\phi_{1,0}$\n",
    "$$\\phi_1(x,y) = \\alpha\\phi_{0,1}(x,y) + \\sqrt{1+\\alpha^2}\\phi_{0,1}(x,y))$$\n",
    "where $\\alpha$ is some constant. So these 2D eigenfunctions are correct!"
   ],
   "metadata": {}
  },
  {
   "cell_type": "code",
   "execution_count": null,
   "source": [],
   "outputs": [],
   "metadata": {}
  }
 ],
 "metadata": {
  "kernelspec": {
   "name": "python3",
   "display_name": "Python 3.8.3 64-bit ('QuDiPy': conda)"
  },
  "language_info": {
   "codemirror_mode": {
    "name": "ipython",
    "version": 3
   },
   "file_extension": ".py",
   "mimetype": "text/x-python",
   "name": "python",
   "nbconvert_exporter": "python",
   "pygments_lexer": "ipython3",
   "version": "3.8.3"
  },
  "interpreter": {
   "hash": "da6dda72914226e58fb144666c61ad59139f1f9928d1882fbc5ac49fe577ae39"
  }
 },
 "nbformat": 4,
 "nbformat_minor": 2
}