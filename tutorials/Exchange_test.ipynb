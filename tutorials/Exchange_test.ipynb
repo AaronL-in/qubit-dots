{
 "metadata": {
  "language_info": {
   "codemirror_mode": {
    "name": "ipython",
    "version": 3
   },
   "file_extension": ".py",
   "mimetype": "text/x-python",
   "name": "python",
   "nbconvert_exporter": "python",
   "pygments_lexer": "ipython3",
   "version": "3.9.5"
  },
  "orig_nbformat": 2,
  "kernelspec": {
   "name": "python3",
   "display_name": "Python 3.9.5 64-bit"
  },
  "metadata": {
   "interpreter": {
    "hash": "a5ce6f64d16876dec57733a3e2f33af67a3e50598f0f0b5bfd141bfec3b70b5b"
   }
  },
  "interpreter": {
   "hash": "d6ea40376d640da94cd09c8bbbac16c25fb8a764ffc812fd54865219ebd752a0"
  }
 },
 "nbformat": 4,
 "nbformat_minor": 2,
 "cells": [
  {
   "cell_type": "markdown",
   "source": [
    "# **Exchange interaction in three QDs**\r\n",
    "\r\n",
    "All the parameters used here will be similar to the ones in Marek's paper \r\n",
    "(Gimenez, 2007).\r\n",
    "\r\n",
    "# Heisenberg model\r\n",
    "\r\n",
    "The many-electron spectum of the system of 3 quantum dots can be conveniently\r\n",
    "mapped onto the Heisenberg Hamiltonian:\r\n",
    "$$ H = \\frac{1}{4}\\left(J_{12} \\vec{\\sigma_1}\\cdot \\vec{\\sigma_2} +\r\n",
    " J_{23} \\vec{\\sigma_2}\\cdot \\vec{\\sigma_3} + \r\n",
    " J_{31} \\vec{\\sigma_1}\\cdot \\vec{\\sigma_3}  \\right) $$\r\n",
    "\r\n",
    " Since $H$ commutes with $S_z$ and is time reversal symmetric (states with the\r\n",
    " same  $|S_z|$ are degenerate), we can treat only the subspace\r\n",
    " of $S_z=-\\frac{1}{2}$.\r\n",
    "\r\n",
    " In the Jacobi basis: \r\n",
    " $$\\left|\\beta_a\\right> = \\frac{1}{\\sqrt{2}}\\left(\r\n",
    "   \\left|\\uparrow\\downarrow\\downarrow\\right> - \r\n",
    "   \\left|\\downarrow\\downarrow\\uparrow\\right> \\right)\r\n",
    "         \\qquad\r\n",
    "   \\left|\\beta_b\\right> = \\frac{1}{\\sqrt{6}}\\left(\r\n",
    "   \\left|\\uparrow\\downarrow\\downarrow\\right> + \r\n",
    "   \\left|\\downarrow\\downarrow\\uparrow\\right> -\r\n",
    "   2 \\left|\\downarrow\\uparrow\\downarrow\\right> \\right) \r\n",
    "         \\qquad\r\n",
    "   \\left|\\beta_c\\right> = \\frac{1}{\\sqrt{3}}\\left(\r\n",
    "   \\left|\\downarrow\\downarrow\\uparrow\\right> + \r\n",
    "   \\left|\\downarrow\\uparrow\\downarrow\\right> +\r\n",
    "   \\left|\\uparrow\\downarrow\\downarrow\\right> \\right) ,\r\n",
    " $$\r\n",
    " the Hamiltonian has the following form: \r\n",
    " $$\r\n",
    " H = \r\n",
    " \\begin{pmatrix}\r\n",
    "  -\\frac{3}{4} J_{av} -\\frac{3}{4}(J_{31} -  J_{av})    & \\frac{\\sqrt{3}}{4}(J_{23}-J_{12}) & 0 \\\\\r\n",
    "  \\frac{\\sqrt{3}}{4}(J_{23}-J_{12})   & -\\frac{3}{4} J_{av} + \\frac{3}{4}(J_{31} -  J_{av}) & 0 \\\\\r\n",
    "  0   &     0    &      \\frac{3}{4} J_{av} \r\n",
    " \\end{pmatrix},\r\n",
    " $$\r\n",
    "where $J_{av} = \\frac{1}{3}\\left(J_{12}+J_{23}+J_{31}\\right)  $.\r\n",
    "\r\n",
    "Depending on the relations between $J_{12}, J_{23}, J_{31}$, the Hamiltonian\r\n",
    "diagonalizes in a different way. Two particular cases of a linear chain \r\n",
    "and a triangular array of three QDs will be investigated."
   ],
   "metadata": {}
  },
  {
   "cell_type": "markdown",
   "source": [
    "\r\n",
    "\r\n",
    "\r\n",
    "\r\n",
    "# Loading modules and defining main variables"
   ],
   "metadata": {}
  },
  {
   "cell_type": "code",
   "execution_count": null,
   "source": [
    "import os, sys\r\n",
    "sys.path.append(os.path.dirname(os.getcwd()))\r\n",
    "\r\n",
    "import qudipy as qd\r\n",
    "import qudipy.potential as pot\r\n",
    "import qudipy.exchange as exch\r\n",
    "from scipy.signal import find_peaks    # for finding local minima\r\n",
    "\r\n",
    "from tqdm import tqdm\r\n",
    "import time\r\n",
    "import math\r\n",
    "import numpy as np\r\n",
    "import matplotlib.pyplot as plt\r\n",
    "import copy\r\n"
   ],
   "outputs": [],
   "metadata": {}
  },
  {
   "cell_type": "markdown",
   "source": [
    "Specifying the Rydberg parameters in GaAs (in SI units):"
   ],
   "metadata": {}
  },
  {
   "cell_type": "code",
   "execution_count": null,
   "source": [
    "Ry = 5.93e-3 * 1.6e-19  # J\r\n",
    "a_B = 9.79e-9    # m"
   ],
   "outputs": [],
   "metadata": {}
  },
  {
   "cell_type": "markdown",
   "source": [
    "### Create control voltage names and variables the same way you would normally do"
   ],
   "metadata": {}
  },
  {
   "cell_type": "code",
   "execution_count": null,
   "source": [
    "ctrl_names = ['V1','V2','V3']\r\n",
    " \r\n",
    "V1 = np.arange(9, 12, .2) * Ry\r\n",
    "V2 = np.arange(9, 12, .2) * Ry\r\n",
    "V3 = np.arange(9, 12, .2) * Ry\r\n",
    "\r\n",
    "ctrl_vals = [V1, V2, V3]\r\n"
   ],
   "outputs": [],
   "metadata": {}
  },
  {
   "cell_type": "markdown",
   "source": [
    "### Specify some constants for the potentials "
   ],
   "metadata": {}
  },
  {
   "cell_type": "code",
   "execution_count": null,
   "source": [
    "csts = qd.Constants('GaAs')\r\n",
    "\r\n",
    "dot_sep = 4 * a_B\r\n",
    "dot_width = 2.3 * a_B\r\n",
    "\r\n",
    "omega = csts.hbar / (csts.me * dot_width**2 )\r\n",
    "print('omega = {:e} Hz'.format(omega))"
   ],
   "outputs": [],
   "metadata": {}
  },
  {
   "cell_type": "markdown",
   "source": [
    "### Specify the x and y points you would like to have in a grid, and initialize the GridParameters object"
   ],
   "metadata": {}
  },
  {
   "cell_type": "code",
   "execution_count": null,
   "source": [
    "x_grid = np.arange(-3 * dot_sep, 3 * dot_sep, dot_sep/30)\r\n",
    "y_grid = np.arange(-3 * dot_sep, 3 * dot_sep, dot_sep/30)\r\n",
    "\r\n",
    "gparams = qd.potential.GridParameters(x_grid, y_grid)\r\n"
   ],
   "outputs": [],
   "metadata": {}
  },
  {
   "cell_type": "markdown",
   "source": [
    "Define function that creates a combination of Gaussian potentials that will be interpolated over different voltage values"
   ],
   "metadata": {}
  },
  {
   "cell_type": "code",
   "execution_count": null,
   "source": [
    "def create_gaus_pots(voltages, gparams, x_pos=[0], y_pos=[0], widths=1e-9):\r\n",
    "    # The required additional arguments of the function are: \r\n",
    "    # x_pos, y_pos -- numpy arrays of x and y dot positions, respectively\r\n",
    "    # widths -- array of dot widths, or a single value to be used for each dot\r\n",
    " \r\n",
    "    #in case any of the inputs is a list/tuple\r\n",
    "    x_pos, y_pos, voltages = np.array(x_pos), \\\r\n",
    "                            np.array(y_pos), \\\r\n",
    "                                np.array(voltages)\r\n",
    "    num_dots = x_pos.shape[0]\r\n",
    "    \r\n",
    "    # Get coordinates from mesh and repeat them as many times as there are dots\r\n",
    "    x = np.repeat(gparams.x_mesh[..., np.newaxis], num_dots, axis=2)\r\n",
    "    y = np.repeat(gparams.y_mesh[..., np.newaxis], num_dots, axis=2)\r\n",
    "\r\n",
    "    # if only one width is specified, repeat it for all dots\r\n",
    "    if isinstance(widths, (int, float)):\r\n",
    "        d = np.repeat(widths, num_dots)         # d is just a shorter name\r\n",
    "    else:\r\n",
    "        d =  np.array(widths)                   # d is just a shorter name\r\n",
    "\r\n",
    "    return np.sum(- voltages *  \r\n",
    "                    np.exp(- ((x - x_pos)**2 + (y - y_pos)**2) / d**2), axis=2)\r\n"
   ],
   "outputs": [],
   "metadata": {}
  },
  {
   "cell_type": "markdown",
   "source": [
    "# Linear chain of dots\r\n",
    "\r\n",
    "## Building potential\r\n",
    "\r\n",
    "Dictionary of the parameters of the dot chain:"
   ],
   "metadata": {}
  },
  {
   "cell_type": "code",
   "execution_count": null,
   "source": [
    "chain_params = {'x_pos': [-dot_sep, 0, dot_sep], \r\n",
    "                    'y_pos': [0,0,0], 'widths':dot_width*.7 }"
   ],
   "outputs": [],
   "metadata": {}
  },
  {
   "cell_type": "markdown",
   "source": [
    "### Get the analytical potential and pass it to build the interpolator:"
   ],
   "metadata": {}
  },
  {
   "cell_type": "code",
   "execution_count": null,
   "source": [
    "chain_pot_params = pot.analytical_potential(ctrl_vals, ctrl_names, \r\n",
    "                                        create_gaus_pots, x_grid, y_grid, \r\n",
    "                                            **chain_params)\r\n",
    "\r\n",
    "chain = pot.build_interpolator(chain_pot_params, \r\n",
    "                                          constants=qd.Constants(\"GaAs\"))"
   ],
   "outputs": [],
   "metadata": {}
  },
  {
   "cell_type": "markdown",
   "source": [
    "### Now specify the potentials to interpolate around, and plot it\r\n"
   ],
   "metadata": {}
  },
  {
   "cell_type": "code",
   "execution_count": null,
   "source": [
    " #starting with the no-bias case\r\n",
    "v_vec_sym = np.array([10, 10, 10]) * Ry\r\n",
    "# add potential to the gridparams objects\r\n",
    "\r\n",
    "# add potential to the gridparams objects\r\n",
    "gparams.update_potential(create_gaus_pots(v_vec_sym, gparams, **chain_params))\r\n",
    "\r\n",
    "# Plot the 2D potential and the ground state wavefunction\r\n",
    "chain.plot(v_vec_sym, plot_type='2D',  show_wf=True)\r\n",
    "gparams.potential\r\n"
   ],
   "outputs": [],
   "metadata": {}
  },
  {
   "cell_type": "code",
   "execution_count": null,
   "source": [
    "# Plot various 1D slices, one with a ground state wavefunction probability\r\n",
    "chain.plot(v_vec_sym, plot_type='1D', y_slice=0, show_wf=True)\r\n",
    "chain.plot(v_vec_sym, plot_type='1D', y_slice=dot_sep, show_wf=True)\r\n"
   ],
   "outputs": [],
   "metadata": {}
  },
  {
   "cell_type": "markdown",
   "source": [
    "Clearly, the ground state wavefunction is distributes across all dots."
   ],
   "metadata": {}
  },
  {
   "cell_type": "markdown",
   "source": [
    "### Plotting the potential in the case of bias"
   ],
   "metadata": {}
  },
  {
   "cell_type": "code",
   "execution_count": null,
   "source": [
    "v_vec_asym = np.array([10.3, 10, 10]) * Ry\r\n",
    "# Plot the 2D potential\r\n",
    "chain.plot(v_vec_asym, plot_type='2D', show_wf=True)\r\n",
    "chain.plot(v_vec_asym, plot_type='1D', y_slice=0, show_wf=True)\r\n"
   ],
   "outputs": [],
   "metadata": {}
  },
  {
   "cell_type": "markdown",
   "source": [
    "This time, the wavefunction is almost fully localized in the leftmost dot. \r\n"
   ],
   "metadata": {}
  },
  {
   "cell_type": "markdown",
   "source": [
    "### Saving CME libraries\r\n",
    "\r\n",
    "Can be run when necessary to save the libraries of CMEs for faster calculations."
   ],
   "metadata": {}
  },
  {
   "cell_type": "code",
   "execution_count": null,
   "source": [
    "'''\r\n",
    "omega = 7.53E+12        #value used from one of the optimization results\r\n",
    "\r\n",
    "durations = {}\r\n",
    "for n in range(5,13):\r\n",
    "    temp = time.time()\r\n",
    "    exch.calc_origin_cme_matrix(n, n, omega=omega, consts=qd.Constants(\"GaAs\"), \r\n",
    "                           rydberg=False, save_dir='..\\\\tutorials\\\\QuDiPy tutorial data\\\\CMEs')\r\n",
    "    durations['n='+str(n)]= time.time() - temp\r\n",
    "'''"
   ],
   "outputs": [],
   "metadata": {}
  },
  {
   "cell_type": "markdown",
   "source": [
    "## Solving many-electron Schrodinger equation\r\n",
    "\r\n",
    "Let us start with solving the 3-electron problem.\r\n",
    "If we disregard the exchange between the first and the third dot in the chain\r\n",
    "($J_{31}=0$), the Heisenberg Hamiltonian diagonalizes with the eigenvalues \r\n",
    "$\\epsilon_1< \\epsilon_2 < \\epsilon_3$ that relate to the exchange values \r\n",
    "in the following way:\r\n",
    "$$\r\n",
    "\\alpha = (\\epsilon_2 -\\epsilon_1) + 2(\\epsilon_3 -\\epsilon_2), \r\n",
    "\\quad\r\n",
    "\\beta = \\frac{1}{3}\\sqrt{4(\\epsilon_2 -\\epsilon_1)^2-\\alpha^2};\r\n",
    "\\qquad J_{12}, J_{23} =\\frac{\\alpha \\pm \\beta}{2}\r\n",
    "$$\r\n",
    "\r\n",
    "For a symmetric system ($J_{12}=J_{23}=J$) we must obtain\r\n",
    " $$\\epsilon_2-\\epsilon_1 = J, \\quad  \\epsilon_3 - \\epsilon_2= J/2$$\r\n",
    "\r\n",
    "Defining the function to extract the exchange values: "
   ],
   "metadata": {}
  },
  {
   "cell_type": "code",
   "execution_count": null,
   "source": [
    "for n in [5,6,7,8,9,10]:\r\n",
    "#for n in [5,5,5,5]:\r\n",
    "    ens, __ = qd.qutils.solvers.solve_many_elec_SE(gparams, n_elec=3, \r\n",
    "                                                 n_xy_ho=[n,n], \r\n",
    "                                                 n_se=8, \r\n",
    "                                                 n_sols=6,\r\n",
    "                                                 consts=csts,\r\n",
    "                                                 optimize_omega=False,\r\n",
    "                                                 omega=7.53E+12,\r\n",
    "                                                 opt_omega_n_se=2,\r\n",
    "                                                 ho_cmes=None,\r\n",
    "                                                 cme_dir='..\\\\tutorials\\\\QuDiPy tutorial data\\\\CMEs',\r\n",
    "                                                 spin_subspace=[1]);\r\n",
    "    print(\"\\nn_se: \",n, \"ens: \", ens)"
   ],
   "outputs": [],
   "metadata": {}
  },
  {
   "cell_type": "code",
   "execution_count": null,
   "source": [
    "def ex_3_dots(gparams, nx=8, ny=8, n_se=3, n_sols=3 ):\r\n",
    "    n_elec = 3\r\n",
    "    ens, __ = qd.qutils.solvers.solve_many_elec_SE(gparams, n_elec, \r\n",
    "                                                 n_xy_ho=[nx,ny], \r\n",
    "                                                 n_se=n_se, \r\n",
    "                                                 n_sols=n_sols,\r\n",
    "                                                 consts=csts,\r\n",
    "                                                 optimize_omega=True,\r\n",
    "                                                 omega=5E13,\r\n",
    "                                                 opt_omega_n_se=2,\r\n",
    "                                                 ho_cmes=None,\r\n",
    "                                                 cme_dir='C:\\\\Users\\\\hrome\\\\Google Drive'\r\n",
    "      +'\\\\GitHub\\\\QuDiPy\\\\tutorials\\\\QuDiPy tutorial data\\\\CMEs',\r\n",
    "                                                 spin_subspace='all')\r\n",
    "\r\n",
    "    e1, e2, e3 = ens[:3]\r\n",
    "    alpha = 2 * (e2 - e1) - (e3 - e1)\r\n",
    "    beta = 1/3 *  np.sqrt(4 * (e3 - e1) ** 2 - alpha ** 2)\r\n",
    "    return (ens, 1/2*(alpha+beta),1/2*abs(alpha-beta) )\r\n",
    "\r\n",
    "\r\n",
    "exs = ex_3_dots(gparams, n_se=8, n_sols=5)\r\n",
    "print(exs)"
   ],
   "outputs": [],
   "metadata": {}
  },
  {
   "cell_type": "markdown",
   "source": [
    "# Triangular chain of dots\r\n",
    "\r\n",
    "## Building potential"
   ],
   "metadata": {}
  },
  {
   "cell_type": "code",
   "execution_count": null,
   "source": [
    "triangle_params = {'x_pos': [-dot_sep / 2, dot_sep, -dot_sep / 2],\r\n",
    "                    'y_pos': [-dot_sep * np.sqrt(3) / 2, 0, dot_sep * np.sqrt(3) / 2],\r\n",
    "                     'widths':dot_width }"
   ],
   "outputs": [],
   "metadata": {}
  },
  {
   "cell_type": "markdown",
   "source": [
    "### Get the analytical potential and pass it to build the interpolator:"
   ],
   "metadata": {}
  },
  {
   "cell_type": "code",
   "execution_count": null,
   "source": [
    "triangle_pot_params = pot.analytical_potential(ctrl_vals, ctrl_names, \r\n",
    "                                        create_gaus_pots, x_grid, y_grid, \r\n",
    "                                            **triangle_params)\r\n",
    "\r\n",
    "triangle = pot.build_interpolator(triangle_pot_params, \r\n",
    "                                          constants=qd.Constants(\"GaAs\"))\r\n",
    "\r\n"
   ],
   "outputs": [],
   "metadata": {}
  },
  {
   "cell_type": "markdown",
   "source": [
    "### Now specify the potentials to interpolate around, and plot it\r\n"
   ],
   "metadata": {}
  },
  {
   "cell_type": "code",
   "execution_count": null,
   "source": [
    " #starting with the no-bias case\r\n",
    "v_vec_sym = np.array([10, 10, 10]) * Ry\r\n",
    "# add potential to the gridparams objects\r\n",
    "gparams.update_potential(create_gaus_pots(v_vec_sym, gparams, **triangle_params))\r\n",
    "\r\n",
    "# Plot the 2D potential and the ground state wavefunction\r\n",
    "triangle.plot(v_vec_sym, plot_type='2D',  show_wf=True)\r\n"
   ],
   "outputs": [],
   "metadata": {}
  },
  {
   "cell_type": "code",
   "execution_count": null,
   "source": [
    "\r\n",
    "# Plot various 1D slices, one with a ground state wavefunction probability\r\n",
    "triangle.plot(v_vec_sym, plot_type='1D', y_slice=0, show_wf=True)\r\n",
    "triangle.plot(v_vec_sym, plot_type='1D', y_slice=dot_sep*np.sqrt(3)/2, show_wf=True)\r\n"
   ],
   "outputs": [],
   "metadata": {}
  },
  {
   "cell_type": "markdown",
   "source": [
    "\r\n",
    "# Splitting the potential into individual dots and pairs of dots\r\n",
    "\r\n",
    "It will be useful to compare the exchange values obtained from the 3-dot \r\n",
    "potential to the values for each pair of dots. To do that, we define functions\r\n",
    "that split the potential into the individual dots and then group them by pairs. \r\n"
   ],
   "metadata": {}
  },
  {
   "cell_type": "code",
   "execution_count": null,
   "source": [
    "# Define searcher for local maxima and minima indices of the potential\r\n",
    "def peak_ids(interp, voltages):\r\n",
    "    # finding where to cut a slice\r\n",
    "    y_zero_idx = np.where(np.abs(interp.y_coords) < 1e-15)[0][0]\r\n",
    "    pot_slice = interp(voltages)[y_zero_idx,:]\r\n",
    "    min_ids = find_peaks(-pot_slice)[0]\r\n",
    "    max_ids = find_peaks(pot_slice)[0]\r\n",
    "    return min_ids, max_ids\r\n",
    "\r\n",
    "min_ids, max_ids = peak_ids(chain, v_vec_sym)\r\n",
    "print('Local maxima of v_vec_sym: ',chain.x_coords[max_ids])\r\n"
   ],
   "outputs": [],
   "metadata": {}
  },
  {
   "cell_type": "code",
   "execution_count": null,
   "source": [
    "# Define function that creates separated dots\r\n",
    "def sep_dot(interp, voltages, range):\r\n",
    "    #range is the \r\n",
    "    # the potential and its maximal value \r\n",
    "    pot  = interp(voltages)\r\n",
    "    pot_max = np.max(pot)\r\n",
    "    # creating new potential landscape for a dot\r\n",
    "    sep_dot_pot = np.full(np.shape(pot), pot_max)\r\n",
    "    sep_dot_pot[:, range] = pot[:, range]\r\n",
    "\r\n",
    "    return sep_dot_pot \r\n",
    "\r\n",
    "\r\n",
    "min_ids , max_ids = peak_ids(chain, v_vec_sym)\r\n",
    "sep_dot_ids = np.split(np.arange(np.shape(chain.x_coords)[0]), max_ids)\r\n",
    "\r\n",
    "sep_dots = [sep_dot(chain, v_vec_sym, rang) for rang in sep_dot_ids]\r\n",
    "\r\n"
   ],
   "outputs": [],
   "metadata": {}
  },
  {
   "cell_type": "markdown",
   "source": [
    "Plotting the separated dots"
   ],
   "metadata": {}
  },
  {
   "cell_type": "code",
   "execution_count": null,
   "source": [
    "def plot_pots(pots, gparams):\r\n",
    "    fig, ax = plt.subplots(1, len(pots), figsize=(10,8))\r\n",
    "    for idx,pot in enumerate(pots):\r\n",
    "\r\n",
    "        ax[idx].imshow(pot, interpolation='bilinear', cmap='viridis',\r\n",
    "                    origin='lower', extent=[gparams.x.min()/1E-9, \r\n",
    "                    gparams.x.max()/1E-9, gparams.y.min()/1E-9,\r\n",
    "                    gparams.y.max()/1E-9]\r\n",
    "                    )\r\n",
    "        ax[idx].set(xlabel='x-coords [nm]',ylabel='y-coords [nm]',\r\n",
    "                            title='2D potential');\r\n",
    "                       \r\n",
    "plot_pots(sep_dots, gparams)"
   ],
   "outputs": [],
   "metadata": {}
  },
  {
   "cell_type": "code",
   "execution_count": null,
   "source": [
    "#Defining a function of pairs of dots and plotting them\r\n",
    "def dot_pairs(sep_dots):\r\n",
    "    pair_pots = [np.minimum(sep_dots[i], sep_dots[i+1])\r\n",
    "        for i in range(len(sep_dots)-1)]\r\n",
    "    return pair_pots\r\n",
    "\r\n",
    "plot_pots(dot_pairs(sep_dots), gparams)"
   ],
   "outputs": [],
   "metadata": {}
  }
 ]
}