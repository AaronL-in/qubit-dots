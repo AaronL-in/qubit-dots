{
 "cells": [
  {
   "cell_type": "markdown",
   "source": [
    "# Plotting exchange results\r\n",
    "\r\n"
   ],
   "metadata": {}
  },
  {
   "cell_type": "code",
   "execution_count": 1,
   "source": [
    "import numpy as np\r\n",
    "import matplotlib.pyplot as plt \r\n",
    "import pandas as pd\r\n"
   ],
   "outputs": [],
   "metadata": {}
  },
  {
   "cell_type": "markdown",
   "source": [
    "\r\n",
    "## Exchange parameters extraction\r\n",
    "Let us start with solving the 3-electron problem.\r\n",
    "If we disregard the exchange between the first and the third dot in the chain\r\n",
    "($J_{31}=0$), the Heisenberg Hamiltonian diagonalizes with the eigenvalues \r\n",
    "$\\epsilon_1< \\epsilon_2 < \\epsilon_3$ that relate to the exchange values \r\n",
    "in the following way:\r\n",
    "$$\r\n",
    "\\alpha = 2 (\\epsilon_2 -\\epsilon_1)  - (\\epsilon_3 -\\epsilon_1), \r\n",
    "\\quad\r\n",
    "\\beta = \\frac{1}{3}\\sqrt{4(\\epsilon_3 -\\epsilon_1)^2-\\alpha^2};\r\n",
    "\\qquad J_{12}, J_{23} =\\frac{\\alpha \\pm \\beta}{2}\r\n",
    "$$\r\n",
    "\r\n",
    "For a symmetric system ($J_{12}=J_{23}=J$) we must obtain\r\n",
    " $$\\epsilon_2-\\epsilon_1 = J, \\quad  \\epsilon_3 - \\epsilon_2= J/2$$\r\n",
    "\r\n",
    "Defining the function to extract the exchange values: "
   ],
   "metadata": {}
  },
  {
   "cell_type": "code",
   "execution_count": 2,
   "source": [
    "\r\n",
    "#extract exchange\r\n",
    "\r\n",
    "def ex_3_dots(e):\r\n",
    "    \r\n",
    "    alpha = 2 * (e[:,2] - e[:,1]) + (e[:,1] - e[:,0])\r\n",
    "    beta = 1/3 *  np.sqrt((4 * np.square(e[:,1] - e[:,0])  - np.square(alpha)))\r\n",
    "    return ( np.array((1 / 2 * (alpha + beta), 1 / 2 * np.abs(alpha - beta) ))).T\r\n"
   ],
   "outputs": [],
   "metadata": {}
  },
  {
   "cell_type": "code",
   "execution_count": 3,
   "source": [
    "ns = range(10,15)\r\n",
    "allens = np.array([\r\n",
    "    [-1.85667615e-20, -1.85325092e-20, -1.84906540e-20, \r\n",
    "-1.84564018e-20,\r\n",
    " -1.84564018e-20, -1.84564018e-20],\r\n",
    " [-1.86250639e-20, -1.86098759e-20, -1.85389419e-20, -1.85237539e-20,\r\n",
    " -1.85237539e-20, -1.85237539e-20],\r\n",
    " [-1.86372346e-20, -1.86098759e-20, -1.85632834e-20, -1.85359247e-20,\r\n",
    " -1.85359247e-20, -1.85359247e-20],\r\n",
    "[-1.86806964e-20, -1.86767027e-20, -1.85997607e-20, -1.85957670e-20,\r\n",
    " -1.85957670e-20, -1.85957670e-20],\r\n",
    "[-1.86856348e-20, -1.86806964e-20, -1.86096375e-20, -1.86046991e-20,\r\n",
    " -1.86046991e-20, -1.86046991e-20]], dtype='complex128'\r\n",
    ")\r\n",
    "\r\n",
    "ex_3_dots(allens)"
   ],
   "outputs": [
    {
     "output_type": "execute_result",
     "data": {
      "text/plain": [
       "array([[5.89813500e-23+1.60054838e-23j, 6.11144431e-23+0.00000000e+00j],\n",
       "       [7.85280000e-23+2.56817519e-23j, 8.26208156e-23+0.00000000e+00j],\n",
       "       [6.02718500e-23+1.79015748e-23j, 6.28741782e-23+0.00000000e+00j],\n",
       "       [7.89388500e-23+2.62792533e-23j, 8.31982043e-23+0.00000000e+00j],\n",
       "       [7.35281000e-23+2.44540242e-23j, 7.74879396e-23+0.00000000e+00j]])"
      ]
     },
     "metadata": {},
     "execution_count": 3
    }
   ],
   "metadata": {}
  },
  {
   "cell_type": "markdown",
   "source": [
    "# Testing the numpy fancy indexing"
   ],
   "metadata": {}
  },
  {
   "cell_type": "code",
   "execution_count": 4,
   "source": [
    "n_se_so = 6666\r\n",
    "map_so_basis = np.zeros((n_se_so, 2));\r\n",
    "import time\r\n",
    "init = time.time_ns()\r\n",
    "for idx in range(n_se_so):\r\n",
    "    map_so_basis[idx, :] = [idx // 2, idx % 2]\r\n",
    "fin = time.time_ns() - init\r\n",
    "\r\n",
    "print('time for for loop:\\t', fin)\r\n",
    "\r\n",
    "init = time.time_ns()\r\n",
    "inds = np.arange(n_se_so)\r\n",
    "map_so_basis[inds, :]= np.array([inds // 2, inds % 2]).T\r\n",
    "\r\n",
    "fin = time.time_ns() - init\r\n",
    "print('time for numpy array:\\t', fin)"
   ],
   "outputs": [
    {
     "output_type": "stream",
     "name": "stdout",
     "text": [
      "time for for loop:\t 7019800\n",
      "time for numpy array:\t 979000\n"
     ]
    }
   ],
   "metadata": {}
  }
 ],
 "metadata": {
  "orig_nbformat": 4,
  "language_info": {
   "name": "python",
   "version": "3.9.1",
   "mimetype": "text/x-python",
   "codemirror_mode": {
    "name": "ipython",
    "version": 3
   },
   "pygments_lexer": "ipython3",
   "nbconvert_exporter": "python",
   "file_extension": ".py"
  },
  "kernelspec": {
   "name": "python3",
   "display_name": "Python 3.9.1 64-bit"
  },
  "interpreter": {
   "hash": "4561266fcd5554651ed354eb547b3e53d4d7488cd5bd537e2ac772f2874ea058"
  }
 },
 "nbformat": 4,
 "nbformat_minor": 2
}