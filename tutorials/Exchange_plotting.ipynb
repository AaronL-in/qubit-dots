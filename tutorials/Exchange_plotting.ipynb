{
 "cells": [
  {
   "cell_type": "markdown",
   "source": [
    "# Plotting exchange results\r\n",
    "\r\n"
   ],
   "metadata": {}
  },
  {
   "cell_type": "code",
   "execution_count": 1,
   "source": [
    "import numpy as np\r\n",
    "import matplotlib.pyplot as plt \r\n",
    "import pandas as pd\r\n"
   ],
   "outputs": [],
   "metadata": {}
  },
  {
   "cell_type": "markdown",
   "source": [
    "\r\n",
    "## Exchange parameters extraction\r\n",
    "Let us start with solving the 3-electron problem.\r\n",
    "If we disregard the exchange between the first and the third dot in the chain\r\n",
    "($J_{31}=0$), the Heisenberg Hamiltonian diagonalizes with the eigenvalues \r\n",
    "$\\epsilon_1< \\epsilon_2 < \\epsilon_3$ that relate to the exchange values \r\n",
    "in the following way:\r\n",
    "$$\r\n",
    "\\alpha = 2 (\\epsilon_2 -\\epsilon_1)  - (\\epsilon_3 -\\epsilon_1), \r\n",
    "\\quad\r\n",
    "\\beta = \\frac{1}{3}\\sqrt{4(\\epsilon_3 -\\epsilon_1)^2-\\alpha^2};\r\n",
    "\\qquad J_{12}, J_{23} =\\frac{\\alpha \\pm \\beta}{2}\r\n",
    "$$\r\n",
    "\r\n",
    "For a symmetric system ($J_{12}=J_{23}=J$) we must obtain\r\n",
    " $$\\epsilon_2-\\epsilon_1 = J, \\quad  \\epsilon_3 - \\epsilon_2= J/2$$\r\n",
    "\r\n",
    "Defining the function to extract the exchange values: "
   ],
   "metadata": {}
  },
  {
   "cell_type": "code",
   "execution_count": 2,
   "source": [
    "\r\n",
    "#extract exchange\r\n",
    "\r\n",
    "def ex_3_dots(e):\r\n",
    "    \r\n",
    "    alpha = 2 * (e[:,2] - e[:,1]) + (e[:,1] - e[:,0])\r\n",
    "    beta = 1/3 *  np.sqrt((4 * np.square(e[:,1] - e[:,0])  - np.square(alpha)))\r\n",
    "    return ( np.array((1 / 2 * (alpha + beta), 1 / 2 * np.abs(alpha - beta) ))).T\r\n"
   ],
   "outputs": [],
   "metadata": {}
  },
  {
   "cell_type": "code",
   "execution_count": 3,
   "source": [
    "ns = range(10,15)\r\n",
    "allens = np.array([\r\n",
    "    [-1.85667615e-20, -1.85325092e-20, -1.84906540e-20, \r\n",
    "-1.84564018e-20,\r\n",
    " -1.84564018e-20, -1.84564018e-20],\r\n",
    " [-1.86250639e-20, -1.86098759e-20, -1.85389419e-20, -1.85237539e-20,\r\n",
    " -1.85237539e-20, -1.85237539e-20],\r\n",
    " [-1.86372346e-20, -1.86098759e-20, -1.85632834e-20, -1.85359247e-20,\r\n",
    " -1.85359247e-20, -1.85359247e-20],\r\n",
    "[-1.86806964e-20, -1.86767027e-20, -1.85997607e-20, -1.85957670e-20,\r\n",
    " -1.85957670e-20, -1.85957670e-20],\r\n",
    "[-1.86856348e-20, -1.86806964e-20, -1.86096375e-20, -1.86046991e-20,\r\n",
    " -1.86046991e-20, -1.86046991e-20]], dtype='complex128'\r\n",
    ")\r\n",
    "\r\n",
    "ex_3_dots(allens)"
   ],
   "outputs": [
    {
     "output_type": "execute_result",
     "data": {
      "text/plain": [
       "array([[5.89813500e-23+1.60054838e-23j, 6.11144431e-23+0.00000000e+00j],\n",
       "       [7.85280000e-23+2.56817519e-23j, 8.26208156e-23+0.00000000e+00j],\n",
       "       [6.02718500e-23+1.79015748e-23j, 6.28741782e-23+0.00000000e+00j],\n",
       "       [7.89388500e-23+2.62792533e-23j, 8.31982043e-23+0.00000000e+00j],\n",
       "       [7.35281000e-23+2.44540242e-23j, 7.74879396e-23+0.00000000e+00j]])"
      ]
     },
     "metadata": {},
     "execution_count": 3
    }
   ],
   "metadata": {}
  },
  {
   "cell_type": "markdown",
   "source": [
    "# Testing the numpy fancy indexing"
   ],
   "metadata": {}
  },
  {
   "cell_type": "code",
   "execution_count": 4,
   "source": [
    "n_se_so = 6666\r\n",
    "map_so_basis = np.zeros((n_se_so, 2));\r\n",
    "import time\r\n",
    "init = time.time_ns()\r\n",
    "for idx in range(n_se_so):\r\n",
    "    map_so_basis[idx, :] = [idx // 2, idx % 2]\r\n",
    "fin = time.time_ns() - init\r\n",
    "\r\n",
    "print('time for for loop:\\t', fin)\r\n",
    "\r\n",
    "init = time.time_ns()\r\n",
    "inds = np.arange(n_se_so)\r\n",
    "map_so_basis[inds, :]= np.array([inds // 2, inds % 2]).T\r\n",
    "\r\n",
    "fin = time.time_ns() - init\r\n",
    "print('time for numpy array:\\t', fin)"
   ],
   "outputs": [
    {
     "output_type": "stream",
     "name": "stdout",
     "text": [
      "time for for loop:\t 6020000\n",
      "time for numpy array:\t 1002200\n"
     ]
    }
   ],
   "metadata": {}
  },
  {
   "cell_type": "code",
   "execution_count": 5,
   "source": [
    "from scipy.io import loadmat\r\n",
    "from scipy.interpolate import interp1d\r\n",
    "\r\n",
    "mat_contents = loadmat('N=2_4_6_8_10_M=15')\r\n",
    "mat_contents.keys()"
   ],
   "outputs": [
    {
     "output_type": "execute_result",
     "data": {
      "text/plain": [
       "dict_keys(['__header__', '__version__', '__globals__', 'exchange'])"
      ]
     },
     "metadata": {},
     "execution_count": 5
    }
   ],
   "metadata": {}
  },
  {
   "cell_type": "code",
   "execution_count": 6,
   "source": [
    "mat_exchanges = mat_contents['exchange']\r\n",
    "mat_dot_seps = np.linspace(7.5,15,100) * 2\r\n",
    "mat_exchanges.T[:,:10]"
   ],
   "outputs": [
    {
     "output_type": "execute_result",
     "data": {
      "text/plain": [
       "array([[0.06801233, 0.06790605, 0.06779017, 0.06765759, 0.06743864,\n",
       "        0.06720182, 0.06694786, 0.0666786 , 0.06638932, 0.06608526],\n",
       "       [0.01489736, 0.01451815, 0.01415002, 0.0137925 , 0.01344515,\n",
       "        0.01310763, 0.01277952, 0.01246044, 0.01215009, 0.0118481 ],\n",
       "       [0.01949865, 0.018899  , 0.01832052, 0.01776227, 0.01722345,\n",
       "        0.01670322, 0.01620077, 0.01571542, 0.0152464 , 0.01479306],\n",
       "       [0.01355621, 0.01298857, 0.01244378, 0.01192089, 0.01141901,\n",
       "        0.01093728, 0.01047488, 0.01003101, 0.00960492, 0.00919591],\n",
       "       [0.01266595, 0.01212384, 0.01160388, 0.0111052 , 0.01062686,\n",
       "        0.01016809, 0.00972804, 0.00930595, 0.00890108, 0.00851273],\n",
       "       [0.01289593, 0.01234608, 0.01181859, 0.01131254, 0.01082703,\n",
       "        0.01036123, 0.00991434, 0.00948558, 0.00907422, 0.00867954]])"
      ]
     },
     "metadata": {},
     "execution_count": 6
    }
   ],
   "metadata": {}
  },
  {
   "cell_type": "markdown",
   "source": [
    "Adding the exchange values from Python code"
   ],
   "metadata": {}
  },
  {
   "cell_type": "code",
   "execution_count": 7,
   "source": [
    "exchange_values = np.array([3.272889639370402e-21, 2.913048883523661e-21,  \r\n",
    "             2.7635322566316486e-21, 5.420431755732095e-22, 5.293272032143253e-23, \r\n",
    "             2.4903525929608842e-21, 2.4903525929608842e-21, 1.5720630064745896e-21   ])\r\n",
    "\r\n",
    "interpolated_exchanges = interp1d(mat_dot_seps, mat_exchanges[:,0])\r\n",
    "\r\n",
    "interpolated_exchanges(np.linspace(15,30,10)[:8])  / exchange_values"
   ],
   "outputs": [
    {
     "output_type": "execute_result",
     "data": {
      "text/plain": [
       "array([2.07805156e+19, 2.24609311e+19, 2.19874243e+19, 1.00574369e+20,\n",
       "       8.87766558e+20, 1.54875725e+19, 1.19649399e+19, 1.35728523e+19])"
      ]
     },
     "metadata": {},
     "execution_count": 7
    }
   ],
   "metadata": {}
  },
  {
   "cell_type": "code",
   "execution_count": 8,
   "source": [
    "\r\n",
    "%matplotlib widget\r\n",
    "legends = ('N=2','N=4','N=6','N=8','N=10', 'N=8 data')\r\n",
    "\r\n",
    "plt.figure(figsize=(6,5))\r\n",
    "for ex in mat_exchanges.T:\r\n",
    "    plt.plot(mat_dot_seps, ex * 42.7E3)\r\n",
    "#plt.legend(plot, legends)\r\n",
    "\r\n",
    "plt.plot(np.linspace(15,30,10)[:8], exchange_values/1.6e-25, 'r.' )\r\n",
    "plt.xscale('linear')\r\n",
    "plt.yscale('log')\r\n",
    "plt.legend(legends, loc='best', fancybox=True, ncol=2)\r\n",
    "plt.xlim((15,30))\r\n",
    "\r\n",
    "plt.show()\r\n"
   ],
   "outputs": [
    {
     "output_type": "display_data",
     "data": {
      "application/vnd.jupyter.widget-view+json": {
       "version_major": 2,
       "version_minor": 0,
       "model_id": "b882e7c48fc04a3fbd6098c8dacf5515"
      },
      "text/plain": [
       "Canvas(toolbar=Toolbar(toolitems=[('Home', 'Reset original view', 'home', 'home'), ('Back', 'Back to previous …"
      ]
     },
     "metadata": {}
    }
   ],
   "metadata": {}
  }
 ],
 "metadata": {
  "orig_nbformat": 4,
  "language_info": {
   "name": "python",
   "version": "3.9.1",
   "mimetype": "text/x-python",
   "codemirror_mode": {
    "name": "ipython",
    "version": 3
   },
   "pygments_lexer": "ipython3",
   "nbconvert_exporter": "python",
   "file_extension": ".py"
  },
  "kernelspec": {
   "name": "python3",
   "display_name": "Python 3.9.1 64-bit"
  },
  "interpreter": {
   "hash": "4561266fcd5554651ed354eb547b3e53d4d7488cd5bd537e2ac772f2874ea058"
  }
 },
 "nbformat": 4,
 "nbformat_minor": 2
}