{
 "cells": [
  {
   "cell_type": "markdown",
   "source": [
    "# **Exchange in 2 dots**\r\n",
    "\r\n",
    "The goal here is to reproduce the results from Matlab code.\r\n",
    "\r\n",
    "# Loading modules and defining main variables"
   ],
   "metadata": {}
  },
  {
   "cell_type": "code",
   "execution_count": 1,
   "source": [
    "import os, sys\r\n",
    "sys.path.append(os.path.dirname(os.getcwd()))\r\n",
    "\r\n",
    "import qudipy as qd\r\n",
    "import qudipy.potential as pot\r\n",
    "import qudipy.exchange as exch\r\n",
    "\r\n",
    "import numpy as np\r\n",
    "import matplotlib.pyplot as plt\r\n",
    "import copy\r\n",
    "from scipy.io import loadmat    # for loading Matlab files\r\n",
    "from scipy.interpolate import interp1d\r\n",
    "\r\n",
    "from tqdm import tqdm\r\n",
    "import time\r\n",
    "import math\r\n",
    "\r\n",
    "\r\n",
    "import gc   # for memory cleanup"
   ],
   "outputs": [],
   "metadata": {}
  },
  {
   "cell_type": "markdown",
   "source": [
    "Specifying the dot parameters"
   ],
   "metadata": {}
  },
  {
   "cell_type": "code",
   "execution_count": 2,
   "source": [
    "csts = qd.Constants('Si/SiO2')\r\n",
    "\r\n",
    "nItinOrbs = [8,2]#[10,12,2,4,]\r\n",
    "n_dot_seps = 10\r\n",
    "\r\n",
    "dot_seps = np.linspace(7.5,15, n_dot_seps) * 1E-9;\r\n",
    "a = 6.0E-9;     # dot_width\r\n",
    "dx_dy = 0.5;\r\n",
    "\r\n",
    "omega = csts.hbar / (csts.me * a ** 2 )\r\n",
    "print('omega = {:e} Hz'.format(omega))"
   ],
   "outputs": [
    {
     "output_type": "stream",
     "name": "stdout",
     "text": [
      "omega = 1.683648e+13 Hz\n"
     ]
    }
   ],
   "metadata": {}
  },
  {
   "cell_type": "markdown",
   "source": [
    "Creating an array of grid parameters objects (for future simulations)"
   ],
   "metadata": {}
  },
  {
   "cell_type": "code",
   "execution_count": 3,
   "source": [
    "ngridx = 200\r\n",
    "ngridy = 200\r\n",
    "\r\n",
    "xgrids = np.linspace( - dot_seps - 5 * a, dot_seps + 5 * a, ngridx).T\r\n",
    "ygrids = np.tile(np.linspace( - 5 * a, 5 * a, ngridy), (n_dot_seps, 1))\r\n",
    "\r\n",
    "all_gparams = (pot.GridParameters(xgrids[ idx], ygrids[ idx])\r\n",
    "                    for idx in range(n_dot_seps))\r\n",
    "\r\n",
    "# numbers of harmonic orbitals\r\n",
    "n_xy_ho = (15,15)\r\n",
    "xgrids.shape"
   ],
   "outputs": [
    {
     "output_type": "execute_result",
     "data": {
      "text/plain": [
       "(10, 200)"
      ]
     },
     "metadata": {},
     "execution_count": 3
    }
   ],
   "metadata": {}
  },
  {
   "cell_type": "markdown",
   "source": [
    "Defining a function that creates a quartic potential"
   ],
   "metadata": {}
  },
  {
   "cell_type": "code",
   "execution_count": 4,
   "source": [
    "def create_quartic(gparams, d):\r\n",
    "    return 1 / 2 * csts.me * omega ** 2 * (\r\n",
    "                    1 / ( 4 * d **2) * (gparams.x_mesh ** 2 - d ** 2) ** 2\r\n",
    "                        + gparams.y_mesh ** 2\r\n",
    "    )"
   ],
   "outputs": [],
   "metadata": {}
  },
  {
   "cell_type": "markdown",
   "source": [
    "Iterate over dot separations and numbers of single-electron orbitals to calculate the exchange values"
   ],
   "metadata": {}
  },
  {
   "cell_type": "code",
   "execution_count": 5,
   "source": [
    "#%%script false\r\n",
    "\r\n",
    "exchanges = []\r\n",
    "\r\n",
    "omega_guess = 0.025 * csts.hbar / (csts.me * csts.a_B**2)\r\n",
    "\r\n",
    "for n_se_orbs in nItinOrbs:\r\n",
    "    gparams = next(all_gparams)\r\n",
    "    exs = np.zeros((n_dot_seps,))\r\n",
    "    for idx in tqdm(range(n_dot_seps)):\r\n",
    "        gparams.update_potential(create_quartic(gparams, dot_seps[idx]))\r\n",
    "        ens, __ = qd.qutils.solvers.solve_many_elec_SE(gparams, n_elec=2, \r\n",
    "                      n_xy_ho=n_xy_ho, \r\n",
    "                      n_se=n_se_orbs, \r\n",
    "                      n_sols=2,\r\n",
    "                      consts=csts,\r\n",
    "                      optimize_omega=True,\r\n",
    "                      omega=omega_guess,\r\n",
    "                      opt_omega_n_se=n_se_orbs,\r\n",
    "                      cme_dir='..\\\\tutorials\\\\QuDiPy tutorial data\\\\CMEs',\r\n",
    "                      spin_subspace=[1]);\r\n",
    "        exs[idx] = ens[1] - ens[0]\r\n",
    "        print('exchange value is: ', exs[idx] ,\r\n",
    "        '\\nenergies are: ', ens)\r\n",
    "    exchanges.append(exs)\r\n"
   ],
   "outputs": [
    {
     "output_type": "stream",
     "name": "stderr",
     "text": [
      "  0%|          | 0/10 [00:00<?, ?it/s]"
     ]
    },
    {
     "output_type": "stream",
     "name": "stdout",
     "text": [
      "Begining many body energy calculation...\n",
      "\n",
      "Optimizing choice of omega in approximating the single electron orbitals...\n",
      "\n",
      "Optimization terminated successfully.\n",
      "Found an optimal omega of 2.34E+13.\n",
      "\n",
      "Done!\n",
      "Elapsed time is 67.22774648666382 seconds.\n",
      "\n",
      "Finding 2D harmonic orbitals at origin...\n",
      "\n",
      "Done!\n",
      "\n",
      "Finding A matrix...\n",
      "\n",
      "Done!\n",
      "Elapsed time is 33.97121548652649 seconds.\n",
      "\n",
      "Loading harmonic orbital CME matrix from the specified directory\n",
      "\n",
      "Transforming the CME library to single electron basis...\n",
      "\n",
      "Done!\n",
      "Elapsed time is 29.943827629089355 seconds.\n",
      "\n",
      "Building 2nd quantization Hamiltonian and diagonalizing...\n",
      "1. The nondiagonal part is built\n",
      "2. The diagonal part is built\n",
      "Done!\n",
      "\n",
      "Elapsed time is 1071.7186801433563 seconds.\n",
      "\n"
     ]
    },
    {
     "output_type": "stream",
     "name": "stderr",
     "text": [
      " 10%|█         | 1/10 [20:35<3:05:20, 1235.57s/it]"
     ]
    },
    {
     "output_type": "stream",
     "name": "stdout",
     "text": [
      "Total calculation time: 1234.27 sec, 20.57 min.\n",
      "Time optimizing omega: 67.23 sec, 5.45% of total.\n",
      "Time finding A matrix: 33.97 sec, 2.75% of total.\n",
      "Time transforming CMEs: 29.94 sec, 2.43% of total.\n",
      "Time building 2nd quantization H: 1071.72 sec, 86.83% of total.\n",
      "exchange value is:  8.480918795523421e-22 \n",
      "energies are:  [2.76963197e-21 3.61772385e-21]\n",
      "Begining many body energy calculation...\n",
      "\n",
      "Optimizing choice of omega in approximating the single electron orbitals...\n",
      "\n",
      "Optimization terminated successfully.\n",
      "Found an optimal omega of 2.70E+13.\n",
      "\n",
      "Done!\n",
      "Elapsed time is 47.500558614730835 seconds.\n",
      "\n",
      "Finding 2D harmonic orbitals at origin...\n",
      "\n",
      "Done!\n",
      "\n",
      "Finding A matrix...\n",
      "\n",
      "Done!\n",
      "Elapsed time is 34.07759141921997 seconds.\n",
      "\n",
      "Loading harmonic orbital CME matrix from the specified directory\n",
      "\n",
      "Transforming the CME library to single electron basis...\n",
      "\n",
      "Done!\n",
      "Elapsed time is 30.287296772003174 seconds.\n",
      "\n",
      "Building 2nd quantization Hamiltonian and diagonalizing...\n"
     ]
    },
    {
     "output_type": "stream",
     "name": "stderr",
     "text": [
      " 10%|█         | 1/10 [40:25<6:03:53, 2425.99s/it]\n"
     ]
    },
    {
     "output_type": "error",
     "ename": "KeyboardInterrupt",
     "evalue": "",
     "traceback": [
      "\u001b[1;31m---------------------------------------------------------------------------\u001b[0m",
      "\u001b[1;31mKeyboardInterrupt\u001b[0m                         Traceback (most recent call last)",
      "\u001b[1;32m~\\AppData\\Local\\Temp/ipykernel_22368/271464537.py\u001b[0m in \u001b[0;36m<module>\u001b[1;34m\u001b[0m\n\u001b[0;32m     10\u001b[0m     \u001b[1;32mfor\u001b[0m \u001b[0midx\u001b[0m \u001b[1;32min\u001b[0m \u001b[0mtqdm\u001b[0m\u001b[1;33m(\u001b[0m\u001b[0mrange\u001b[0m\u001b[1;33m(\u001b[0m\u001b[0mn_dot_seps\u001b[0m\u001b[1;33m)\u001b[0m\u001b[1;33m)\u001b[0m\u001b[1;33m:\u001b[0m\u001b[1;33m\u001b[0m\u001b[1;33m\u001b[0m\u001b[0m\n\u001b[0;32m     11\u001b[0m         \u001b[0mgparams\u001b[0m\u001b[1;33m.\u001b[0m\u001b[0mupdate_potential\u001b[0m\u001b[1;33m(\u001b[0m\u001b[0mcreate_quartic\u001b[0m\u001b[1;33m(\u001b[0m\u001b[0mgparams\u001b[0m\u001b[1;33m,\u001b[0m \u001b[0mdot_seps\u001b[0m\u001b[1;33m[\u001b[0m\u001b[0midx\u001b[0m\u001b[1;33m]\u001b[0m\u001b[1;33m)\u001b[0m\u001b[1;33m)\u001b[0m\u001b[1;33m\u001b[0m\u001b[1;33m\u001b[0m\u001b[0m\n\u001b[1;32m---> 12\u001b[1;33m         ens, __ = qd.qutils.solvers.solve_many_elec_SE(gparams, n_elec=2, \n\u001b[0m\u001b[0;32m     13\u001b[0m                       \u001b[0mn_xy_ho\u001b[0m\u001b[1;33m=\u001b[0m\u001b[0mn_xy_ho\u001b[0m\u001b[1;33m,\u001b[0m\u001b[1;33m\u001b[0m\u001b[1;33m\u001b[0m\u001b[0m\n\u001b[0;32m     14\u001b[0m                       \u001b[0mn_se\u001b[0m\u001b[1;33m=\u001b[0m\u001b[0mn_se_orbs\u001b[0m\u001b[1;33m,\u001b[0m\u001b[1;33m\u001b[0m\u001b[1;33m\u001b[0m\u001b[0m\n",
      "\u001b[1;32mc:\\Users\\bbuonaco\\Documents\\QuDiPy\\qudipy\\qutils\\solvers.py\u001b[0m in \u001b[0;36msolve_many_elec_SE\u001b[1;34m(gparams, n_elec, n_xy_ho, n_se, n_sols, consts, optimize_omega, omega, opt_omega_n_se, ho_cmes, cme_dir, spin_subspace)\u001b[0m\n\u001b[0;32m    387\u001b[0m     \u001b[1;31m# Build the 2nd quantization Hamiltonian and then diagonalize it to\u001b[0m\u001b[1;33m\u001b[0m\u001b[1;33m\u001b[0m\u001b[1;33m\u001b[0m\u001b[0m\n\u001b[0;32m    388\u001b[0m     \u001b[1;31m# obtain the egienvectors and eigenenergies of the many electron system.\u001b[0m\u001b[1;33m\u001b[0m\u001b[1;33m\u001b[0m\u001b[1;33m\u001b[0m\u001b[0m\n\u001b[1;32m--> 389\u001b[1;33m     ham_2q = ex.build_second_quant_ham(n_elec, spin_subspace, n_se, lcho_ens,\n\u001b[0m\u001b[0;32m    390\u001b[0m                                        se_cmes)\n\u001b[0;32m    391\u001b[0m \u001b[1;33m\u001b[0m\u001b[0m\n",
      "\u001b[1;32mc:\\Users\\bbuonaco\\Documents\\QuDiPy\\qudipy\\exchange\\exchange.py\u001b[0m in \u001b[0;36mbuild_second_quant_ham\u001b[1;34m(n_elec, spin_subspace, n_se_orbs, se_energies, se_cmes)\u001b[0m\n\u001b[0;32m    884\u001b[0m     \u001b[1;32mfor\u001b[0m \u001b[0mndx\u001b[0m \u001b[1;32min\u001b[0m \u001b[0mrange\u001b[0m\u001b[1;33m(\u001b[0m\u001b[0mn_2q_states\u001b[0m\u001b[1;33m)\u001b[0m\u001b[1;33m:\u001b[0m\u001b[1;33m\u001b[0m\u001b[1;33m\u001b[0m\u001b[0m\n\u001b[0;32m    885\u001b[0m         \u001b[1;32mfor\u001b[0m \u001b[0mmdx\u001b[0m \u001b[1;32min\u001b[0m \u001b[0mrange\u001b[0m\u001b[1;33m(\u001b[0m\u001b[0mndx\u001b[0m \u001b[1;33m+\u001b[0m \u001b[1;36m1\u001b[0m\u001b[1;33m,\u001b[0m \u001b[0mn_2q_states\u001b[0m\u001b[1;33m)\u001b[0m\u001b[1;33m:\u001b[0m\u001b[1;33m\u001b[0m\u001b[1;33m\u001b[0m\u001b[0m\n\u001b[1;32m--> 886\u001b[1;33m             Hc[ndx, mdx] = __hc_helper(n_elec, ndx, mdx, n_se_orbs, se_cmes,\n\u001b[0m\u001b[0;32m    887\u001b[0m                                        vec_so_basis, map_so_basis)\n\u001b[0;32m    888\u001b[0m \u001b[1;33m\u001b[0m\u001b[0m\n",
      "\u001b[1;32mc:\\Users\\bbuonaco\\Documents\\QuDiPy\\qudipy\\exchange\\exchange.py\u001b[0m in \u001b[0;36m__hc_helper\u001b[1;34m(n_elec, ndx, mdx, n_se_orbs, se_cmes, vec_so_basis, map_so_basis)\u001b[0m\n\u001b[0;32m   1098\u001b[0m                     \u001b[1;31m# Now calculate the phase from applying these annihilation\u001b[0m\u001b[1;33m\u001b[0m\u001b[1;33m\u001b[0m\u001b[1;33m\u001b[0m\u001b[0m\n\u001b[0;32m   1099\u001b[0m                     \u001b[1;31m# operators\u001b[0m\u001b[1;33m\u001b[0m\u001b[1;33m\u001b[0m\u001b[1;33m\u001b[0m\u001b[0m\n\u001b[1;32m-> 1100\u001b[1;33m                     \u001b[0mket_phase\u001b[0m \u001b[1;33m=\u001b[0m \u001b[0m__phase_helper\u001b[0m\u001b[1;33m(\u001b[0m\u001b[0mket\u001b[0m\u001b[1;33m)\u001b[0m\u001b[1;33m\u001b[0m\u001b[1;33m\u001b[0m\u001b[0m\n\u001b[0m\u001b[0;32m   1101\u001b[0m \u001b[1;33m\u001b[0m\u001b[0m\n\u001b[0;32m   1102\u001b[0m                     \u001b[1;31m# Remove all annihilated electrons from our\u001b[0m\u001b[1;33m\u001b[0m\u001b[1;33m\u001b[0m\u001b[1;33m\u001b[0m\u001b[0m\n",
      "\u001b[1;32mc:\\Users\\bbuonaco\\Documents\\QuDiPy\\qudipy\\exchange\\exchange.py\u001b[0m in \u001b[0;36m__phase_helper\u001b[1;34m(state)\u001b[0m\n\u001b[0;32m   1018\u001b[0m         \u001b[1;31m# The remaining indices correspond to exactly how many swaps were\u001b[0m\u001b[1;33m\u001b[0m\u001b[1;33m\u001b[0m\u001b[1;33m\u001b[0m\u001b[0m\n\u001b[0;32m   1019\u001b[0m         \u001b[1;31m# in order to apply each annihilation operator, so calculate the phase\u001b[0m\u001b[1;33m\u001b[0m\u001b[1;33m\u001b[0m\u001b[1;33m\u001b[0m\u001b[0m\n\u001b[1;32m-> 1020\u001b[1;33m         \u001b[0mphase\u001b[0m \u001b[1;33m=\u001b[0m \u001b[1;33m(\u001b[0m\u001b[1;33m-\u001b[0m\u001b[1;36m1\u001b[0m\u001b[1;33m)\u001b[0m\u001b[1;33m**\u001b[0m\u001b[0mnp\u001b[0m\u001b[1;33m.\u001b[0m\u001b[0msum\u001b[0m\u001b[1;33m(\u001b[0m\u001b[0mannih_ids\u001b[0m\u001b[1;33m)\u001b[0m\u001b[1;33m\u001b[0m\u001b[1;33m\u001b[0m\u001b[0m\n\u001b[0m\u001b[0;32m   1021\u001b[0m \u001b[1;33m\u001b[0m\u001b[0m\n\u001b[0;32m   1022\u001b[0m         \u001b[1;32mreturn\u001b[0m \u001b[0mphase\u001b[0m\u001b[1;33m\u001b[0m\u001b[1;33m\u001b[0m\u001b[0m\n",
      "\u001b[1;32m<__array_function__ internals>\u001b[0m in \u001b[0;36msum\u001b[1;34m(*args, **kwargs)\u001b[0m\n",
      "\u001b[1;32m~\\AppData\\Local\\Programs\\Python\\Python39\\lib\\site-packages\\numpy\\core\\fromnumeric.py\u001b[0m in \u001b[0;36msum\u001b[1;34m(a, axis, dtype, out, keepdims, initial, where)\u001b[0m\n\u001b[0;32m   2245\u001b[0m         \u001b[1;32mreturn\u001b[0m \u001b[0mres\u001b[0m\u001b[1;33m\u001b[0m\u001b[1;33m\u001b[0m\u001b[0m\n\u001b[0;32m   2246\u001b[0m \u001b[1;33m\u001b[0m\u001b[0m\n\u001b[1;32m-> 2247\u001b[1;33m     return _wrapreduction(a, np.add, 'sum', axis, dtype, out, keepdims=keepdims,\n\u001b[0m\u001b[0;32m   2248\u001b[0m                           initial=initial, where=where)\n\u001b[0;32m   2249\u001b[0m \u001b[1;33m\u001b[0m\u001b[0m\n",
      "\u001b[1;31mKeyboardInterrupt\u001b[0m: "
     ]
    }
   ],
   "metadata": {}
  },
  {
   "cell_type": "markdown",
   "source": [
    "# Loading and plotting the exchange data from Matlab\r\n"
   ],
   "metadata": {}
  },
  {
   "cell_type": "code",
   "execution_count": null,
   "source": [
    "\r\n",
    "mat_contents = loadmat('N=2_4_6_8_10_M=15')\r\n",
    "mat_contents.keys()\r\n"
   ],
   "outputs": [],
   "metadata": {}
  },
  {
   "cell_type": "code",
   "execution_count": null,
   "source": [
    "mat_exchanges = mat_contents['exchange']\r\n",
    "mat_dot_seps = np.linspace(7.5,15,100) * 2\r\n",
    "mat_exchanges.T[:,:10]\r\n"
   ],
   "outputs": [],
   "metadata": {}
  },
  {
   "cell_type": "markdown",
   "source": [
    "Adding the exchange values from Python code\r\n"
   ],
   "metadata": {}
  },
  {
   "cell_type": "code",
   "execution_count": null,
   "source": [
    "exchange_values = np.array([5.729665778336784e-21, 4.959013855226583e-21,   4.476435249829594e-21, 2.2186468216525865e-19 ])\r\n",
    "\r\n",
    "interpolated_exchanges = interp1d(mat_dot_seps/2, mat_exchanges[:,4])\r\n",
    "\r\n",
    "interpolated_exchanges(np.linspace(7.5,15,10)[:4]) / exchange_values\r\n"
   ],
   "outputs": [],
   "metadata": {}
  },
  {
   "cell_type": "code",
   "execution_count": null,
   "source": [
    "\r\n",
    "%matplotlib widget\r\n",
    "legends = ('N=2','N=4','N=6','N=8','N=10', 'N=8 data')\r\n",
    "\r\n",
    "plt.figure(figsize=(6,5))\r\n",
    "for ex in mat_exchanges.T:\r\n",
    "    plt.plot(mat_dot_seps, ex * 42.7E3)\r\n",
    "#plt.legend(plot, legends)\r\n",
    "\r\n",
    "plt.plot(np.linspace(15,30,10)[:4], exchange_values*1.6e25, 'r.' )\r\n",
    "plt.xscale('linear')\r\n",
    "plt.yscale('log')\r\n",
    "plt.legend(legends, loc='best', fancybox=True, ncol=2)\r\n",
    "plt.xlim((15,30))\r\n",
    "\r\n",
    "plt.show()\r\n"
   ],
   "outputs": [],
   "metadata": {}
  }
 ],
 "metadata": {
  "orig_nbformat": 4,
  "language_info": {
   "name": "python",
   "version": "3.9.1",
   "mimetype": "text/x-python",
   "codemirror_mode": {
    "name": "ipython",
    "version": 3
   },
   "pygments_lexer": "ipython3",
   "nbconvert_exporter": "python",
   "file_extension": ".py"
  },
  "kernelspec": {
   "name": "python3",
   "display_name": "Python 3.9.1 64-bit"
  },
  "interpreter": {
   "hash": "4561266fcd5554651ed354eb547b3e53d4d7488cd5bd537e2ac772f2874ea058"
  }
 },
 "nbformat": 4,
 "nbformat_minor": 2
}