{
 "cells": [
  {
   "cell_type": "markdown",
   "source": [
    "# **Exchange in 2 dots**\r\n",
    "\r\n",
    "The goal here is to reproduce the results from Matlab code.\r\n",
    "\r\n",
    "# Loading modules and defining main variables"
   ],
   "metadata": {}
  },
  {
   "cell_type": "code",
   "execution_count": null,
   "source": [
    "import os, sys\r\n",
    "sys.path.append(os.path.dirname(os.getcwd()))\r\n",
    "\r\n",
    "import qudipy as qd\r\n",
    "import qudipy.potential as pot\r\n",
    "import qudipy.exchange as exch\r\n",
    "\r\n",
    "import numpy as np\r\n",
    "import matplotlib.pyplot as plt\r\n",
    "import copy\r\n",
    "from scipy.io import loadmat    # for loading Matlab files\r\n",
    "from scipy.interpolate import interp1d\r\n",
    "\r\n",
    "from tqdm import tqdm\r\n",
    "import time\r\n",
    "import math\r\n",
    "\r\n",
    "\r\n",
    "import gc   # for memory cleanup"
   ],
   "outputs": [],
   "metadata": {}
  },
  {
   "cell_type": "markdown",
   "source": [
    "Specifying the dot parameters"
   ],
   "metadata": {}
  },
  {
   "cell_type": "code",
   "execution_count": null,
   "source": [
    "csts = qd.Constants('Si/SiO2')\r\n",
    "\r\n",
    "nItinOrbs = [2] #[2, 4, 6, 8] #[10,12,2,4,]\r\n",
    "n_dot_seps = 10\r\n",
    "\r\n",
    "dot_seps = np.linspace(7.5,15, n_dot_seps) * 1E-9;\r\n",
    "a = 6.0E-9;     # dot_width\r\n",
    "dx_dy = 0.5;\r\n",
    "\r\n",
    "omega = csts.hbar / (csts.me * a ** 2 )\r\n",
    "print('omega = {:e} Hz'.format(omega))"
   ],
   "outputs": [],
   "metadata": {}
  },
  {
   "cell_type": "markdown",
   "source": [
    "Creating an array of grid parameters objects (for future simulations)"
   ],
   "metadata": {}
  },
  {
   "cell_type": "code",
   "execution_count": null,
   "source": [
    "ngridx = 200\r\n",
    "ngridy = 200\r\n",
    "\r\n",
    "xgrids = np.linspace( - dot_seps - 5 * a, dot_seps + 5 * a, ngridx).T\r\n",
    "ygrids = np.tile(np.linspace( - 5 * a, 5 * a, ngridy), (n_dot_seps, 1))\r\n",
    "\r\n",
    "all_gparams = (pot.GridParameters(xgrids[ idx], ygrids[ idx])\r\n",
    "                    for idx in range(n_dot_seps))\r\n",
    "\r\n",
    "# numbers of harmonic orbitals\r\n",
    "n_xy_ho = (12,12)\r\n",
    "xgrids.shape"
   ],
   "outputs": [],
   "metadata": {}
  },
  {
   "cell_type": "markdown",
   "source": [
    "Defining a function that creates a quartic potential"
   ],
   "metadata": {}
  },
  {
   "cell_type": "code",
   "execution_count": null,
   "source": [
    "def create_quartic(gparams, d):\r\n",
    "    return 1 / 2 * csts.me * omega ** 2 * (\r\n",
    "                    1 / ( 4 * d **2) * (gparams.x_mesh ** 2 - d ** 2) ** 2\r\n",
    "                        + gparams.y_mesh ** 2\r\n",
    "    )"
   ],
   "outputs": [],
   "metadata": {}
  },
  {
   "cell_type": "markdown",
   "source": [
    "Iterate over dot separations and numbers of single-electron orbitals to calculate the exchange values"
   ],
   "metadata": {}
  },
  {
   "cell_type": "code",
   "execution_count": null,
   "source": [
    "#%%script false\r\n",
    "\r\n",
    "exchanges = []\r\n",
    "\r\n",
    "omega_guess = 0.025 * csts.hbar / (csts.me * csts.a_B**2)\r\n",
    "\r\n",
    "for n_se_orbs in nItinOrbs:\r\n",
    "    gparams = next(all_gparams)\r\n",
    "    exs = np.zeros((n_dot_seps,))\r\n",
    "    \r\n",
    "    for idx in tqdm(range(n_dot_seps)):\r\n",
    "        gparams.update_potential(create_quartic(gparams, dot_seps[idx]))\r\n",
    "        ens, __ = qd.qutils.solvers.solve_many_elec_SE(gparams, n_elec=2, \r\n",
    "                      n_xy_ho=n_xy_ho, \r\n",
    "                      n_se=n_se_orbs, \r\n",
    "                      n_sols=4,\r\n",
    "                      consts=csts,\r\n",
    "                      optimize_omega=False,\r\n",
    "                      omega=omega_guess,\r\n",
    "                      cme_dir='..\\\\tutorials\\\\QuDiPy tutorial data\\\\CMEs',\r\n",
    "                      spin_subspace=[0]);\r\n",
    "        exs[idx] = ens[1] - ens[0]\r\n",
    "        print('exchange value is: ', exs[idx] ,\r\n",
    "        '\\nenergies are: ', ens)\r\n",
    "\r\n",
    "        # updating omega guess\r\n",
    "        omega_guess, __ = exch.optimize_HO_omega(gparams, \r\n",
    "                                             nx=n_xy_ho[0], ny=n_xy_ho[1],\r\n",
    "                                             omega_guess=omega_guess,\r\n",
    "                                             n_se_orbs=n_se_orbs, \r\n",
    "                                             opt_tol = 1e-4,\r\n",
    "                                             consts=csts)\r\n",
    "    exchanges.append(exs)\r\n"
   ],
   "outputs": [],
   "metadata": {}
  },
  {
   "cell_type": "markdown",
   "source": [
    "# Loading and plotting the exchange data from Matlab\r\n"
   ],
   "metadata": {}
  },
  {
   "cell_type": "code",
   "execution_count": null,
   "source": [
    "\r\n",
    "mat_contents = loadmat('N=2_4_6_8_10_M=15')\r\n",
    "mat_contents.keys()\r\n"
   ],
   "outputs": [],
   "metadata": {}
  },
  {
   "cell_type": "code",
   "execution_count": null,
   "source": [
    "mat_exchanges = mat_contents['exchange']\r\n",
    "mat_dot_seps = np.linspace(7.5,15,100) * 2\r\n",
    "mat_exchanges.T[:,:10]\r\n"
   ],
   "outputs": [],
   "metadata": {}
  },
  {
   "cell_type": "markdown",
   "source": [
    "Adding the exchange values from Python code\r\n"
   ],
   "metadata": {}
  },
  {
   "cell_type": "code",
   "execution_count": null,
   "source": [
    "\r\n",
    "%matplotlib widget\r\n",
    "legends = ('N=2','N=4','N=6','N=8','N=10', 'N=12', 'N=2 data','N=4 data','N=6 data', 'N=8 data', )\r\n",
    "\r\n",
    "plt.figure(figsize=(6,5))\r\n",
    "for ex in mat_exchanges.T:\r\n",
    "    plt.plot(mat_dot_seps, ex * 42.7E3)\r\n",
    "#plt.legend(plot, legends)\r\n",
    "\r\n",
    "# plotting Python results\r\n",
    "for ex_python in exchanges:\r\n",
    "    plt.plot(np.linspace(15,30, n_dot_seps), ex_python*1.6e25, 'o' )\r\n",
    "plt.xscale('linear')\r\n",
    "plt.yscale('log')\r\n",
    "plt.legend(legends, loc='best', fancybox=True, ncol=2)\r\n",
    "plt.xlim((15,30))\r\n",
    "\r\n",
    "plt.show()\r\n"
   ],
   "outputs": [],
   "metadata": {}
  }
 ],
 "metadata": {
  "orig_nbformat": 4,
  "language_info": {
   "name": "python",
   "version": "3.9.5",
   "mimetype": "text/x-python",
   "codemirror_mode": {
    "name": "ipython",
    "version": 3
   },
   "pygments_lexer": "ipython3",
   "nbconvert_exporter": "python",
   "file_extension": ".py"
  },
  "kernelspec": {
   "name": "python3",
   "display_name": "Python 3.9.5 64-bit"
  },
  "interpreter": {
   "hash": "d6ea40376d640da94cd09c8bbbac16c25fb8a764ffc812fd54865219ebd752a0"
  }
 },
 "nbformat": 4,
 "nbformat_minor": 2
}