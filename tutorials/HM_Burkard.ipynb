{
 "cells": [
  {
   "cell_type": "markdown",
   "metadata": {},
   "source": [
    "# Testing the exchange formulas from Burkard et al. (1999) paper"
   ]
  },
  {
   "cell_type": "markdown",
   "metadata": {},
   "source": [
    "## 0. Importing modules"
   ]
  },
  {
   "cell_type": "code",
   "execution_count": null,
   "metadata": {},
   "outputs": [],
   "source": [
    "import math\n",
    "import numpy as np\n",
    "import sympy as sp\n",
    "from scipy import special\n",
    "\n",
    "import matplotlib.pyplot as plt\n"
   ]
  },
  {
   "cell_type": "markdown",
   "metadata": {},
   "source": [
    "## 1. Defining the system parameters\n",
    "\n",
    "All units are SI.\n",
    "\n"
   ]
  },
  {
   "cell_type": "code",
   "execution_count": null,
   "metadata": {},
   "outputs": [],
   "source": [
    "####### Constant parameters ########\n",
    "\n",
    "hbar = 1.0546e-34\n",
    "\n",
    "# for Si\n",
    "#kappa = (11.7 + 3.7)/2\n",
    "#m = 0.191 * 9.1e-31\n",
    "\n",
    "# for GaAs\n",
    "kappa = 13.1\n",
    "m = 0.067 * 9.1e-31\n",
    "\n",
    "e = 1.60217662e-19\n",
    "epsilon_0 = 8.854e-12\n",
    "\n",
    "###### Variable parameters as lambdas for convenient plotting\n",
    "\n",
    "omega_0_ = lambda a_B: hbar / (m * a_B**2)\n",
    "omega_L_ = lambda B: e * B / (2 * m)\n",
    "c_ = lambda a_B: (math.sqrt(math.pi / 2) * e**2 / \n",
    "                  (4 * math.pi * epsilon_0 * kappa * a_B) / (hbar * omega_0_(a_B)))\n",
    "b_ = lambda omega_0, B: math.sqrt(1 + omega_L_(B)**2 / omega_0_(a_B)**2)\n",
    "d_ = lambda a, a_B: a / a_B\n",
    "S_ = lambda d, b: math.exp( d**2 * (1 / b - 2 * b))\n",
    "\n",
    "g_ = lambda d, b: (1 - math.sqrt(1 - S_(d, b)**2)) / S_(d, b)\n",
    "N_ = lambda d, b: 1 / math.sqrt(1 - 2 * S_(d, b) * g_(d, b) + g_(d, b)**2)"
   ]
  },
  {
   "cell_type": "markdown",
   "metadata": {},
   "source": [
    "## 2. Defining the Hund-Mulliken parameters"
   ]
  },
  {
   "cell_type": "code",
   "execution_count": null,
   "metadata": {},
   "outputs": [],
   "source": [
    "epsilon_ = lambda d, b, S: (3 / (32 * b**2 * d**2) + \n",
    "                            3 / 8 * S**2 / (1 - S**2) * (1 / b + d**2) + b)\n",
    "t_ = lambda d, b, S: 3 / 8 * S / (1 - S**2) * (1 / b + d**2)\n",
    "\n",
    "F_1_ = lambda c, b: c * math.sqrt(b)\n",
    "F_2_ = lambda c, d, b: c * math.sqrt(b) * math.exp(- b * d**2) * special.iv(0, b * d**2)\n",
    "F_3_ = lambda c, d, b: c * math.sqrt(b) * math.exp(d**2 * (b - 1 / b)) * special.iv(0, d**2 * (b - 1 / b))\n",
    "F_4_ = lambda c, d, b: (c * math.sqrt(b) * math.exp(- d**2 / (4 * b)) *\n",
    "                           sum([ (-1)**k * special.iv(2 * k, (d**2 * ( 2 * b - 1 / b) / 4)) * \n",
    "                                special.iv(2*k, 1j * d**2 / 2 * math.sqrt(b**2 - 1))\n",
    "                                for k in (-1,0,1)]))\n",
    "\n",
    "def CMEs(c, d, b):\n",
    "    # returns the tuple of Coulomb matrix elements\n",
    "    S, g, N, F_1, F_2, F_3, F_4 = (S_(d, b), g_(d, b), N_(d, b), \n",
    "                                  F_1_(c, b), F_2_(c, d, b), F_3_(c, d, b), F_4_(c, d, b))\n",
    "    \n",
    "    V_plus = N**4 * (4 * g**2 * (1 + S**2) * F_1 + (1 + g**2) **2 * F_2 \n",
    "                     + 4 * g**2 * F_3 - 16 * g**2 * F_4)\n",
    "    \n",
    "    V_minus = N**4 * (1 - g**2)**2 * (F_2 - S**2 * F_3)\n",
    "    \n",
    "    U = N**4 * ((1 + g**4 + 2 * g**2 * S**2) * F_1 + 2 * g**2 * F_2 + \n",
    "                2 * g**2 * S**2 * F_3 - 8 * g **2 * F_4)\n",
    "    \n",
    "    X = N**4 * (((1 + g**4) * S**2+ 2 * g**2 ) * F_1 + 2 * g**2 * F_2 + \n",
    "                2 * g**2 * S**2 * F_3 - 8 * g **2 * F_4)\n",
    "     \n",
    "    w = N**4 * (-g * (1 + g**2) *(1 + S**2) * F_1 - g * (1 + g**2) * F_2 \n",
    "               -g * (1 + g**2) * S**2 * F_3 + (1 + 6 * g**2 + g**4) * S * F_4)\n",
    "\n",
    "    return (V_plus, V_minus, U, X, w)\n",
    " "
   ]
  },
  {
   "cell_type": "markdown",
   "metadata": {},
   "source": [
    "## 3. Finding the HM eigenvalues"
   ]
  },
  {
   "cell_type": "code",
   "execution_count": null,
   "metadata": {},
   "outputs": [],
   "source": [
    "# one of the parameters is a functor\n",
    "# (for the convenient choice of biquadratic or quartic potential)\n",
    "\n",
    "def J_HM(a_B, a, B):\n",
    "    omega_0, omega_L, c = omega_0_(a_B), omega_L_(B), c_(a_B)\n",
    "    b, d = b_(omega_0, B), d_(a, a_B)\n",
    "    epsilon, t = epsilon_(d, b, S_(d, b)), t_(d, b, S_(d, b))\n",
    "    V_plus, V_minus, U, X, w = CMEs(c, d, b)\n",
    "    \n",
    "    t_H = t - w\n",
    "    V = V_minus - V_plus\n",
    "    U_H = U - V_plus + X\n",
    "    \n",
    "    J = V - U_H / 2 + 1 / 2 * (U_H**2 + 16 * t_H**2)**0.5    \n",
    "    return J\n",
    "\n",
    "def J_HL(a_B, a, B):\n",
    "    omega_0, omega_L, c = omega_0_(a_B), omega_L_(B), c_(a_B)\n",
    "    b, d = b_(omega_0, B), d_(a, a_B)\n",
    "    Jhl = (hbar * omega_0 / math.sinh(2 * d**2 *(2 * b - 1 / b))) * (c * math.sqrt(b) * \n",
    "            (math.exp(-b * d**2) * special.iv(0, (b * d**2)) \n",
    "                     - math.exp(d**2 * (b - 1 / b))* special.iv(0, (d**2 * (b - 1 / b))))\n",
    "                                                    + 3 / (4 * b) * (1 + b * d**2))\n",
    "    return Jhl"
   ]
  },
  {
   "cell_type": "markdown",
   "metadata": {},
   "source": [
    "## 4. Testing\n",
    "\n",
    "### (a) Dependency on interdot distance"
   ]
  },
  {
   "cell_type": "code",
   "execution_count": null,
   "metadata": {},
   "outputs": [],
   "source": [
    "c = 2.4\n",
    "\n",
    "#I know, it would be more logical to make \n",
    "a_B = c / (math.sqrt( math.pi /2 ) * e**2 *m / (4 *math.pi * epsilon_0 * kappa * hbar**2))\n",
    "\n",
    "d_s = np.linspace(0.45,0.85,20)\n",
    "a_s = d_s * a_B\n",
    "B = 0\n",
    "\n",
    "#print(*[CMEs(c, d, 1) for d  in d_s])\n",
    "#print(a_)\n",
    "\n",
    "J_HM_arr = np.real(np.array([J_HM(a_B, a, B) * hbar * omega_0_(a_B)/1.6e-22 for a in a_s]))\n",
    "J_HL_arr = np.real(np.array([J_HL(a_B, a, B) / 1.6e-22 for a in a_s]))\n",
    "plt.plot(d_s, J_HM_arr, label=\"HM\")\n",
    "plt.plot(d_s,J_HL_arr, label=\"HL\")\n",
    "\n",
    "#plt.yscale(\"log\")\n",
    "plt.legend(loc='upper right')\n",
    "\n",
    "plt.show()\n"
   ]
  },
  {
   "cell_type": "markdown",
   "metadata": {},
   "source": [
    "### (b) Dependence on magnetic field "
   ]
  },
  {
   "cell_type": "code",
   "execution_count": null,
   "metadata": {},
   "outputs": [],
   "source": [
    "B_s = np.linspace(0,10,20)\n",
    "\n",
    "J_HM_arr = np.real(np.array([J_HM(a_B, 0.7 *a_B, b) * hbar * omega_0_(a_B)/1.6e-22 for b in B_s]))\n",
    "J_HL_arr = np.real(np.array([J_HL(a_B, 0.7 *a_B, b) / 1.6e-22 for b in B_s]))\n",
    "\n",
    "plt.plot(B_s, J_HM_arr, label=\"HM\")\n",
    "plt.plot(B_s,J_HL_arr, label=\"HL\")\n",
    "plt.grid( True)\n",
    "plt.rc('grid', linestyle=\"--\", color='grey')\n",
    "plt.show()"
   ]
  }
 ],
 "metadata": {
  "kernelspec": {
   "display_name": "Python 3",
   "language": "python",
   "name": "python3"
  },
  "language_info": {
   "codemirror_mode": {
    "name": "ipython",
    "version": 3
   },
   "file_extension": ".py",
   "mimetype": "text/x-python",
   "name": "python",
   "nbconvert_exporter": "python",
   "pygments_lexer": "ipython3",
   "version": "3.9.7"
  }
 },
 "nbformat": 4,
 "nbformat_minor": 4
}
