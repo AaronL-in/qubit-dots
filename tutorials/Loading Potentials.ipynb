{
 "cells": [
  {
   "cell_type": "markdown",
   "metadata": {},
   "source": [
    "# Loading potentials tutorial\n",
    "\n",
    "This tutorial will show you how to use the potential module to load pre-processed potential files. It creates a PotentialInterpolator object which allows us to find the potential landscape at arbitrary control voltage values."
   ]
  },
  {
   "cell_type": "markdown",
   "metadata": {},
   "source": [
    "## 1. Load the relevant modules\n",
    "\n",
    "The file nextnano_3D takes in a folder of pre-processed potential files. These files have to follow the naming convention 'TYPE_C1NAME_C1VAL_C2NAME_C2VAL_..._CNNAME_CNVAL.txt' where TYPE = 'Uxy' or 'Ez'.  The C#NAME indicates the name for the control voltages and C#VAL indicates the corresponding control voltage value. The TYPE flag indicates whether you are loading potentials or electric field files."
   ]
  },
  {
   "cell_type": "code",
   "execution_count": null,
   "metadata": {
    "tags": []
   },
   "outputs": [],
   "source": [
    "import os, sys\n",
    "sys.path.append(os.path.dirname(os.getcwd()))\n",
    "\n",
    "import qudipy.potential as pot\n",
    "\n",
    "import numpy as np\n",
    "import matplotlib.pyplot as plt"
   ]
  },
  {
   "cell_type": "markdown",
   "metadata": {},
   "source": [
    "## 2. Define which files to load and load them\n",
    "\n",
    "We need to specify the name of the folder that contains the potential files as well as the names for each potential file."
   ]
  },
  {
   "cell_type": "code",
   "execution_count": null,
   "metadata": {},
   "outputs": [],
   "source": [
    "# Enter the name of the folder where the potential files are located. \n",
    "# If this argument is not supplied it will assume the current working directory.\n",
    "pot_dir = os.path.dirname(os.getcwd()) + '/tutorials/QuDiPy tutorial data/Pre-processed potentials/'\n",
    "\n",
    "# Specify the control voltage names (C#NAME as mentioned above)\n",
    "ctrl_names = ['V1','V2','V3','V4','V5']\n",
    "\n",
    "# Specify the control voltage values you wish to load.\n",
    "# The cartesian product of all these supplied voltages will be loaded and MUST exist in the directory.\n",
    "V1 = [0.1]\n",
    "V2 = [0.2, 0.22, 0.24, 0.26]\n",
    "V3 = [0.2, 0.22, 0.24, 0.26, 0.28]\n",
    "V4 = [0.2, 0.22, 0.24, 0.26, 0.28, 0.30]\n",
    "V5 = [0.1]\n",
    "# Add all voltage values to a list\n",
    "ctrl_vals = [V1, V2, V3, V4, V5]    \n",
    "\n",
    "# Now load the potentials.  \n",
    "# load_files returns a dictionary of all the information loaded\n",
    "# f_type says we are loading potential files (other option is to load electric field files)\n",
    "# f_dir specifies where the files are located\n",
    "# f_dis_units specifies the distance units the files are in. The function will convert the units to [m].\n",
    "# f_pot_units specifies the potential units the files are in. The function will convert the units to [J].\n",
    "loaded_data = pot.load_potentials(ctrl_vals, ctrl_names,\n",
    "                                  f_type='pot', f_dir=pot_dir,\n",
    "                                  f_dis_units='nm', f_pot_units='eV')\n",
    "\n",
    "# We can check the fields of the dictionary returned to see what is stored.\n",
    "loaded_data.keys()"
   ]
  },
  {
   "cell_type": "markdown",
   "metadata": {},
   "source": [
    "## 3. Store x and y coordinates in a GridParameters object"
   ]
  },
  {
   "cell_type": "code",
   "execution_count": null,
   "metadata": {},
   "outputs": [],
   "source": [
    "# It's a bit convoluted, but the x and y coordinates are\n",
    "# stored as a named tuple in the dictionary returned from load_files.\n",
    "# With those values, we will build a GridParameters object.\n",
    "coord = loaded_data['coords']\n",
    "x = coord.x\n",
    "y = coord.y\n",
    "\n",
    "# Construct a GridParameters object\n",
    "gparams = pot.GridParameters(x,y)\n",
    "coord.x"
   ]
  },
  {
   "cell_type": "markdown",
   "metadata": {},
   "source": [
    "## 4. Build the PotentialInterpolator object"
   ]
  },
  {
   "cell_type": "code",
   "execution_count": null,
   "metadata": {},
   "outputs": [],
   "source": [
    "# Now building the interpolation object is trivial.\n",
    "pot_interp = pot.build_interpolator(loaded_data)\n",
    "#\n",
    "pot_interp"
   ]
  },
  {
   "cell_type": "markdown",
   "metadata": {},
   "source": [
    "## 5. Do some potential interpolation\n",
    "Now let's show how we can actually use this object to do interpolation."
   ]
  },
  {
   "cell_type": "code",
   "execution_count": null,
   "metadata": {},
   "outputs": [],
   "source": [
    "# Define a voltage vector you wish to interpolate the potential at\n",
    "v_vec = [0.1, 0.2, 0.23, 0.2, 0.1]\n",
    "# As a note.. You can also ignore the singleton dimensions we defining the voltage vector\n",
    "# i.e. v_vec = [0.2, 0.23, 0.2]\n",
    "pot_interp(v_vec)"
   ]
  },
  {
   "cell_type": "markdown",
   "metadata": {},
   "source": [
    "You can see what is returned is the 2D potential landscape of the device in meshgrid format (y,x). The PotentialInterpolator object has a nice plot method we can use to see how the interpolated potentials look and that everything makes sense."
   ]
  },
  {
   "cell_type": "code",
   "execution_count": null,
   "metadata": {},
   "outputs": [],
   "source": [
    "# First we will do an interpolation and look at the 2D potential\n",
    "# Notice how I am only using 3 voltage values now when I interpolate\n",
    "# instead of 5 as I was earlier.\n",
    "v_vec = [0.25, 0.25, 0.25]\n",
    "pot_interp.plot(v_vec)\n",
    "# Now I will show you how you can view just 1D slices of the potential.\n",
    "# Get a 1D slice of the potential along y=0 axis.\n",
    "pot_interp.plot(v_vec,plot_type='1D')\n",
    "# Get a 1D slice of the potential along y=10 nm axis\n",
    "pot_interp.plot(v_vec, plot_type='1D',y_slice=10E-9)\n",
    "# Get a 1D slice of the potential along y=65 nm axis and a 1D slice along x=0 nm axis\n",
    "pot_interp.plot(v_vec, plot_type='1D',y_slice=65E-9,x_slice=0)\n",
    "# Get a 1D slice of the potential along y=0 nm axis and a 1D slice along x=60 nm axis.\n",
    "pot_interp.plot(v_vec, plot_type='1D',x_slice=60E-9)"
   ]
  },
  {
   "cell_type": "markdown",
   "metadata": {},
   "source": [
    "These potentials look like what we expect from the nextnano simulations.  Let's do a few more plots though of the potential at different gate voltages to check that the interpolator actually varies the potential correctly."
   ]
  },
  {
   "cell_type": "code",
   "execution_count": null,
   "metadata": {},
   "outputs": [],
   "source": [
    "# Let's do 4 different interpolations\n",
    "v_vec1 = [0.25, 0.25, 0.25]\n",
    "v_vec2 = [0.257, 0.25, 0.25]\n",
    "v_vec3 = [0.25, 0.257, 0.25]\n",
    "v_vec4 = [0.25, 0.25, 0.257]\n",
    "\n",
    "pot_interp.plot(v_vec1,plot_type='1D')\n",
    "pot_interp.plot(v_vec2,plot_type='1D')\n",
    "pot_interp.plot(v_vec3,plot_type='1D')\n",
    "pot_interp.plot(v_vec4,plot_type='1D')"
   ]
  },
  {
   "cell_type": "markdown",
   "metadata": {},
   "source": [
    "The potentials are changing exactly as we would expect. Great!\n",
    "\n",
    "As a last note before concluding the tutorial, notice that if we call voltage values outside of the range of values we loaded, the interpolator object will throw an error."
   ]
  },
  {
   "cell_type": "code",
   "execution_count": null,
   "metadata": {},
   "outputs": [],
   "source": [
    "v_vec = [0.1, 0.26, 0.29, 0.3, 0.1] # .29 is out range\n",
    "pot_interp(v_vec)"
   ]
  },
  {
   "cell_type": "code",
   "execution_count": null,
   "metadata": {},
   "outputs": [],
   "source": []
  }
 ],
 "metadata": {
  "kernelspec": {
   "display_name": "Python 3",
   "language": "python",
   "name": "python3"
  },
  "language_info": {
   "codemirror_mode": {
    "name": "ipython",
    "version": 3
   },
   "file_extension": ".py",
   "mimetype": "text/x-python",
   "name": "python",
   "nbconvert_exporter": "python",
   "pygments_lexer": "ipython3",
   "version": "3.7.7"
  }
 },
 "nbformat": 4,
 "nbformat_minor": 2
}
