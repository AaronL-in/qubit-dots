{
 "cells": [
  {
   "cell_type": "markdown",
   "source": [
    "# Loading potentials tutorial\r\n",
    "\r\n",
    "This tutorial will show you how to use the potential module to load pre-processed potential files. It creates a PotentialInterpolator object which allows us to find the potential landscape at arbitrary control voltage values."
   ],
   "metadata": {}
  },
  {
   "cell_type": "markdown",
   "source": [
    "## 1. Load the relevant modules\r\n",
    "\r\n",
    "The file nextnano_3D takes in a folder of pre-processed potential files. These files have to follow the naming convention 'TYPE_C1NAME_C1VAL_C2NAME_C2VAL_..._CNNAME_CNVAL.txt' where TYPE = 'Uxy' or 'Ez'.  The C#NAME indicates the name for the control voltages and C#VAL indicates the corresponding control voltage value. The TYPE flag indicates whether you are loading potentials or electric field files."
   ],
   "metadata": {}
  },
  {
   "cell_type": "code",
   "execution_count": null,
   "source": [
    "import os, sys\r\n",
    "sys.path.append(os.path.dirname(os.getcwd()))\r\n",
    "\r\n",
    "import qudipy as qd\r\n",
    "import qudipy.potential as pot\r\n",
    "\r\n",
    "import numpy as np\r\n",
    "import matplotlib.pyplot as plt"
   ],
   "outputs": [],
   "metadata": {
    "tags": []
   }
  },
  {
   "cell_type": "markdown",
   "source": [
    "## 2. Define which files to load and load them\r\n",
    "\r\n",
    "We need to specify the name of the folder that contains the potential files as well as the names for each potential file."
   ],
   "metadata": {}
  },
  {
   "cell_type": "code",
   "execution_count": null,
   "source": [
    "# Enter the name of the folder where the potential files are located. \r\n",
    "# If this argument is not supplied it will assume the current working directory.\r\n",
    "# pot_dir = os.path.dirname(os.getcwd()) + '/tutorials/QuDiPy tutorial data/Pre-processed potentials/Unkown_slice/'\r\n",
    "pot_dir = os.path.dirname(os.getcwd()) + '/tutorials/QuDiPy tutorial data/Pre-processed potentials/Unkown_slice/'\r\n",
    "\r\n",
    "# Specify the control voltage names (C#NAME as mentioned above)\r\n",
    "ctrl_names = ['V1','V2','V3','V4','V5']\r\n",
    "\r\n",
    "# Specify the control voltage values you wish to load.\r\n",
    "# The cartesian product of all these supplied voltages will be loaded and MUST exist in the directory.\r\n",
    "\r\n",
    "# General gate voltage definition to be used for potential files in Uknown_slice directory\r\n",
    "V1 = [0.1]\r\n",
    "V2 = [0.2, 0.22, 0.24, 0.26]\r\n",
    "V3 = [0.2, 0.22, 0.24, 0.26, 0.28]\r\n",
    "V4 = [0.2, 0.22, 0.24, 0.26, 0.28, 0.30]\r\n",
    "V5 = [0.1]\r\n",
    "\r\n",
    "# Add all voltage values to a list\r\n",
    "ctrl_vals = [V1, V2, V3, V4, V5]    \r\n",
    "# Now load the potentials.  \r\n",
    "# load_files returns a dictionary of all the information loaded\r\n",
    "# f_type says we are loading potential files (other option is to load electric field files)\r\n",
    "# f_dir specifies where the files are located\r\n",
    "# f_dis_units specifies the distance units the files are in. The function will convert the units to [m].\r\n",
    "# f_pot_units specifies the potential units the files are in. The function will convert the units to [J].\r\n",
    "loaded_data = pot.load_potentials(ctrl_vals, ctrl_names,\r\n",
    "                                  f_type='pot', f_dir=pot_dir,\r\n",
    "                                  f_dis_units='nm', f_pot_units='eV')\r\n",
    "# Additional keyword arguments are trim_x and trim_y which will trim the loaded potentials \r\n",
    "# to be only within the bounds specified by trim_x and trim_y\r\n",
    "\r\n",
    "# We can check the fields of the dictionary returned to see what is stored.\r\n",
    "loaded_data.keys()\r\n",
    "\r\n",
    "# We can also go on to plot all of potential crossections along the x/y-planes for the choosen slice.\r\n",
    "fig = plt.figure(figsize=(12,8))\r\n",
    "ax1 = fig.add_subplot(121)\r\n",
    "ax2 = fig.add_subplot(122)\r\n",
    "\r\n",
    "# potential along x-axis at y-axis slice\r\n",
    "for i in range(np.shape(loaded_data['coords'][1])[0]):\r\n",
    "    ax1.plot(loaded_data['coords'][0].T/1E-9,loaded_data['potentials'][0][i,:].T)\r\n",
    "ax1.set(xlabel='x-coords [nm]', ylabel='1D potential [J]',\r\n",
    "title=f'Potentials along x-axis')  \r\n",
    "ax1.grid()  \r\n",
    "\r\n",
    "# potential along y-axis at x-axis slice\r\n",
    "test = loaded_data['potentials'][0][:].T\r\n",
    "for i in range(np.shape(loaded_data['coords'][0])[0]):\r\n",
    "    ax2.plot(loaded_data['coords'][1]/1E-9,loaded_data['potentials'][0][:,i])\r\n",
    "ax2.set(xlabel='y-coords [nm]', ylabel='1D potential [J]',\r\n",
    "title=f'Potentials along y-axis')\r\n",
    "ax2.grid()\r\n",
    "\r\n",
    "fig.tight_layout()       \r\n",
    "plt.show()"
   ],
   "outputs": [],
   "metadata": {}
  },
  {
   "cell_type": "markdown",
   "source": [
    "## 3. Store x and y coordinates in a GridParameters object"
   ],
   "metadata": {}
  },
  {
   "cell_type": "code",
   "execution_count": null,
   "source": [
    "# It's a bit convoluted, but the x and y coordinates are\r\n",
    "# stored as a named tuple in the dictionary returned from load_files.\r\n",
    "# With those values, we will build a GridParameters object.\r\n",
    "coord = loaded_data['coords']\r\n",
    "x = coord.x\r\n",
    "y = coord.y\r\n",
    "\r\n",
    "# Construct a GridParameters object\r\n",
    "gparams = pot.GridParameters(x,y)\r\n",
    "coord.x"
   ],
   "outputs": [],
   "metadata": {
    "tags": []
   }
  },
  {
   "cell_type": "markdown",
   "source": [
    "## 4. Build the PotentialInterpolator object"
   ],
   "metadata": {}
  },
  {
   "cell_type": "code",
   "execution_count": null,
   "source": [
    "# Now building the interpolation object is trivial.\r\n",
    "# When building the interpolator, we should pass also a Constants object\r\n",
    "# which indicates the material system for the potentials.\r\n",
    "pot_interp = pot.build_interpolator(loaded_data, constants=qd.Constants(\"Si/SiO2\"))\r\n",
    "\r\n",
    "# Right now, the interpolator will interpolate 2D potentials. However, this may be \r\n",
    "# costly for things that do lots of interpolations but you are only interested in \r\n",
    "# 1D potentials. You can make a 1D interpolator object by specifying the y_slice \r\n",
    "# keyword argument.\r\n",
    "# pot_interp = pot.build_interpolator(loaded_data, constants=qd.Constants(\"Si/SiO2\"),\r\n",
    "#                                     y_slice=0)\r\n",
    "\r\n",
    "pot_interp"
   ],
   "outputs": [],
   "metadata": {}
  },
  {
   "cell_type": "markdown",
   "source": [
    "## 5. Do some potential interpolation (with lots of plotting examples)\r\n",
    "Now let's show how we can actually use this object to do interpolation."
   ],
   "metadata": {}
  },
  {
   "cell_type": "code",
   "execution_count": null,
   "source": [
    "# Define a voltage vector you wish to interpolate the potential at\r\n",
    "v_vec = [0.1, 0.2, 0.23, 0.2, 0.1]\r\n",
    "# As a note.. You can also ignore the singleton dimensions we defining the voltage vector\r\n",
    "# i.e. v_vec = [0.2, 0.23, 0.2]\r\n",
    "pot_interp(v_vec)"
   ],
   "outputs": [],
   "metadata": {}
  },
  {
   "cell_type": "markdown",
   "source": [
    "You can see what is returned is the 2D potential landscape of the device in meshgrid format (y,x). The PotentialInterpolator object has a nice plot method we can use to see how the interpolated potentials look and that everything makes sense."
   ],
   "metadata": {}
  },
  {
   "cell_type": "code",
   "execution_count": null,
   "source": [
    "# First we will do an interpolation and look at the 2D potential\r\n",
    "# Notice how I am only using 3 voltage values now when I interpolate\r\n",
    "# instead of 5 as I was earlier.\r\n",
    "# v_vec = [0.2]\r\n",
    "v_vec = [0.25, 0.2616, 0.27]\r\n",
    "\r\n",
    "# Plot the 2D potential\r\n",
    "pot_interp.plot(v_vec)\r\n",
    "# Now I will show you how you can view just 1D slices of the potential.\r\n",
    "# Get a 1D slice of the potential along y=0 axis.\r\n",
    "pot_interp.plot(v_vec,plot_type='1D')\r\n",
    "# Get a 1D slice of the potential along y=10 nm axis\r\n",
    "pot_interp.plot(v_vec, plot_type='1D',y_slice=10E-9)\r\n",
    "# Get a 1D slice of the potential along y=65 nm axis and a 1D slice along x=0 nm axis\r\n",
    "pot_interp.plot(v_vec, plot_type='1D',y_slice=65E-9,x_slice=0)\r\n",
    "# Get a 1D slice of the potential along y=0 nm axis and a 1D slice along x=60 nm axis.\r\n",
    "pot_interp.plot(v_vec, plot_type='1D',x_slice=60E-9)\r\n",
    "\r\n",
    "# .plot() also has show_wf and wf_n flags which will display the nth wavefunction with the potential\r\n",
    "# Plot the 2D potential and show the ground state wf\r\n",
    "pot_interp.plot(v_vec, show_wf=True) # pot_interp.plot(v_vec, show_wf=True, wf_n=0) would plot the same thing\r\n",
    "# Get a 1D slice of the potential along y=0 nm axis and a 1D slice along x=0 nm axis.\r\n",
    "# Overlay the 3rd excited wavefunction (4th lowest energy state)\r\n",
    "pot_interp.plot(v_vec, plot_type='1D',x_slice=0, show_wf=True, wf_n=0)\r\n",
    "pot_interp.plot(v_vec, plot_type='1D',x_slice=0, show_wf=True, wf_n=3)"
   ],
   "outputs": [],
   "metadata": {}
  },
  {
   "cell_type": "markdown",
   "source": [
    "These potentials look like what we expect from the nextnano simulations.  Let's do a few more plots though of the potential at different gate voltages to check that the interpolator actually varies the potential correctly."
   ],
   "metadata": {}
  },
  {
   "cell_type": "code",
   "execution_count": null,
   "source": [
    "# Let's do 4 different interpolations\r\n",
    "v_vec1 = [0.25, 0.25, 0.25]\r\n",
    "v_vec2 = [0.257, 0.25, 0.25]\r\n",
    "v_vec3 = [0.25, 0.257, 0.25]\r\n",
    "v_vec4 = [0.25, 0.25, 0.257]\r\n",
    "\r\n",
    "pot_interp.plot(v_vec1,plot_type='1D')\r\n",
    "pot_interp.plot(v_vec2,plot_type='1D')\r\n",
    "pot_interp.plot(v_vec3,plot_type='1D')\r\n",
    "pot_interp.plot(v_vec4,plot_type='1D')"
   ],
   "outputs": [],
   "metadata": {}
  },
  {
   "cell_type": "markdown",
   "source": [
    "The potentials are changing exactly as we would expect. Great!\r\n",
    "\r\n",
    "As a last note before concluding the tutorial, notice that if we call voltage values outside of the range of values we loaded, the interpolator object will throw an error."
   ],
   "metadata": {}
  },
  {
   "cell_type": "code",
   "execution_count": null,
   "source": [
    "#v_vec = [0.1, 0.26, 0.29, 0.3, 0.1] # .29 is out range\r\n",
    "#pot_interp(v_vec)"
   ],
   "outputs": [],
   "metadata": {}
  },
  {
   "cell_type": "markdown",
   "source": [
    "## 6. Creating Analytical potentials\n",
    "\n",
    "Sometimes we would like to create an analytical potential (e.g. for testing purposes). You can create this by using the `analytical_potential` function.  \n",
    "\n",
    "To create such a potential, perform the following steps:\n",
    "\n",
    "1. Create the control names and control values as we would for a potential generated by nextnano. \n",
    "2. Define a function that maps out the potential in space for given values of the control variables. The potential defining function must take exactly two variables: control variable values and a GridParameters object.\n",
    "3. Specify the `x` and `y` values that will create our grid points for the potential.\n",
    "4. Pass the control values, the control names, the potential defining fucntion and the x and y values to the `analytical_potential` function. This function will return an analytical potential that can be used an input for the `build_interpolator` function. \n",
    "5. Pass the output of the `analytical_potential` function to the `build_interpolator` function. This potential interpolator then behaves in the same way as described earlier in the tutorial.\n",
    "\n",
    "For an example of an analytical potential being generated and used, see below."
   ],
   "metadata": {}
  },
  {
   "cell_type": "code",
   "execution_count": null,
   "source": [
    "# 1. Create control voltage names and variables the same way you would normally do\r\n",
    "ctrl_names = ['V1','V2']\r\n",
    "\r\n",
    "V1 = [0.2, 0.22, 0.24, 0.26]\r\n",
    "V2 = [0.2, 0.22, 0.24, 0.26, 0.28]\r\n",
    "\r\n",
    "ctrl_vals = [V1, V2]\r\n",
    "\r\n",
    "# 2. Create the function which defines the potential, with the control variables as the \r\n",
    "# first argument and a GridParameters object as the second argument\r\n",
    "\r\n",
    "# Specify some constants for the potential\r\n",
    "dot_sep = 150e-9\r\n",
    "consts=qd.Constants(\"Si/SiO2\")\r\n",
    "def create_potentials(cvals, gparams):\r\n",
    "    # Get coordinates from mesh\r\n",
    "    x_pot = gparams.x_mesh\r\n",
    "    y_pot = gparams.y_mesh\r\n",
    "\r\n",
    "    # Get voltages out from the control valriables\r\n",
    "    v_1 = cvals[0]\r\n",
    "    v_2 = cvals[1]\r\n",
    "\r\n",
    "    # Convert (linear conversion) from voltages to chemical potentials\r\n",
    "    # This is just a linear relationship with a dummy lever arm\r\n",
    "    lever_arm_1 = 1\r\n",
    "    mu_1 = v_1 * lever_arm_1 * consts.e\r\n",
    "    lever_arm_2 = 1\r\n",
    "    mu_2 = v_2 * lever_arm_2 * consts.e\r\n",
    "\r\n",
    "    # Define frequency of harmonic oscillators\r\n",
    "    omega_1 = 5e12\r\n",
    "    omega_2 = 5e12\r\n",
    "\r\n",
    "    # Define the potential\r\n",
    "    well_1 = 1/2 * consts.me * omega_1**2 * (np.square(x_pot + dot_sep) + np.square(y_pot)) - mu_1\r\n",
    "    well_2 = 1/2 * consts.me * omega_2**2 * (np.square(x_pot - dot_sep) + np.square(y_pot)) - mu_2\r\n",
    "    potential = np.minimum(well_1, well_2)\r\n",
    "    return potential\r\n",
    "\r\n",
    "# 3. Specify the x and y points you would like to have in a grid\r\n",
    "x = np.arange(-2 * dot_sep, 2 * dot_sep, dot_sep/30)\r\n",
    "y = np.arange(-2 * dot_sep, 2 * dot_sep, dot_sep/30)\r\n",
    "\r\n",
    "# 4. Get the analytical potential using \r\n",
    "analytic_potential = pot.analytical_potential(ctrl_vals, ctrl_names, create_potentials, x, y)\r\n",
    "\r\n",
    "# 5. Pass analytical_potential to build_interpolator\r\n",
    "# This behaves exactly like any other potential interpolator\r\n",
    "an_pot_interp = pot.build_interpolator(analytic_potential, constants=qd.Constants(\"Si/SiO2\"))\r\n",
    "\r\n",
    "# Now specify the potentials to interpolate around\r\n",
    "v_vec = [0.23, 0.25]\r\n",
    "\r\n",
    "# Plot the 2D potential\r\n",
    "an_pot_interp.plot(v_vec)\r\n",
    "\r\n",
    "# Plot various 1D slices, one with a ground state wavefunction probability\r\n",
    "an_pot_interp.plot(v_vec, plot_type='1D', y_slice=0, show_wf=True)\r\n",
    "\r\n",
    "# When we swap the gate voltages and plot the wavefunction, we can see that it has the intended effect of \r\n",
    "# moving the location of the ground state of the electron wavefunction\r\n",
    "v_vec = [0.25, 0.23]\r\n",
    "an_pot_interp.plot(v_vec, plot_type='1D', y_slice=0, show_wf=True)\r\n"
   ],
   "outputs": [],
   "metadata": {}
  }
 ],
 "metadata": {
  "kernelspec": {
   "name": "python3",
   "display_name": "Python 3.8.3 64-bit ('QuDiPy': conda)"
  },
  "language_info": {
   "codemirror_mode": {
    "name": "ipython",
    "version": 3
   },
   "file_extension": ".py",
   "mimetype": "text/x-python",
   "name": "python",
   "nbconvert_exporter": "python",
   "pygments_lexer": "ipython3",
   "version": "3.8.3"
  },
  "interpreter": {
   "hash": "da6dda72914226e58fb144666c61ad59139f1f9928d1882fbc5ac49fe577ae39"
  }
 },
 "nbformat": 4,
 "nbformat_minor": 4
}