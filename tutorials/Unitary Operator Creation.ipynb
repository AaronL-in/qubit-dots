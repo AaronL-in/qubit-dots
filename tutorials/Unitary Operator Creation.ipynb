{
 "cells": [
  {
   "cell_type": "markdown",
   "metadata": {},
   "source": [
    "# Spin simulator tutorial"
   ]
  },
  {
   "cell_type": "raw",
   "metadata": {},
   "source": [
    "# Control-Z\n",
    "Number of qubits: 4\n",
    "ROTZ_1 RZ90 1\n",
    "ROTZ_2 RZ-90 2\n",
    "RSWAP_1_2 RSWAP 1 2\n",
    "ROTZ_1 RZ180 1 \n",
    "RSWAP_1_2 RSWAP 1 2\n",
    "\n",
    "# Control-NOT\n",
    "ROTY_2 RY-90 2\n",
    "---------------\n",
    "'Control-Z sequence from above'\n",
    "---------------\n",
    "ROTY_2 RY90 2"
   ]
  },
  {
   "cell_type": "code",
   "execution_count": null,
   "metadata": {},
   "outputs": [],
   "source": [
    "\n",
    "def main():\n",
    "    import os, sys\n",
    "    sys.path.append(os.path.dirname(os.getcwd()))\n",
    "    module_path = os.path.dirname(os.getcwd())\n",
    "    os.chdir(module_path)    \n",
    "\n",
    "    import qudipy.qutils.unitaries as qunit\n",
    "\n",
    "    import numpy as np\n",
    "    import matplotlib.pyplot as plt\n",
    "    \n",
    "    init_ops = {\n",
    "        'PAULI_X': np.array([[0, 1], [1, 0]], dtype=complex),\n",
    "        'PAULI_Y': np.array([[0, complex(-0.0, -1.0)], \n",
    "            [complex(0.0, 1.0), 0]],dtype=complex),\n",
    "        'PAULI_Z': np.array([[1, 0], [0, -1]], dtype=complex),\n",
    "        'PAULI_I': np.array([[1, 0], [0, 1]], dtype=complex)\n",
    "    }\n",
    "\n",
    "    # Initialize unitary object\n",
    "    ops = qunit.unitary(init_ops)\n",
    "    # Use if creating new dictionary from scratch\n",
    "    # ops = qunit.unitary()\n",
    "    \n",
    "    # define filename for unitary operators object\n",
    "    filename = 'Unitary Operators.npz'\n",
    "    # save operators object\n",
    "    ops.save_ops(filename)\n",
    "    \n",
    "    # load dictionary of operators from unitary object\n",
    "    ops.operators = ops.load_ops(filename)\n",
    "\n",
    "    # For error checks\n",
    "    # tutorial_ops = {\n",
    "    #     'unitary1':  np.array([[1, 0], [0, 1]], dtype=complex),\n",
    "    #     'unitary2':  0.5*np.array([[complex(1.0, -1.0), complex(1.0, 1.0)], \n",
    "    #         [complex(1.0, 1.0), complex(1.0, -1.0)]], dtype=complex),\n",
    "    #     'not-square':  np.array([[1, 0, 0], [0, 1, 0]], dtype=complex),\n",
    "    #     'not-complex':  np.array([[1, 0], [0, 1]], dtype=int),\n",
    "    #     'not-array':  [[-1, 0], [0, -1]],\n",
    "    #     'not-unitary':  np.array([[1, 0], [0, 2]], dtype=complex)\n",
    "    # }\n",
    "\n",
    "    tutorial_ops = {\n",
    "        'unitary1':  np.array([[1, 0], [0, 1]], dtype=complex),\n",
    "        'unitary2':  0.5*np.array([[complex(1.0, -1.0), complex(1.0, 1.0)], \n",
    "            [complex(1.0, 1.0), complex(1.0, -1.0)]], dtype=complex)\n",
    "    }\n",
    "\n",
    "    # Attempt to add new operators to exist operators dictionary\n",
    "    ops.add_operators(tutorial_ops)\n",
    "\n",
    "    print(ops.operators.keys())\n",
    "\n",
    "    # Remove no longer needed operators\n",
    "    op_names = ['unitary1','unitary2']\n",
    "\n",
    "    ops.remove_operators(op_names)\n",
    "    \n",
    "    print(ops.operators.keys())\n",
    "\n",
    "main()\n",
    "\n",
    "# if __name__ == \"__main__\":\n",
    "#     import cProfile\n",
    "#     cProfile.run('main()', \"output.dat\")\n",
    "\n",
    "#     import pstats\n",
    "#     from pstats import SortKey\n",
    "\n",
    "#     with open(\"output_time.txt\", \"w\") as f:\n",
    "#         p = pstats.Stats(\"output.dat\", stream=f)\n",
    "#         p.sort_stats(\"time\").print_stats()     \n",
    "        \n",
    "#     with open(\"output_calls.txt\", \"w\") as f:\n",
    "#         p = pstats.Stats(\"output.dat\", stream=f)\n",
    "#         p.sort_stats(\"calls\").print_stats()        \n",
    "           "
   ]
  },
  {
   "cell_type": "code",
   "execution_count": null,
   "metadata": {},
   "outputs": [],
   "source": []
  }
 ],
 "metadata": {
  "kernelspec": {
   "name": "python3",
   "display_name": "Python 3.8.3 64-bit ('base': conda)"
  },
  "language_info": {
   "codemirror_mode": {
    "name": "ipython",
    "version": 3
   },
   "file_extension": ".py",
   "mimetype": "text/x-python",
   "name": "python",
   "nbconvert_exporter": "python",
   "pygments_lexer": "ipython3",
   "version": "3.8.3"
  },
  "interpreter": {
   "hash": "e3145dc9b2a53ea5ac2494bc3b75f1aa28628e1ed5acacda692ef3a5045a8456"
  }
 },
 "nbformat": 4,
 "nbformat_minor": 4
}