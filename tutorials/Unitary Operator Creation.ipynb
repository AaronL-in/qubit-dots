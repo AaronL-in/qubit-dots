{
 "cells": [
  {
   "cell_type": "markdown",
   "source": [
    "# Unitary Operator Creation Tutorial"
   ],
   "metadata": {}
  },
  {
   "cell_type": "markdown",
   "source": [
    "This tutorial will teach you how to interface with the unitary class in unitaries.py to add/remove general unitary operators from the Unitary Operators.npz object file. The Unitary Operators.npz object contains a dictionary of unitary operators. The key expresses the name of the unitary while the value associated with the key is a complex valued array."
   ],
   "metadata": {}
  },
  {
   "cell_type": "markdown",
   "source": [
    "## 1. Add current location path and import packages\r\n",
    "\r\n",
    "If running this block of code several times then make sure to restart the Jupyter notebook each run."
   ],
   "metadata": {}
  },
  {
   "cell_type": "code",
   "execution_count": null,
   "source": [
    "import os, sys\r\n",
    "sys.path.append(os.path.dirname(os.getcwd()))\r\n",
    "\r\n",
    "# Change working driectory to \\QuDiPy rather than \\QuDiPy\\tutorials so that the \r\n",
    "# save operator object is save in working directory\r\n",
    "os.chdir(os.path.dirname(os.getcwd()))  \r\n",
    "\r\n",
    "import qudipy.qutils.unitaries as qunit\r\n",
    "\r\n",
    "import numpy as np\r\n",
    "import matplotlib.pyplot as plt"
   ],
   "outputs": [],
   "metadata": {}
  },
  {
   "cell_type": "markdown",
   "source": [
    "## 2. Initialize an operator object from the unitary class\r\n",
    "\r\n",
    "If no Unitary Operators.npz file exist an object, called ops, can be initialized with an hard coded operator dictionary or left as an empty dictionary. For the tutarial examples that follow you will use Unitary Operators Tutorial.npz object file which you will create now."
   ],
   "metadata": {}
  },
  {
   "cell_type": "code",
   "execution_count": null,
   "source": [
    "# Dictionary to initialize ops object with\r\n",
    "init_ops = {\r\n",
    "    'PAULI_X': np.array([[0, 1], [1, 0]], dtype=complex),\r\n",
    "    'PAULI_Y': np.array([[0, complex(-0.0, -1.0)], \r\n",
    "        [complex(0.0, 1.0), 0]],dtype=complex),\r\n",
    "    'PAULI_Z': np.array([[1, 0], [0, -1]], dtype=complex),\r\n",
    "    'PAULI_I': np.array([[1, 0], [0, 1]], dtype=complex)\r\n",
    "}\r\n",
    "\r\n",
    "# Initialize unitary object:\r\n",
    "\r\n",
    "# 1. With an existing dictionary\r\n",
    "ops = qunit.Unitary(init_ops)\r\n",
    "\r\n",
    "# 2. Creating new dictionary from scratch\r\n",
    "# ops = qunit.unitary()\r\n",
    "\r\n",
    "# Specify filename for unitary operators object\r\n",
    "filename = 'Unitary Operators Tutorial.npz'\r\n",
    "\r\n",
    "# Now you can save the object file using the save_ops() method\r\n",
    "ops.save_ops(filename)"
   ],
   "outputs": [],
   "metadata": {}
  },
  {
   "cell_type": "markdown",
   "source": [
    "## 3. Load operator object and unitary class usage examples"
   ],
   "metadata": {}
  },
  {
   "cell_type": "code",
   "execution_count": null,
   "source": [
    "# Load dictionary of operators from unitary object\r\n",
    "ops.operators = ops.load_ops(filename)\r\n",
    "\r\n",
    "# Now you can define an operator dictionary for unitary operators you wish to\r\n",
    "# add to the existing operator ops object\r\n",
    "tutorial_ops = {\r\n",
    "    'unitary1':  np.array([[1, 0], [0, 1]], dtype=complex),\r\n",
    "    'unitary2':  0.5*np.array([[complex(1.0, -1.0), complex(1.0, 1.0)], \r\n",
    "        [complex(1.0, 1.0), complex(1.0, -1.0)]], dtype=complex)\r\n",
    "}\r\n",
    "\r\n",
    "# Add new operators to exist operators dictionary\r\n",
    "ops.add_operators(tutorial_ops)\r\n",
    "\r\n",
    "print(ops.operators.keys())\r\n",
    "\r\n",
    "# Remove no longer needed operators\r\n",
    "op_names = ['unitary1','unitary2']\r\n",
    "\r\n",
    "ops.remove_operators(op_names)\r\n",
    "\r\n",
    "print(ops.operators.keys())       "
   ],
   "outputs": [],
   "metadata": {}
  },
  {
   "cell_type": "code",
   "execution_count": null,
   "source": [
    "# Operators must be square\r\n",
    "tutorial_ops = {\r\n",
    "    'not-square':  np.array([[1, 0, 0], [0, 1, 0]], dtype=complex)\r\n",
    "}\r\n",
    "\r\n",
    "# Add new operators to exist operators dictionary\r\n",
    "ops.add_operators(tutorial_ops)"
   ],
   "outputs": [],
   "metadata": {}
  },
  {
   "cell_type": "code",
   "execution_count": null,
   "source": [
    "# Operators must be complex valued\r\n",
    "tutorial_ops = {\r\n",
    "    'not-complex':  np.array([[1, 0], [0, 1]], dtype=int)\r\n",
    "}\r\n",
    "\r\n",
    "# Add new operators to exist operators dictionary\r\n",
    "ops.add_operators(tutorial_ops)"
   ],
   "outputs": [],
   "metadata": {}
  },
  {
   "cell_type": "code",
   "execution_count": null,
   "source": [
    "# Operators must be an array\r\n",
    "tutorial_ops = {\r\n",
    "    'not-array':  [[-1, 0], [0, -1]]\r\n",
    "}\r\n",
    "\r\n",
    "# Add new operators to exist operators dictionary\r\n",
    "ops.add_operators(tutorial_ops)"
   ],
   "outputs": [],
   "metadata": {}
  },
  {
   "cell_type": "code",
   "execution_count": null,
   "source": [
    "# Operators must be unitary\r\n",
    "tutorial_ops = {\r\n",
    "    'not-unitary':  np.array([[1, 0], [0, 2]], dtype=complex)\r\n",
    "}\r\n",
    "\r\n",
    "# Add new operators to exist operators dictionary\r\n",
    "ops.add_operators(tutorial_ops)"
   ],
   "outputs": [],
   "metadata": {}
  }
 ],
 "metadata": {
  "kernelspec": {
   "name": "python3",
   "display_name": "Python 3.8.3 64-bit ('QuDiPy': conda)"
  },
  "language_info": {
   "codemirror_mode": {
    "name": "ipython",
    "version": 3
   },
   "file_extension": ".py",
   "mimetype": "text/x-python",
   "name": "python",
   "nbconvert_exporter": "python",
   "pygments_lexer": "ipython3",
   "version": "3.8.3"
  },
  "interpreter": {
   "hash": "da6dda72914226e58fb144666c61ad59139f1f9928d1882fbc5ac49fe577ae39"
  }
 },
 "nbformat": 4,
 "nbformat_minor": 4
}