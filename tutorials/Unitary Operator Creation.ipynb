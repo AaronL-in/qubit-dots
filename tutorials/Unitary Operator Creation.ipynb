{
 "cells": [
  {
   "cell_type": "markdown",
   "source": [
    "# Unitary Operator Creation Tutorial"
   ],
   "metadata": {}
  },
  {
   "cell_type": "markdown",
   "source": [
    "This tutorial will teach you how to interface with the unitary class in matrices.py to add/remove general unitary operators from the Unitary Operators.npz object file. The Unitary Operators.npz object contains a dictionary of unitary operators. The key expresses the name of the unitary while the value associated with the key is a complex valued array. This tutorial will focus on creating and modifiying a unitary object file named Unitary Operators Tutorial.npz. There exist a copy of the file under the QuDiPy tutorial data directory."
   ],
   "metadata": {}
  },
  {
   "cell_type": "markdown",
   "source": [
    "## 1. Add current location path and import packages"
   ],
   "metadata": {}
  },
  {
   "cell_type": "code",
   "execution_count": 1,
   "source": [
    "import os, sys\r\n",
    "sys.path.append(os.path.dirname(os.getcwd()))\r\n",
    "\r\n",
    "original_dir = os.path.dirname(os.getcwd())\r\n",
    "print(original_dir)\r\n",
    "\r\n",
    "# This will be used to access a tutorial unitary object file\r\n",
    "tutorial_data_dir = original_dir + '//tutorials//QuDiPy tutorial data//'\r\n",
    "print(tutorial_data_dir)\r\n",
    "\r\n",
    "import qudipy.qutils.matrices as matr\r\n",
    "\r\n",
    "import numpy as np\r\n",
    "import matplotlib.pyplot as plt"
   ],
   "outputs": [
    {
     "output_type": "stream",
     "name": "stdout",
     "text": [
      "c:\\Users\\zmeri\\Documents\\GitHub\\QuDiPy-arbitrary-unitaries\n",
      "c:\\Users\\zmeri\\Documents\\GitHub\\QuDiPy-arbitrary-unitaries//tutorials//QuDiPy tutorial data//\n"
     ]
    }
   ],
   "metadata": {}
  },
  {
   "cell_type": "markdown",
   "source": [
    "## 2. Initialize an operator object from the unitary class\r\n",
    "\r\n",
    "If no Unitary Operators.npz file exist an object, called ops, can be initialized with an hard coded operator dictionary or left as an empty dictionary. For the tutarial examples that follow you will use Unitary Operators Tutorial.npz object file which you will create now."
   ],
   "metadata": {}
  },
  {
   "cell_type": "code",
   "execution_count": 2,
   "source": [
    "# Dictionary to initialize ops object with\r\n",
    "init_ops = {\r\n",
    "    'PAULI_X': np.array([[0, 1], [1, 0]], dtype=complex),\r\n",
    "    'PAULI_Y': np.array([[0, complex(-0.0, -1.0)], \r\n",
    "        [complex(0.0, 1.0), 0]],dtype=complex),\r\n",
    "    'PAULI_Z': np.array([[1, 0], [0, -1]], dtype=complex),\r\n",
    "    'PAULI_I_2x2': np.array([[1, 0], [0, 1]], dtype=complex),\r\n",
    "    'PAULI_I_4x4': np.array([[1, 0, 0, 0], \r\n",
    "                            [0, 1, 0, 0], \r\n",
    "                            [0, 0, 1, 0], \r\n",
    "                            [0, 0, 0, 1]], dtype=complex)\r\n",
    "}\r\n",
    "\r\n",
    "# Initialize unitary object:\r\n",
    "\r\n",
    "# change working directory to the tutorial data directory for loading/saving\r\n",
    "# files\r\n",
    "os.chdir(tutorial_data_dir)\r\n",
    "\r\n",
    "#### 1. With an existing dictionary but no object file ####\r\n",
    "ops1 = matr.Unitary(operators=init_ops, filename='')\r\n",
    "\r\n",
    "# Specify filename for unitary operators object\r\n",
    "filename = 'Unitary Operators Tutorial.npz'\r\n",
    "\r\n",
    "# Now you can save the object file to the tutorial data directory using the \r\n",
    "# save_ops() method\r\n",
    "ops1.save_ops(filename)\r\n",
    "\r\n",
    "# load dictionary of operators from unitary object\r\n",
    "ops1.operators = ops1.load_ops(filename=filename)\r\n",
    "\r\n",
    "print('Existing dictionary but no object file: {}'.format(ops1.operators.keys()))\r\n",
    "\r\n",
    "#### 2. With an existing dictionary and object file ####\r\n",
    "\r\n",
    "# Now you can define an operator dictionary for unitary operators you wish to\r\n",
    "# add to the existing operator ops object or initialize a new object with an\r\n",
    "# object file and user defined dictionary\r\n",
    "tutorial_ops = {\r\n",
    "    'unitary1':  np.array([[1, 0], [0, 1]], dtype=complex),\r\n",
    "    'unitary2':  0.5*np.array([[complex(1.0, -1.0), complex(1.0, 1.0)], \r\n",
    "        [complex(1.0, 1.0), complex(1.0, -1.0)]], dtype=complex)\r\n",
    "}\r\n",
    "\r\n",
    "ops2 = matr.Unitary(operators=tutorial_ops, filename='Unitary Operators Tutorial.npz')\r\n",
    "\r\n",
    "print('Existing dictionary and object file: {}'.format(ops2.operators.keys()))\r\n",
    "\r\n",
    "#### 3. With object file but no user defined dictionary ####\r\n",
    "ops3 = matr.Unitary(operators={}, filename='Unitary Operators Tutorial.npz')\r\n",
    "\r\n",
    "print('Object file but no user defined dictionary: {}'.format(ops3.operators.keys()))\r\n",
    "\r\n",
    "#### 4. With empty operators dictionary ####\r\n",
    "ops4 = matr.Unitary(operators={}, filename='')\r\n",
    "\r\n",
    "print('Empty operators dictionary: {}'.format(ops4.operators.keys()))\r\n"
   ],
   "outputs": [
    {
     "output_type": "stream",
     "name": "stdout",
     "text": [
      "Saved existing dictionary with unitary operators: dict_keys(['PAULI_X', 'PAULI_Y', 'PAULI_Z', 'PAULI_I_2x2', 'PAULI_I_4x4']).\n",
      "Loaded existing dictionary with unitary operators: dict_keys(['PAULI_X', 'PAULI_Y', 'PAULI_Z', 'PAULI_I_2x2', 'PAULI_I_4x4']).\n",
      "Existing dictionary but no object file: dict_keys(['PAULI_X', 'PAULI_Y', 'PAULI_Z', 'PAULI_I_2x2', 'PAULI_I_4x4'])\n",
      "Loaded existing dictionary with unitary operators: dict_keys(['PAULI_X', 'PAULI_Y', 'PAULI_Z', 'PAULI_I_2x2', 'PAULI_I_4x4']).\n",
      "Adding unitary operators: dict_keys(['PAULI_X', 'PAULI_Y', 'PAULI_Z', 'PAULI_I_2x2', 'PAULI_I_4x4']).\n",
      "Existing dictionary and object file: dict_keys(['unitary1', 'unitary2', 'PAULI_X', 'PAULI_Y', 'PAULI_Z', 'PAULI_I_2x2', 'PAULI_I_4x4'])\n",
      "Loaded existing dictionary with unitary operators: dict_keys(['PAULI_X', 'PAULI_Y', 'PAULI_Z', 'PAULI_I_2x2', 'PAULI_I_4x4']).\n",
      "Object file but no user defined dictionary: dict_keys(['PAULI_X', 'PAULI_Y', 'PAULI_Z', 'PAULI_I_2x2', 'PAULI_I_4x4'])\n",
      "Empty operators dictionary: dict_keys([])\n"
     ]
    }
   ],
   "metadata": {}
  },
  {
   "cell_type": "markdown",
   "source": [
    "## 3. Load operator object and unitary class usage examples"
   ],
   "metadata": {}
  },
  {
   "cell_type": "code",
   "execution_count": 3,
   "source": [
    "# Load dictionary of operators from unitary object\r\n",
    "ops1.operators = ops1.load_ops(filename)\r\n",
    "\r\n",
    "# Loading/saving unitary object file from tutorial data directory is done\r\n",
    "# so now we change the working directory back to the original\r\n",
    "os.chdir(original_dir)\r\n",
    "\r\n",
    "# Add new operators to exist operators dictionary\r\n",
    "ops1.add_operators(tutorial_ops)\r\n",
    "\r\n",
    "print(ops1.operators.keys())\r\n",
    "\r\n",
    "# Remove no longer needed operators\r\n",
    "op_names = ['unitary1','unitary2']\r\n",
    "\r\n",
    "ops1.remove_operators(op_names)\r\n",
    "\r\n",
    "print(ops1.operators.keys())       "
   ],
   "outputs": [
    {
     "output_type": "stream",
     "name": "stdout",
     "text": [
      "Loaded existing dictionary with unitary operators: dict_keys(['PAULI_X', 'PAULI_Y', 'PAULI_Z', 'PAULI_I_2x2', 'PAULI_I_4x4']).\n",
      "Adding unitary operators: dict_keys(['unitary1', 'unitary2']).\n",
      "dict_keys(['PAULI_X', 'PAULI_Y', 'PAULI_Z', 'PAULI_I_2x2', 'PAULI_I_4x4', 'unitary1', 'unitary2'])\n",
      "Removing unitary operators: ['unitary1', 'unitary2'].\n",
      "dict_keys(['PAULI_X', 'PAULI_Y', 'PAULI_Z', 'PAULI_I_2x2', 'PAULI_I_4x4'])\n"
     ]
    }
   ],
   "metadata": {}
  },
  {
   "cell_type": "code",
   "execution_count": 4,
   "source": [
    "# Operators must be square\r\n",
    "tutorial_ops = {\r\n",
    "    'not-square':  np.array([[1, 0, 0], [0, 1, 0]], dtype=complex)\r\n",
    "}\r\n",
    "\r\n",
    "# Add new operators to exist operators dictionary\r\n",
    "ops1.add_operators(tutorial_ops)"
   ],
   "outputs": [
    {
     "output_type": "stream",
     "name": "stdout",
     "text": [
      "Adding unitary operators: dict_keys(['not-square']).\n"
     ]
    },
    {
     "output_type": "error",
     "ename": "ValueError",
     "evalue": "Operator entry contains a non-sqaure array of size [2,3].",
     "traceback": [
      "\u001b[1;31m---------------------------------------------------------------------------\u001b[0m",
      "\u001b[1;31mValueError\u001b[0m                                Traceback (most recent call last)",
      "\u001b[1;32m<ipython-input-4-393e7e8cd1bc>\u001b[0m in \u001b[0;36m<module>\u001b[1;34m\u001b[0m\n\u001b[0;32m      5\u001b[0m \u001b[1;33m\u001b[0m\u001b[0m\n\u001b[0;32m      6\u001b[0m \u001b[1;31m# Add new operators to exist operators dictionary\u001b[0m\u001b[1;33m\u001b[0m\u001b[1;33m\u001b[0m\u001b[1;33m\u001b[0m\u001b[0m\n\u001b[1;32m----> 7\u001b[1;33m \u001b[0mops1\u001b[0m\u001b[1;33m.\u001b[0m\u001b[0madd_operators\u001b[0m\u001b[1;33m(\u001b[0m\u001b[0mtutorial_ops\u001b[0m\u001b[1;33m)\u001b[0m\u001b[1;33m\u001b[0m\u001b[1;33m\u001b[0m\u001b[0m\n\u001b[0m",
      "\u001b[1;32mc:\\Users\\zmeri\\Documents\\GitHub\\QuDiPy-arbitrary-unitaries\\qudipy\\qutils\\matrices.py\u001b[0m in \u001b[0;36madd_operators\u001b[1;34m(self, new_ops)\u001b[0m\n\u001b[0;32m    166\u001b[0m         \u001b[0mprint\u001b[0m\u001b[1;33m(\u001b[0m\u001b[1;34m\"Adding unitary operators: {}.\"\u001b[0m\u001b[1;33m.\u001b[0m\u001b[0mformat\u001b[0m\u001b[1;33m(\u001b[0m\u001b[0mnew_ops\u001b[0m\u001b[1;33m.\u001b[0m\u001b[0mkeys\u001b[0m\u001b[1;33m(\u001b[0m\u001b[1;33m)\u001b[0m\u001b[1;33m)\u001b[0m\u001b[1;33m)\u001b[0m\u001b[1;33m\u001b[0m\u001b[1;33m\u001b[0m\u001b[0m\n\u001b[0;32m    167\u001b[0m         \u001b[1;31m# Check the new operators\u001b[0m\u001b[1;33m\u001b[0m\u001b[1;33m\u001b[0m\u001b[1;33m\u001b[0m\u001b[0m\n\u001b[1;32m--> 168\u001b[1;33m         \u001b[0mself\u001b[0m\u001b[1;33m.\u001b[0m\u001b[0mcheck_ops\u001b[0m\u001b[1;33m(\u001b[0m\u001b[0mnew_ops\u001b[0m\u001b[1;33m)\u001b[0m\u001b[1;33m\u001b[0m\u001b[1;33m\u001b[0m\u001b[0m\n\u001b[0m\u001b[0;32m    169\u001b[0m         \u001b[1;31m# Merge existing dictionary with dictionary of new unitary operators\u001b[0m\u001b[1;33m\u001b[0m\u001b[1;33m\u001b[0m\u001b[1;33m\u001b[0m\u001b[0m\n\u001b[0;32m    170\u001b[0m         \u001b[0mself\u001b[0m\u001b[1;33m.\u001b[0m\u001b[0moperators\u001b[0m \u001b[1;33m=\u001b[0m \u001b[1;33m{\u001b[0m\u001b[1;33m**\u001b[0m\u001b[0mself\u001b[0m\u001b[1;33m.\u001b[0m\u001b[0moperators\u001b[0m\u001b[1;33m,\u001b[0m \u001b[1;33m**\u001b[0m\u001b[0mnew_ops\u001b[0m\u001b[1;33m}\u001b[0m\u001b[1;33m\u001b[0m\u001b[1;33m\u001b[0m\u001b[0m\n",
      "\u001b[1;32mc:\\Users\\zmeri\\Documents\\GitHub\\QuDiPy-arbitrary-unitaries\\qudipy\\qutils\\matrices.py\u001b[0m in \u001b[0;36mcheck_ops\u001b[1;34m(self, dict)\u001b[0m\n\u001b[0;32m     84\u001b[0m                 \u001b[1;31m# Ndarray is not a square matirx\u001b[0m\u001b[1;33m\u001b[0m\u001b[1;33m\u001b[0m\u001b[1;33m\u001b[0m\u001b[0m\n\u001b[0;32m     85\u001b[0m                 \u001b[1;32mif\u001b[0m \u001b[0mN\u001b[0m \u001b[1;33m!=\u001b[0m \u001b[0mM\u001b[0m\u001b[1;33m:\u001b[0m\u001b[1;33m\u001b[0m\u001b[1;33m\u001b[0m\u001b[0m\n\u001b[1;32m---> 86\u001b[1;33m                     raise ValueError(\"Operator entry contains a non-sqaure\"+\n\u001b[0m\u001b[0;32m     87\u001b[0m                         \" array of size [{},{}].\".format(N,M))\n\u001b[0;32m     88\u001b[0m \u001b[1;33m\u001b[0m\u001b[0m\n",
      "\u001b[1;31mValueError\u001b[0m: Operator entry contains a non-sqaure array of size [2,3]."
     ]
    }
   ],
   "metadata": {}
  },
  {
   "cell_type": "code",
   "execution_count": null,
   "source": [
    "# Operators must be complex valued\r\n",
    "tutorial_ops = {\r\n",
    "    'not-complex':  np.array([[1, 0], [0, 1]], dtype=int)\r\n",
    "}\r\n",
    "\r\n",
    "# Add new operators to exist operators dictionary\r\n",
    "ops1.add_operators(tutorial_ops)"
   ],
   "outputs": [],
   "metadata": {}
  },
  {
   "cell_type": "code",
   "execution_count": null,
   "source": [
    "# Operators must be an array\r\n",
    "tutorial_ops = {\r\n",
    "    'not-array':  [[-1, 0], [0, -1]]\r\n",
    "}\r\n",
    "\r\n",
    "# Add new operators to exist operators dictionary\r\n",
    "ops1.add_operators(tutorial_ops)"
   ],
   "outputs": [],
   "metadata": {}
  },
  {
   "cell_type": "code",
   "execution_count": null,
   "source": [
    "# Operators must be unitary\r\n",
    "tutorial_ops = {\r\n",
    "    'not-unitary':  np.array([[1, 0], [0, 2]], dtype=complex)\r\n",
    "}\r\n",
    "\r\n",
    "# Add new operators to exist operators dictionary\r\n",
    "ops1.add_operators(tutorial_ops)"
   ],
   "outputs": [],
   "metadata": {}
  }
 ],
 "metadata": {
  "kernelspec": {
   "name": "python3",
   "display_name": "Python 3.8.3 64-bit ('base': conda)"
  },
  "language_info": {
   "codemirror_mode": {
    "name": "ipython",
    "version": 3
   },
   "file_extension": ".py",
   "mimetype": "text/x-python",
   "name": "python",
   "nbconvert_exporter": "python",
   "pygments_lexer": "ipython3",
   "version": "3.8.3"
  },
  "interpreter": {
   "hash": "e3145dc9b2a53ea5ac2494bc3b75f1aa28628e1ed5acacda692ef3a5045a8456"
  }
 },
 "nbformat": 4,
 "nbformat_minor": 4
}