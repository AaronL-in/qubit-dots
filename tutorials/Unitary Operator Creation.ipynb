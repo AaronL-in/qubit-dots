{
 "cells": [
  {
   "cell_type": "markdown",
   "source": [
    "# Unitary Operator Creation Tutorial"
   ],
   "metadata": {}
  },
  {
   "cell_type": "markdown",
   "source": [
    "This tutorial will teach you how to interface with the unitary class in matrices.py to add/remove general unitary operators from the Unitary Operators.npz object file. The Unitary Operators.npz object contains a dictionary of unitary operators. The key expresses the name of the unitary while the value associated with the key is a complex valued array. This tutorial will focus on creating and modifiying a unitary object file named Unitary Operators Tutorial.npz. There exist a copy of the file under the QuDiPy tutorial data directory."
   ],
   "metadata": {}
  },
  {
   "cell_type": "markdown",
   "source": [
    "## 1. Add current location path and import packages"
   ],
   "metadata": {}
  },
  {
   "cell_type": "code",
   "execution_count": null,
   "source": [
    "import os, sys\r\n",
    "sys.path.append(os.path.dirname(os.getcwd()))\r\n",
    "\r\n",
    "original_dir = os.path.dirname(os.getcwd())\r\n",
    "print(original_dir)\r\n",
    "\r\n",
    "# This will be used to access a tutorial unitary object file\r\n",
    "tutorial_data_dir = original_dir + '//tutorials//QuDiPy tutorial data//'\r\n",
    "print(tutorial_data_dir)\r\n",
    "\r\n",
    "import qudipy.qutils.matrices as matr\r\n",
    "\r\n",
    "import numpy as np\r\n",
    "import matplotlib.pyplot as plt"
   ],
   "outputs": [],
   "metadata": {}
  },
  {
   "cell_type": "markdown",
   "source": [
    "## 2. Initialize an operator object from the unitary class\r\n",
    "\r\n",
    "If no Unitary Operators.npz file exist an object, called ops, can be initialized with an hard coded operator dictionary or left as an empty dictionary. For the tutarial examples that follow you will use Unitary Operators Tutorial.npz object file which you will create now."
   ],
   "metadata": {}
  },
  {
   "cell_type": "code",
   "execution_count": null,
   "source": [
    "# Dictionary to initialize ops object with\r\n",
    "init_ops = {\r\n",
    "    'PAULI_X': np.array([[0, 1], [1, 0]], dtype=complex),\r\n",
    "    'PAULI_Y': np.array([[0, complex(-0.0, -1.0)], \r\n",
    "        [complex(0.0, 1.0), 0]],dtype=complex),\r\n",
    "    'PAULI_Z': np.array([[1, 0], [0, -1]], dtype=complex),\r\n",
    "    'PAULI_I_2x2': np.array([[1, 0], [0, 1]], dtype=complex),\r\n",
    "    'PAULI_I_4x4': np.array([[1, 0, 0, 0], \r\n",
    "                            [0, 1, 0, 0], \r\n",
    "                            [0, 0, 1, 0], \r\n",
    "                            [0, 0, 0, 1]], dtype=complex)\r\n",
    "}\r\n",
    "\r\n",
    "# Initialize unitary object:\r\n",
    "\r\n",
    "# change working directory to the tutorial data directory for loading/saving\r\n",
    "# files\r\n",
    "os.chdir(tutorial_data_dir)\r\n",
    "\r\n",
    "#### 1. With an existing dictionary but no object file ####\r\n",
    "ops1 = matr.Unitary(operators=init_ops, filename='')\r\n",
    "\r\n",
    "# Specify filename for unitary operators object\r\n",
    "filename = 'Unitary Operators Tutorial.npz'\r\n",
    "\r\n",
    "# Now you can save the object file to the tutorial data directory using the \r\n",
    "# save_ops() method\r\n",
    "ops1.save_ops(filename)\r\n",
    "\r\n",
    "# load dictionary of operators from unitary object\r\n",
    "ops1.operators = ops1.load_ops(filename=filename)\r\n",
    "\r\n",
    "print('Existing dictionary but no object file: {}'.format(ops1.operators.keys()))\r\n",
    "\r\n",
    "#### 2. With an existing dictionary and object file ####\r\n",
    "\r\n",
    "# Now you can define an operator dictionary for unitary operators you wish to\r\n",
    "# add to the existing operator ops object or initialize a new object with an\r\n",
    "# object file and user defined dictionary\r\n",
    "tutorial_ops = {\r\n",
    "    'unitary1':  np.array([[1, 0], [0, 1]], dtype=complex),\r\n",
    "    'unitary2':  0.5*np.array([[complex(1.0, -1.0), complex(1.0, 1.0)], \r\n",
    "        [complex(1.0, 1.0), complex(1.0, -1.0)]], dtype=complex)\r\n",
    "}\r\n",
    "\r\n",
    "ops2 = matr.Unitary(operators=tutorial_ops, filename='Unitary Operators Tutorial.npz')\r\n",
    "\r\n",
    "print('Existing dictionary and object file: {}'.format(ops2.operators.keys()))\r\n",
    "\r\n",
    "#### 3. With object file but no user defined dictionary ####\r\n",
    "ops3 = matr.Unitary(operators={}, filename='Unitary Operators Tutorial.npz')\r\n",
    "\r\n",
    "print('Object file but no user defined dictionary: {}'.format(ops3.operators.keys()))\r\n",
    "\r\n",
    "#### 4. With empty operators dictionary ####\r\n",
    "ops4 = matr.Unitary(operators={}, filename='')\r\n",
    "\r\n",
    "print('Empty operators dictionary: {}'.format(ops4.operators.keys()))\r\n"
   ],
   "outputs": [],
   "metadata": {}
  },
  {
   "cell_type": "markdown",
   "source": [
    "## 3. Load operator object and unitary class usage examples"
   ],
   "metadata": {}
  },
  {
   "cell_type": "code",
   "execution_count": null,
   "source": [
    "# Load dictionary of operators from unitary object\r\n",
    "ops1.operators = ops1.load_ops(filename)\r\n",
    "\r\n",
    "# Loading/saving unitary object file from tutorial data directory is done\r\n",
    "# so now we change the working directory back to the original\r\n",
    "os.chdir(original_dir)\r\n",
    "\r\n",
    "# Add new operators to exist operators dictionary\r\n",
    "ops1.add_operators(tutorial_ops)\r\n",
    "\r\n",
    "print(ops1.operators.keys())\r\n",
    "\r\n",
    "# Remove no longer needed operators\r\n",
    "op_names = ['unitary1','unitary2']\r\n",
    "\r\n",
    "ops1.remove_operators(op_names)\r\n",
    "\r\n",
    "print(ops1.operators.keys())       "
   ],
   "outputs": [],
   "metadata": {}
  },
  {
   "cell_type": "code",
   "execution_count": null,
   "source": [
    "# Operators must be square\r\n",
    "tutorial_ops = {\r\n",
    "    'not-square':  np.array([[1, 0, 0], [0, 1, 0]], dtype=complex)\r\n",
    "}\r\n",
    "\r\n",
    "# Add new operators to exist operators dictionary\r\n",
    "ops1.add_operators(tutorial_ops)"
   ],
   "outputs": [],
   "metadata": {}
  },
  {
   "cell_type": "code",
   "execution_count": null,
   "source": [
    "# Operators must be complex valued\r\n",
    "tutorial_ops = {\r\n",
    "    'not-complex':  np.array([[1, 0], [0, 1]], dtype=int)\r\n",
    "}\r\n",
    "\r\n",
    "# Add new operators to exist operators dictionary\r\n",
    "ops1.add_operators(tutorial_ops)"
   ],
   "outputs": [],
   "metadata": {}
  },
  {
   "cell_type": "code",
   "execution_count": null,
   "source": [
    "# Operators must be an array\r\n",
    "tutorial_ops = {\r\n",
    "    'not-array':  [[-1, 0], [0, -1]]\r\n",
    "}\r\n",
    "\r\n",
    "# Add new operators to exist operators dictionary\r\n",
    "ops1.add_operators(tutorial_ops)"
   ],
   "outputs": [],
   "metadata": {}
  },
  {
   "cell_type": "code",
   "execution_count": null,
   "source": [
    "# Operators must be unitary\r\n",
    "tutorial_ops = {\r\n",
    "    'not-unitary':  np.array([[1, 0], [0, 2]], dtype=complex)\r\n",
    "}\r\n",
    "\r\n",
    "# Add new operators to exist operators dictionary\r\n",
    "ops1.add_operators(tutorial_ops)"
   ],
   "outputs": [],
   "metadata": {}
  }
 ],
 "metadata": {
  "kernelspec": {
   "name": "python3",
   "display_name": "Python 3.8.3 64-bit ('base': conda)"
  },
  "language_info": {
   "codemirror_mode": {
    "name": "ipython",
    "version": 3
   },
   "file_extension": ".py",
   "mimetype": "text/x-python",
   "name": "python",
   "nbconvert_exporter": "python",
   "pygments_lexer": "ipython3",
   "version": "3.8.3"
  },
  "interpreter": {
   "hash": "e3145dc9b2a53ea5ac2494bc3b75f1aa28628e1ed5acacda692ef3a5045a8456"
  }
 },
 "nbformat": 4,
 "nbformat_minor": 4
}