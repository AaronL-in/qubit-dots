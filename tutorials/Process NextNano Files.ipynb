{
 "cells": [
  {
   "cell_type": "markdown",
   "metadata": {},
   "source": [
    "# Pre-processing nextnano3D data and loading potentials tutorial\n",
    "\n",
    "This tutorial will show you how to use the potential module to pre-process <br />\n",
    "simulation data from nextnano3D. Specifically, take a 3D potnetial lanscape  <br />\n",
    "and process the data format to produce 2D slices at a user-specified  <br />\n",
    "z-coordinate for various control voltages used during the simulation runs. Next <br />\n",
    "the tutorial will show how to the load pre-processed 2D potential files."
   ]
  },
  {
   "cell_type": "markdown",
   "metadata": {},
   "source": [
    "## 1. Load the relevant modules and process the NextNano 3D data\n",
    "\n",
    "First the relavent modules are loaded."
   ]
  },
  {
   "cell_type": "code",
   "execution_count": null,
   "metadata": {
    "tags": []
   },
   "outputs": [],
   "source": [
    "import os, sys\n",
    "sys.path.append(os.path.dirname(os.getcwd()))\n",
    "\n",
    "import qudipy as qd\n",
    "import qudipy.potential as pot\n",
    "import qudipy.utils.helpers as hp\n",
    "\n",
    "import numpy as np\n",
    "import matplotlib.pyplot as plt"
   ]
  },
  {
   "cell_type": "code",
   "execution_count": null,
   "metadata": {},
   "outputs": [],
   "source": [
    "# Define the source directory for the nextnano3D simulation data.\n",
    "input_nextnano =    os.path.join(sys.path[0], 'QuDiPy tutorial data','Nextnano simulations test')\n",
    "# Define a directory location which will contain the pre-processed potential data for a given 2D slice. If this directory doesn't exist currently then it will be created.\n",
    "output_preprocessed = os.path.join(sys.path[0], 'QuDiPy tutorial data','Pre-processed potentials','Pre-processed_data')\n",
    "\n",
    "print(input_nextnano)\n",
    "print(output_preprocessed)"
   ]
  },
  {
   "cell_type": "markdown",
   "metadata": {},
   "source": [
    "\n",
    "Note the nextnano file structure:\n",
    "\n",
    "    /simulation_runs\n",
    "        /simulation_run_#_with_ctrl_names/values\n",
    "            /output directory\n",
    "                /data files\n",
    "\n",
    "Data file types to be referenced/imported: .coord, .dat, .fld\n",
    "\n",
    "Index the potential dictionary as follows:\n",
    "\n",
    "1. `potential[#]`: Returns a dictionary containing [control values, potential data, coordinate data] for the simulation run #.\n",
    "2. `potential[#]['ctrl_names']`: Returns the control values\n",
    "3. `potential[#]['ctrl_values']`: Returns the potential data\n",
    "4. `potential[#]['coord']`: Returns the coordinate data which is a dictionary with keys 'x','y', and 'z'.\n"
   ]
  },
  {
   "cell_type": "code",
   "execution_count": null,
   "metadata": {},
   "outputs": [],
   "source": [
    "# Import all of the neccessary potential data and meta data for the simulation runs.\n",
    "# Potential is a dictionary data type containing nested list.\n",
    "# Each element of the dictionary contains [list of control valuess, list of potential data, dictionary for x,y, and z cordinate data].\n",
    "potential = pot.process_nextnano.import_dir(input_nextnano, show_files=True)\n",
    "\n",
    "# Note the nested dictionary key structure\n",
    "print(potential.keys())\n",
    "print(potential[0]['ctrl_names'])\n",
    "print(potential[0]['ctrl_values'])\n",
    "print(potential[0]['coord'].keys())"
   ]
  },
  {
   "cell_type": "code",
   "execution_count": null,
   "metadata": {},
   "outputs": [],
   "source": [
    "# Enter the desired z coordinate to take a cross-section of the x-y plane. \n",
    "# The  slice along the z axis will be preformed for the nearest simulated z-coordinate to the user defined coordinate.\n",
    "z = 0.45\n",
    "\n",
    "# Now we define the field types we wish to write 2D slices for, either, potential or the electric field.\n",
    "pot.process_nextnano.write_data(input_nextnano,output_preprocessed, slice=z, f_type=['potential','field'])"
   ]
  },
  {
   "cell_type": "markdown",
   "metadata": {},
   "source": [
    "## 2. Ensure the NextNano potential files were converted as desired\n",
    "\n",
    "We need to specify the name of the folder that contains the potential files as well as the names for each potential file.\n",
    "\n",
    "The modules for process_nextnano take a user specified z-coordinate and finds the nearest slice which correspondes to a a simulated z-cooredinate."
   ]
  },
  {
   "cell_type": "code",
   "execution_count": null,
   "metadata": {},
   "outputs": [],
   "source": [
    "_, nearest_slice = hp.find_nearest(potential[0]['coord']['z'], z)"
   ]
  },
  {
   "cell_type": "markdown",
   "metadata": {},
   "source": [
    "Now we enter the name of the folder where the potential files are located and specify the control values. If the directory to the potential data is not specified as an argument the code defaults to the current working directory."
   ]
  },
  {
   "cell_type": "code",
   "execution_count": null,
   "metadata": {},
   "outputs": [],
   "source": [
    "pot_dir = output_preprocessed + '_for_nearest_slice{:.3e}'.format(nearest_slice)\n",
    "\n",
    "# Specify the control voltage names (C#NAME as mentioned above)\n",
    "ctrl_names = ['V1','V2','V3','V4','V5']\n",
    "\n",
    "# Specify the control voltage values you wish to load.\n",
    "# The cartesian product of all these supplied voltages will be loaded and MUST exist in the directory.\n",
    "V1 = [0.1]\n",
    "V2 = [0.2]\n",
    "V3 = [0.2]\n",
    "V4 = [0.2, 0.22, 0.24, 0.26]\n",
    "V5 = [0.1]\n",
    "\n",
    "ctrl_vals = [V1, V2, V3, V4, V5] \n",
    "\n",
    "# Or extract voltage values from the the imported nextnano data  \n",
    "ctrl_vals = pot.process_nextnano.get_ctrl_vals(potential)\n"
   ]
  },
  {
   "cell_type": "markdown",
   "metadata": {},
   "source": [
    "\n",
    " Now load the potentials for the newly created potential files. Load_files <br />\n",
    " returns a dictionary of all the information loaded:\n",
    " - **f_type:** says we are loading potential files <br />\n",
    "    (other option is to load electric field files)\n",
    " - **f_dir:** specifies where the files are located\n",
    " - **f_dis_units:** specifies the distance units the files are in. The function <br />\n",
    " will convert the units to [m].\n",
    " - **f_pot_units:** specifies the potential units the files are in. The function <br />\n",
    " will convert the units to [J]."
   ]
  },
  {
   "cell_type": "code",
   "execution_count": null,
   "metadata": {},
   "outputs": [],
   "source": [
    "\n",
    "loaded_data = pot.load_potentials(ctrl_vals, ctrl_names,\n",
    "                                  f_type='pot', f_dir=pot_dir,\n",
    "                                  f_dis_units='nm', f_pot_units='eV')\n",
    "# Additional keyword arguments are trim_x and trim_y which will trim the loaded potentials \n",
    "# to be only within the bounds specified by trim_x and trim_y\n",
    "\n",
    "# We can check the fields of the dictionary returned to see what is stored.\n",
    "loaded_data.keys()"
   ]
  },
  {
   "cell_type": "markdown",
   "metadata": {},
   "source": [
    "We can also go on to plot all of potential crossections along the x/y-planes for the choosen slice."
   ]
  },
  {
   "cell_type": "code",
   "execution_count": null,
   "metadata": {},
   "outputs": [],
   "source": [
    "\n",
    "fig = plt.figure(figsize=(12,8))\n",
    "ax1 = fig.add_subplot(121)\n",
    "ax2 = fig.add_subplot(122)\n",
    "\n",
    "# potential along x-axis at y-axis slice\n",
    "for i in range(np.shape(loaded_data['coords'][1])[0]):\n",
    "    ax1.plot(loaded_data['coords'][0].T/1E-9,loaded_data['potentials'][0][i,:].T)\n",
    "ax1.set(xlabel='x-coords [nm]', ylabel='1D potential [J]',\n",
    "title=f'Potentials along x-axis')  \n",
    "ax1.grid()  \n",
    "\n",
    "# potential along y-axis at x-axis slice\n",
    "for i in range(np.shape(loaded_data['coords'][0])[0]):\n",
    "    ax2.plot(loaded_data['coords'][1]/1E-9,loaded_data['potentials'][0][:,i])\n",
    "ax2.set(xlabel='y-coords [nm]', ylabel='1D potential [J]',\n",
    "title=f'Potentials along y-axis')\n",
    "ax2.grid()\n",
    "\n",
    "fig.tight_layout()       \n",
    "plt.show()\n",
    "\n",
    "# Now load the Electric field for the newly created potential files  \n",
    "loaded_data_field = pot.load_potentials(ctrl_vals, ctrl_names,\n",
    "                                  f_type='electric', f_dir=pot_dir,\n",
    "                                  f_dis_units='nm', f_pot_units='eV')\n",
    "\n",
    "# We can check the fields of the dictionary returned to see what is stored.\n",
    "loaded_data_field.keys()\n",
    "\n",
    "# We can also go on to plot all of potential crossections along the x/y-planes for the choosen slice.\n",
    "fig = plt.figure(figsize=(12,8))\n",
    "ax1 = fig.add_subplot(121)\n",
    "ax2 = fig.add_subplot(122)\n",
    "\n",
    "# potential along x-axis at y-axis slice\n",
    "for i in range(np.shape(loaded_data_field['coords'][1])[0]):\n",
    "    ax1.plot(loaded_data_field['coords'][0].T/1E-9,loaded_data_field['electric'][0][i,:].T)\n",
    "ax1.set(xlabel='x-coords [nm]', ylabel='1D Electric field [J]',\n",
    "title=f'Electric field along x-axis')  \n",
    "ax1.grid()  \n",
    "\n",
    "# potential along y-axis at x-axis slice\n",
    "for i in range(np.shape(loaded_data_field['coords'][0])[0]):\n",
    "    ax2.plot(loaded_data_field['coords'][1]/1E-9,loaded_data_field['electric'][0][:,i])\n",
    "ax2.set(xlabel='y-coords [nm]', ylabel='1D Electric field [J]',\n",
    "title=f'Electric field  along y-axis')\n",
    "ax2.grid()\n",
    "\n",
    "fig.tight_layout()       \n",
    "plt.show()"
   ]
  }
 ],
 "metadata": {
  "interpreter": {
   "hash": "da6dda72914226e58fb144666c61ad59139f1f9928d1882fbc5ac49fe577ae39"
  },
  "kernelspec": {
   "display_name": "Python 3.8.3 64-bit ('QuDiPy': conda)",
   "name": "python3"
  },
  "language_info": {
   "codemirror_mode": {
    "name": "ipython",
    "version": 3
   },
   "file_extension": ".py",
   "mimetype": "text/x-python",
   "name": "python",
   "nbconvert_exporter": "python",
   "pygments_lexer": "ipython3",
   "version": "3.10.0"
  }
 },
 "nbformat": 4,
 "nbformat_minor": 2
}
