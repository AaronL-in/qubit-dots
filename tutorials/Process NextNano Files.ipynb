{
 "cells": [
  {
   "cell_type": "markdown",
   "source": [
    "# Pre-processing nextnano3D data and loading potentials tutorial\n",
    "\n",
    "This tutorial will show you how to use the potential module to pre-process simulation data from nextnano3D. Specifically take a 3D potnetial lanscape and process the data format to produce 2D slices at a user specified z-coodinate for various control voltages used during the simulation runs. Next the tutorial will show how to the load pre-processed 2D potential files. Finally the tutorial creates a PotentialInterpolator object which allows us to find the potential landscape at arbitrary control voltage values."
   ],
   "metadata": {}
  },
  {
   "cell_type": "markdown",
   "source": [
    "Note: Make sure that the QuDiPy tutorial data from SharePoint or Teams is copied to the tutorials directory."
   ],
   "metadata": {}
  },
  {
   "cell_type": "markdown",
   "source": [
    "## 1. Load the relevant modules and process the NextNano 3D data\n",
    "\n",
    "First the relavent modules are loaded."
   ],
   "metadata": {}
  },
  {
   "cell_type": "code",
   "execution_count": null,
   "source": [
    "import os, sys\r\n",
    "sys.path.append(os.path.dirname(os.getcwd()))\r\n",
    "\r\n",
    "import qudipy as qd\r\n",
    "import qudipy.potential as pot\r\n",
    "\r\n",
    "import numpy as np\r\n",
    "import matplotlib.pyplot as plt"
   ],
   "outputs": [],
   "metadata": {
    "tags": []
   }
  },
  {
   "cell_type": "markdown",
   "source": [
    "# "
   ],
   "metadata": {}
  },
  {
   "cell_type": "code",
   "execution_count": null,
   "source": [
    "# Define the source directory for the nextnano3D simulation data.\r\n",
    "input_nextnano =    os.path.dirname(os.getcwd()) + '//tutorials//QuDiPy tutorial data//Nextnano simulations'\r\n",
    "# Define a directory location which will contain the pre-processed potential data for a given 2D slice. If this directory doesn't exist currently then it will be created.\r\n",
    "output_preprocessed = os.path.dirname(os.getcwd()) + '//tutorials//QuDiPy tutorial data//Pre-processed potentials//Pre-processed_data'\r\n",
    "\r\n",
    "print(input_nextnano)\r\n",
    "print(output_preprocessed)\r\n",
    "\r\n",
    "'''\r\n",
    "Note the nextnano file structure:\r\n",
    "\r\n",
    "    /simulation_runs\r\n",
    "        /simulation_run_#_with_ctrl_names/values\r\n",
    "            /output directory\r\n",
    "                /data files\r\n",
    "\r\n",
    "Data file types to be referenced/imported: .coord, .dat, .fld\r\n",
    "\r\n",
    "Index the potetnial list as follows:\r\n",
    "\r\n",
    "potential[#] -> returns a list containing [control values, potential data, coordinate data] for the simulation run #.\r\n",
    "potential[#][0] -> returns the control values\r\n",
    "potential[#][1] -> returns the potential data\r\n",
    "potential[#][2] -> returns the coordinate data which is a tuple\r\n",
    "'''\r\n",
    "\r\n",
    "# Import all of the neccessary potential data and meta data for the simulation runs.\r\n",
    "# Potetnial is a list data type containing nested list.\r\n",
    "# Each element of the list contains [list of control valuess, list of potential data, 3-tuple of lists for x,y, and z cordinate data].\r\n",
    "potential = pot.process_nextnano.import_folder(input_nextnano, option=True)\r\n",
    "\r\n"
   ],
   "outputs": [],
   "metadata": {}
  },
  {
   "cell_type": "code",
   "execution_count": null,
   "source": [
    "\r\n",
    "# Enter the desired z coordinate to take a crossection of the x-y plane. The slice chosen must be a z-coordinate provdied from the NextNano 3D simulation.\r\n",
    "# For example take a look at the z-cooranites range and select a desired value.\r\n",
    "coord = potential[0][2]\r\n",
    "z = coord[2][62]\r\n",
    "\r\n",
    "# Now we define the field types we wish to write 2D slices for. Either potential or the electric field.\r\n",
    "pot.process_nextnano.write_data(input_nextnano,output_preprocessed, slice=z, f_type=['potential','field'])"
   ],
   "outputs": [],
   "metadata": {}
  },
  {
   "cell_type": "markdown",
   "source": [
    "## 2. Ensure the NextNano potential files were converted as desired\n",
    "\n",
    "We need to specify the name of the folder that contains the potential files as well as the names for each potential file."
   ],
   "metadata": {}
  },
  {
   "cell_type": "code",
   "execution_count": null,
   "source": [
    "# Enter the name of the folder where the potential files are located. \r\n",
    "# If this argument is not supplied it will assume the current working directory.\r\n",
    "pot_dir = output_preprocessed + '_for_slice_{:.3e}'.format(z) + '/'\r\n",
    "\r\n",
    "\r\n",
    "# Specify the control voltage names (C#NAME as mentioned above)\r\n",
    "ctrl_names = ['V1','V2','V3','V4','V5']\r\n",
    "\r\n",
    "# Specify the control voltage values you wish to load.\r\n",
    "# The cartesian product of all these supplied voltages will be loaded and MUST exist in the directory.\r\n",
    "V1 = [0.1]\r\n",
    "V2 = [0.2]\r\n",
    "V3 = [0.2]\r\n",
    "V4 = [0.2, 0.22, 0.24, 0.26]\r\n",
    "V5 = [0.1]\r\n",
    "\r\n",
    "# Add all voltage values to a list\r\n",
    "ctrl_vals = [V1, V2, V3, V4, V5]    \r\n",
    "\r\n",
    "# Or extract voltage values from the the imported nextnano data  \r\n",
    "ctrl_vals = pot.process_nextnano.retrieve_ctrl_vals(potential)\r\n",
    "\r\n",
    "\r\n",
    "# Now load the potentials for the newly created potential files  \r\n",
    "# load_files returns a dictionary of all the information loaded\r\n",
    "# f_type says we are loading potential files (other option is to load electric field files)\r\n",
    "# f_dir specifies where the files are located\r\n",
    "# f_dis_units specifies the distance units the files are in. The function will convert the units to [m].\r\n",
    "# f_pot_units specifies the potential units the files are in. The function will convert the units to [J].\r\n",
    "loaded_data = pot.load_potentials(ctrl_vals, ctrl_names,\r\n",
    "                                  f_type='pot', f_dir=pot_dir,\r\n",
    "                                  f_dis_units='nm', f_pot_units='eV')\r\n",
    "# Additional keyword arguments are trim_x and trim_y which will trim the loaded potentials \r\n",
    "# to be only within the bounds specified by trim_x and trim_y\r\n",
    "\r\n",
    "# We can check the fields of the dictionary returned to see what is stored.\r\n",
    "loaded_data.keys()\r\n",
    "\r\n",
    "# We can also go on to plot all of potential crossections along the x/y-planes for the choosen slice.\r\n",
    "fig = plt.figure(figsize=(12,8))\r\n",
    "ax1 = fig.add_subplot(121)\r\n",
    "ax2 = fig.add_subplot(122)\r\n",
    "\r\n",
    "# potential along x-axis at y-axis slice\r\n",
    "for i in range(np.shape(loaded_data['coords'][1])[0]):\r\n",
    "    ax1.plot(loaded_data['coords'][0].T/1E-9,loaded_data['potentials'][0][i,:].T)\r\n",
    "ax1.set(xlabel='x-coords [nm]', ylabel='1D potential [J]',\r\n",
    "title=f'Potentials along x-axis')  \r\n",
    "ax1.grid()  \r\n",
    "\r\n",
    "# potential along y-axis at x-axis slice\r\n",
    "for i in range(np.shape(loaded_data['coords'][0])[0]):\r\n",
    "    ax2.plot(loaded_data['coords'][1]/1E-9,loaded_data['potentials'][0][:,i])\r\n",
    "ax2.set(xlabel='y-coords [nm]', ylabel='1D potential [J]',\r\n",
    "title=f'Potentials along y-axis')\r\n",
    "ax2.grid()\r\n",
    "\r\n",
    "fig.tight_layout()       \r\n",
    "plt.show()"
   ],
   "outputs": [],
   "metadata": {}
  },
  {
   "cell_type": "code",
   "execution_count": null,
   "source": [],
   "outputs": [],
   "metadata": {}
  }
 ],
 "metadata": {
  "kernelspec": {
   "name": "python3",
   "display_name": "Python 3.8.3 64-bit ('QuDiPy': conda)"
  },
  "language_info": {
   "codemirror_mode": {
    "name": "ipython",
    "version": 3
   },
   "file_extension": ".py",
   "mimetype": "text/x-python",
   "name": "python",
   "nbconvert_exporter": "python",
   "pygments_lexer": "ipython3",
   "version": "3.8.3"
  },
  "interpreter": {
   "hash": "da6dda72914226e58fb144666c61ad59139f1f9928d1882fbc5ac49fe577ae39"
  }
 },
 "nbformat": 4,
 "nbformat_minor": 2
}