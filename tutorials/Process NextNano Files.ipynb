{
 "cells": [
  {
   "cell_type": "markdown",
   "metadata": {},
   "source": [
    "# Pre-processing nextnano3D data and loading potentials tutorial\n",
    "\n",
    "This tutorial will show you how to use the potential module to pre-process simulation data from nextnano3D. Specifically take a 3D potnetial lanscape and process the data format to produce 2D slices at a user specified z-coodinate for various control voltages used during the simulation runs. Next the tutorial will show how to the load pre-processed 2D potential files. Finally the tutorial creates a PotentialInterpolator object which allows us to find the potential landscape at arbitrary control voltage values."
   ]
  },
  {
   "cell_type": "markdown",
   "metadata": {},
   "source": [
    "Note: Make sure that the QuDiPy tutorial data from SharePoint or Teams is copied to the tutorials directory."
   ]
  },
  {
   "cell_type": "markdown",
   "metadata": {},
   "source": [
    "## 1. Load the relevant modules and process the NextNano 3D data\n",
    "\n",
    "First the relavent modules are loaded."
   ]
  },
  {
   "cell_type": "code",
   "execution_count": null,
   "metadata": {
    "tags": []
   },
   "outputs": [],
   "source": [
    "import os, sys\n",
    "sys.path.append(os.path.dirname(os.getcwd()))\n",
    "\n",
    "import qudipy as qd\n",
    "import qudipy.potential as pot\n",
    "\n",
    "import numpy as np\n",
    "import matplotlib.pyplot as plt"
   ]
  },
  {
   "cell_type": "markdown",
   "metadata": {},
   "source": [
    "# "
   ]
  },
  {
   "cell_type": "code",
   "execution_count": null,
   "metadata": {},
   "outputs": [],
   "source": [
    "# Define the source directory for the nextnano3D simulation data.\n",
    "input_nextnano =    os.path.join(sys.path[0], 'QuDiPy tutorial data','Nextnano simulations')\n",
    "# Define a directory location which will contain the pre-processed potential data for a given 2D slice. If this directory doesn't exist currently then it will be created.\n",
    "output_preprocessed = os.path.join(sys.path[0], 'QuDiPy tutorial data','Pre-processed potentials','Pre-processed_data')\n",
    "\n",
    "# Temporary: For Bohdan\n",
    "input_nextnano = os.path.join(sys.path[0],'QuDiPy tutorial data','Nextnano simulations','1_dot_P_0p5_0p7')\n",
    "output_preprocessed = os.path.join(sys.path[0],'QuDiPy tutorial data','Pre-processed potentials','Pre-processed_data')\n",
    "\n",
    "print(input_nextnano)\n",
    "print(output_preprocessed)\n",
    "\n",
    "'''\n",
    "Note the nextnano file structure:\n",
    "\n",
    "    /simulation_runs\n",
    "        /simulation_run_#_with_ctrl_names/values\n",
    "            /output directory\n",
    "                /data files\n",
    "\n",
    "Data file types to be referenced/imported: .coord, .dat, .fld\n",
    "\n",
    "Index the potetnial list as follows:\n",
    "\n",
    "potential[#] -> returns a list containing [control values, potential data, coordinate data] for the simulation run #.\n",
    "potential[#][0] -> returns the control values\n",
    "potential[#][1] -> returns the potential data\n",
    "potential[#][2] -> returns the coordinate data which is a tuple\n",
    "'''\n",
    "\n",
    "# Import all of the neccessary potential data and meta data for the simulation runs.\n",
    "# Potetnial is a list data type containing nested list.\n",
    "# Each element of the list contains [list of control valuess, list of potential data, 3-tuple of lists for x,y, and z cordinate data].\n",
    "potential = pot.process_nextnano.import_folder(input_nextnano, option=True)\n",
    "\n",
    "print(np.shape(potential))\n",
    "\n",
    "print(potential)\n"
   ]
  },
  {
   "cell_type": "code",
   "execution_count": null,
   "metadata": {},
   "outputs": [],
   "source": [
    "\n",
    "# Enter the desired z coordinate to take a crossection of the x-y plane. The slice chosen must be a z-coordinate provdied from the NextNano 3D simulation.\n",
    "# For example take a look at the z-cooranites range and select a desired value.\n",
    "coord = potential[0][2]\n",
    "z = coord[2][62]\n",
    "\n",
    "# Now we define the field types we wish to write 2D slices for. Either potential or the electric field.\n",
    "pot.process_nextnano.write_data(input_nextnano,output_preprocessed, slice=z, f_type=['potential','field'])"
   ]
  },
  {
   "cell_type": "markdown",
   "metadata": {},
   "source": [
    "## 2. Ensure the NextNano potential files were converted as desired\n",
    "\n",
    "We need to specify the name of the folder that contains the potential files as well as the names for each potential file."
   ]
  },
  {
   "cell_type": "code",
   "execution_count": null,
   "metadata": {},
   "outputs": [],
   "source": [
    "# Enter the name of the folder where the potential files are located. \n",
    "# If this argument is not supplied it will assume the current working directory.\n",
    "pot_dir = output_preprocessed + '_for_slice_{:.3e}'.format(z) + '/'\n",
    "\n",
    "# Specify the control voltage names (C#NAME as mentioned above)\n",
    "ctrl_names = ['V1','V2','V3','V4','V5']\n",
    "\n",
    "# Specify the control voltage values you wish to load.\n",
    "# The cartesian product of all these supplied voltages will be loaded and MUST exist in the directory.\n",
    "V1 = [0.1]\n",
    "V2 = [0.2]\n",
    "V3 = [0.2]\n",
    "V4 = [0.2, 0.22, 0.24, 0.26]\n",
    "V5 = [0.1]\n",
    "\n",
    "\n",
    "ctrl_vals = [V1, V2, V3, V4, V5] \n",
    "\n",
    "# Temporary: For Bohdan\n",
    "ctrl_names = ['VP']\n",
    "VP = [0.5, 0.525, 0.55, 0.575, 0.6, 0.625, 0.65, 0.7]\n",
    "ctrl_vals = [VP]   \n",
    "\n",
    "# Or extract voltage values from the the imported nextnano data  \n",
    "ctrl_vals = pot.process_nextnano.retrieve_ctrl_vals(potential)\n",
    "\n",
    "# Now load the potentials for the newly created potential files  \n",
    "# load_files returns a dictionary of all the information loaded\n",
    "# f_type says we are loading potential files (other option is to load electric field files)\n",
    "# f_dir specifies where the files are located\n",
    "# f_dis_units specifies the distance units the files are in. The function will convert the units to [m].\n",
    "# f_pot_units specifies the potential units the files are in. The function will convert the units to [J].\n",
    "loaded_data = pot.load_potentials(ctrl_vals, ctrl_names,\n",
    "                                  f_type='pot', f_dir=pot_dir,\n",
    "                                  f_dis_units='nm', f_pot_units='eV')\n",
    "# Additional keyword arguments are trim_x and trim_y which will trim the loaded potentials \n",
    "# to be only within the bounds specified by trim_x and trim_y\n",
    "\n",
    "# We can check the fields of the dictionary returned to see what is stored.\n",
    "loaded_data.keys()\n",
    "\n",
    "# We can also go on to plot all of potential crossections along the x/y-planes for the choosen slice.\n",
    "fig = plt.figure(figsize=(12,8))\n",
    "ax1 = fig.add_subplot(121)\n",
    "ax2 = fig.add_subplot(122)\n",
    "\n",
    "# potential along x-axis at y-axis slice\n",
    "for i in range(np.shape(loaded_data['coords'][1])[0]):\n",
    "    ax1.plot(loaded_data['coords'][0].T/1E-9,loaded_data['potentials'][0][i,:].T)\n",
    "ax1.set(xlabel='x-coords [nm]', ylabel='1D potential [J]',\n",
    "title=f'Potentials along x-axis')  \n",
    "ax1.grid()  \n",
    "\n",
    "# potential along y-axis at x-axis slice\n",
    "for i in range(np.shape(loaded_data['coords'][0])[0]):\n",
    "    ax2.plot(loaded_data['coords'][1]/1E-9,loaded_data['potentials'][0][:,i])\n",
    "ax2.set(xlabel='y-coords [nm]', ylabel='1D potential [J]',\n",
    "title=f'Potentials along y-axis')\n",
    "ax2.grid()\n",
    "\n",
    "fig.tight_layout()       \n",
    "plt.show()\n",
    "\n",
    "# Now load the Electric field for the newly created potential files  \n",
    "loaded_data_field = pot.load_potentials(ctrl_vals, ctrl_names,\n",
    "                                  f_type='electric', f_dir=pot_dir,\n",
    "                                  f_dis_units='nm', f_pot_units='eV')\n",
    "\n",
    "# We can check the fields of the dictionary returned to see what is stored.\n",
    "loaded_data_field.keys()\n",
    "\n",
    "# We can also go on to plot all of potential crossections along the x/y-planes for the choosen slice.\n",
    "fig = plt.figure(figsize=(12,8))\n",
    "ax1 = fig.add_subplot(121)\n",
    "ax2 = fig.add_subplot(122)\n",
    "\n",
    "# potential along x-axis at y-axis slice\n",
    "for i in range(np.shape(loaded_data_field['coords'][1])[0]):\n",
    "    ax1.plot(loaded_data_field['coords'][0].T/1E-9,loaded_data_field['electric'][0][i,:].T)\n",
    "ax1.set(xlabel='x-coords [nm]', ylabel='1D Electric field [J]',\n",
    "title=f'Electric field along x-axis')  \n",
    "ax1.grid()  \n",
    "\n",
    "# potential along y-axis at x-axis slice\n",
    "for i in range(np.shape(loaded_data_field['coords'][0])[0]):\n",
    "    ax2.plot(loaded_data_field['coords'][1]/1E-9,loaded_data_field['electric'][0][:,i])\n",
    "ax2.set(xlabel='y-coords [nm]', ylabel='1D Electric field [J]',\n",
    "title=f'Electric field  along y-axis')\n",
    "ax2.grid()\n",
    "\n",
    "fig.tight_layout()       \n",
    "plt.show()"
   ]
  }
 ],
 "metadata": {
  "interpreter": {
   "hash": "da6dda72914226e58fb144666c61ad59139f1f9928d1882fbc5ac49fe577ae39"
  },
  "kernelspec": {
   "display_name": "Python 3.8.3 64-bit ('QuDiPy': conda)",
   "name": "python3"
  },
  "language_info": {
   "codemirror_mode": {
    "name": "ipython",
    "version": 3
   },
   "file_extension": ".py",
   "mimetype": "text/x-python",
   "name": "python",
   "nbconvert_exporter": "python",
   "pygments_lexer": "ipython3",
   "version": "3.8.3"
  }
 },
 "nbformat": 4,
 "nbformat_minor": 2
}
