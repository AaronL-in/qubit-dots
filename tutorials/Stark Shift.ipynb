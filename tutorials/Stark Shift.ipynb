{
 "metadata": {
  "language_info": {
   "codemirror_mode": {
    "name": "ipython",
    "version": 3
   },
   "file_extension": ".py",
   "mimetype": "text/x-python",
   "name": "python",
   "nbconvert_exporter": "python",
   "pygments_lexer": "ipython3",
   "version": "3.8.1-final"
  },
  "orig_nbformat": 2,
  "kernelspec": {
   "name": "python38164bit7d9328e44e4c4f40a94d676128d856d7",
   "display_name": "Python 3.8.1 64-bit",
   "language": "python"
  }
 },
 "nbformat": 4,
 "nbformat_minor": 2,
 "cells": [
  {
   "source": [
    "# QuDiPy tutorial: Using the Stark shift module\n",
    "\n",
    "This tutorial will show how to use the Strak shift module to determine the deviation in $g$-factor arising from an applied electric field in the z-direction, where the plane of a device would be in the xy-plane.\n",
    "\n",
    "In this tutorial, we will be defining the potential and the electric field that the dot(s) reside in analytically and therefor the xy-confining potential and the z-direction electric field will be decoupled. However, in practice with NextNano potential, these two values will not be decoupled. The goal is to make this tutorial with NextNano potentials in due time,\n",
    "\n",
    "In order for the file to not be too large, the output of the cells has been cleared so you will need to run the cells on your local machine to see the output.\n",
    "\n",
    "## 1. Add the current location to path\n",
    "In order for this tutorial to work, you will need to run this from the tutorials folder."
   ],
   "cell_type": "markdown",
   "metadata": {}
  },
  {
   "cell_type": "code",
   "execution_count": null,
   "metadata": {},
   "outputs": [],
   "source": [
    "import os, sys\n",
    "sys.path.append(os.path.dirname(os.getcwd()))"
   ]
  },
  {
   "source": [
    "## 2. Import the relevant modules and set plotting parameters"
   ],
   "cell_type": "markdown",
   "metadata": {}
  },
  {
   "cell_type": "code",
   "execution_count": null,
   "metadata": {},
   "outputs": [],
   "source": [
    "# From module\n",
    "import qudipy as qd\n",
    "import qudipy.potential as pot\n",
    "import qudipy.qutils as qt\n",
    "import qudipy.starkshift as ss\n",
    "\n",
    "# From external libraries\n",
    "import numpy as np\n",
    "import matplotlib.pyplot as plt"
   ]
  },
  {
   "source": [
    "## 3. Single dot \n",
    "### 3.a) Define the potential where dots will be located\n",
    "\n",
    "First, we must define the xy-potential where the dots will reside. For this tutorial, we will have a single dot in harmonic potential. This potential is analytically defined, but any potential can be used."
   ],
   "cell_type": "markdown",
   "metadata": {}
  },
  {
   "cell_type": "code",
   "execution_count": null,
   "metadata": {},
   "outputs": [],
   "source": [
    "consts=qd.Constants(\"Si/SiO2\")\n",
    "\n",
    "# Create control voltage names and variables the same way you would normally\n",
    "ctrl_names = ['V1']\n",
    "\n",
    "V1 = [0.2, 0.22, 0.24, 0.26, 0.28]\n",
    "\n",
    "ctrl_vals = [V1]\n",
    "\n",
    "# Specify the x and y points you would like to have in a grid\n",
    "x = np.arange(-60e-9, 60e-9, 1e-9)\n",
    "y = np.arange(-60e-9, 60e-9, 1e-9)\n",
    "\n",
    "# Create the function which defines the potential, with the control variables as the first argument and\n",
    "# a GridParameters object as the second argument\n",
    "\n",
    "def create_potentials(cvals, gparams):\n",
    "    # Get coordinates from mesh\n",
    "    x_pot = gparams.x_mesh\n",
    "    y_pot = gparams.y_mesh\n",
    "\n",
    "    # Get voltages out from the control valriables\n",
    "    v_1 = cvals[0]\n",
    "\n",
    "    # Convert (linear conversion) from volrages to chemical potentials\n",
    "    # This is just a linear relationship\n",
    "    lever_arm_1 = 1\n",
    "    mu_1 = v_1 * lever_arm_1 * consts.e\n",
    "\n",
    "    # Define frequency of harmonic oscillators (picked for )\n",
    "    omega_1 = 5e12\n",
    "    \n",
    "    # Define the potential\n",
    "    potential = 1/2 * consts.me * omega_1**2 * (np.square(x_pot) + np.square(y_pot)) - mu_1\n",
    "\n",
    "    return potential\n",
    "\n",
    "# Create the analytical potential using the variables defined above\n",
    "analytic_potential = pot.load_data.analytical_potential(ctrl_vals, ctrl_names, create_potentials, x, y)\n",
    "\n",
    "# Build the interpolator\n",
    "pot_interp = pot.build_interpolator(analytic_potential, constants=qd.Constants(\"Si/SiO2\"))\n",
    "\n",
    "# Now specify the potentials to interpolate around\n",
    "v_vec = [0.25]\n",
    "\n",
    "# Return the potential interpolated (or calculated) at that particular value\n",
    "new_pot = pot_interp(v_vec)\n",
    "\n",
    "# Plot the 2D potential\n",
    "pot_interp.plot(v_vec)\n"
   ]
  },
  {
   "source": [
    "### 3.b) Solve Schrodinger equation in potential"
   ],
   "cell_type": "markdown",
   "metadata": {}
  },
  {
   "cell_type": "code",
   "execution_count": null,
   "metadata": {},
   "outputs": [],
   "source": [
    "gparams = pot.GridParameters(x, y)\n",
    "gparams.update_potential(new_pot)\n",
    "\n",
    "e_ens, e_vecs = qt.solvers.solve_schrodinger_eq(consts, gparams, n_sols=1)\n",
    "\n",
    "ground_state = e_vecs[:,:,0]\n",
    "\n",
    "fig, axes = plt.subplots(1, 1, figsize=(10, 6))\n",
    "\n",
    "fig.subplots_adjust(hspace=0.4, wspace=0.25)\n",
    "\n",
    "axes.imshow(np.real(np.multiply(ground_state, ground_state.conj())), cmap='viridis', \n",
    "            extent=[gparams.x.min()/1E-9, gparams.x.max()/1E-9,\n",
    "                    gparams.y.min()/1E-9, gparams.y.max()/1E-9])\n",
    "axes.set_title(\"State: \"+str(0))\n",
    "axes.set(xlabel='x-coords [nm]',ylabel='y-coords [nm]')\n",
    "\n",
    "plt.show()"
   ]
  },
  {
   "source": [
    "### 3.c) Define electric field"
   ],
   "cell_type": "markdown",
   "metadata": {}
  },
  {
   "cell_type": "code",
   "execution_count": null,
   "metadata": {},
   "outputs": [],
   "source": [
    "e_field = np.full(ground_state.shape, 28e6)\n",
    "delta_g = ss.starkshift.delta_g(gparams, ground_state, e_field)\n",
    "print(delta_g)"
   ]
  },
  {
   "source": [
    "### 3.d) Calculate expectation value of field"
   ],
   "cell_type": "markdown",
   "metadata": {}
  }
 ]
}